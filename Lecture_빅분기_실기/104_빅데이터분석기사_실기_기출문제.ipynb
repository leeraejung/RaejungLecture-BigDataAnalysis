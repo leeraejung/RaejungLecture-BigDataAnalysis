{
 "cells": [
  {
   "cell_type": "markdown",
   "id": "9ac946fb",
   "metadata": {},
   "source": [
    "# 빅데이터 분석 기사 실기 - 기출문제"
   ]
  },
  {
   "cell_type": "markdown",
   "id": "da9623f7",
   "metadata": {},
   "source": [
    "---"
   ]
  },
  {
   "cell_type": "markdown",
   "id": "04ae4b9d",
   "metadata": {},
   "source": [
    "## 기출문제 6회"
   ]
  },
  {
   "cell_type": "markdown",
   "id": "5b10cd9b",
   "metadata": {
    "id": "shWWLB-fZmKQ"
   },
   "source": [
    "### 제1유형"
   ]
  },
  {
   "cell_type": "markdown",
   "id": "90f9c775",
   "metadata": {
    "id": "shWWLB-fZmKQ"
   },
   "source": [
    "#### 제1유형: 1\n",
    "각 구급 보고서 별 출동시각과 신고시각의 차이를 ‘소요시간’ 컬럼을 만들어 초(sec)단위로 구하고,  \n",
    "소방서명 별 소요시간의 평균을 오름차순으로 정렬 했을때 3번째로 작은 소요시간의 값과 소방서명을 출력하라."
   ]
  },
  {
   "cell_type": "markdown",
   "id": "ba60ac79",
   "metadata": {
    "id": "shWWLB-fZmKQ"
   },
   "source": [
    "#### 제1유형: 2\n",
    "학교 세부유형이 일반중학교인 학교들 중 일반중학교 숫자가 2번째로 많은 시도의 일반중학교 데이터만 골라서,  \n",
    "해당 시도의 교원 한명 당 맡은 학생수가 가장 많은 학교를 찾아 해당 학교의 교원수를 출력하라."
   ]
  },
  {
   "cell_type": "markdown",
   "id": "5d7afb84",
   "metadata": {
    "id": "shWWLB-fZmKQ"
   },
   "source": [
    "#### 제1유형: 3\n",
    "5대 범죄(절도, 사기, 배임, 방화, 폭행)의 월별 총 발생건수를 총범죄수라고 표현하자.  \n",
    "2018, 2019년의 각각 분기별 총범죄수의 월평균 값을 구했을때 최대값을 가지는 년도와 분기를 구하고   \n",
    "해당 분기의 최댓값의 사기가 발생한 월의 사기 발생건수를 출력하라.  \n",
    "- 1분기: 1,2,3월\n",
    "- 2분기: 4,5,6월\n",
    "- 3분기: 7,8,9월\n",
    "- 4분기: 10,11,12월\n",
    "- 1분기 월평균 : 1,2,3월의 총범죄수 평균"
   ]
  },
  {
   "cell_type": "markdown",
   "id": "a51f0171",
   "metadata": {},
   "source": [
    "---"
   ]
  },
  {
   "cell_type": "markdown",
   "id": "84aed2d7",
   "metadata": {
    "id": "shWWLB-fZmKQ"
   },
   "source": [
    "#### 제1유형: 1\n",
    "각 구급 보고서 별 출동시각과 신고시각의 차이를 ‘소요시간’ 컬럼을 만들어 초(sec)단위로 구하고,  \n",
    "소방서명 별 소요시간의 평균을 오름차순으로 정렬 했을때 3번째로 작은 소요시간의 값과 소방서명을 출력하라."
   ]
  },
  {
   "cell_type": "code",
   "execution_count": 1,
   "id": "01fcb4c1",
   "metadata": {
    "colab": {
     "base_uri": "https://localhost:8080/"
    },
    "id": "ZOF6hHLuY_Kf",
    "outputId": "f380af88-5bef-437c-b3da-33d62dd612ad"
   },
   "outputs": [],
   "source": [
    "import numpy as np\n",
    "import pandas as pd"
   ]
  },
  {
   "cell_type": "code",
   "execution_count": 2,
   "id": "45cc9241",
   "metadata": {
    "colab": {
     "base_uri": "https://localhost:8080/"
    },
    "id": "ZOF6hHLuY_Kf",
    "outputId": "f380af88-5bef-437c-b3da-33d62dd612ad"
   },
   "outputs": [
    {
     "data": {
      "text/html": [
       "<div>\n",
       "<style scoped>\n",
       "    .dataframe tbody tr th:only-of-type {\n",
       "        vertical-align: middle;\n",
       "    }\n",
       "\n",
       "    .dataframe tbody tr th {\n",
       "        vertical-align: top;\n",
       "    }\n",
       "\n",
       "    .dataframe thead th {\n",
       "        text-align: right;\n",
       "    }\n",
       "</style>\n",
       "<table border=\"1\" class=\"dataframe\">\n",
       "  <thead>\n",
       "    <tr style=\"text-align: right;\">\n",
       "      <th></th>\n",
       "      <th>구급보고서번호</th>\n",
       "      <th>소방서명</th>\n",
       "      <th>환자증상구분명1</th>\n",
       "      <th>신고일자</th>\n",
       "      <th>신고시각</th>\n",
       "      <th>출동일자</th>\n",
       "      <th>출동시각</th>\n",
       "      <th>환자직업명</th>\n",
       "      <th>사고발생장소</th>\n",
       "    </tr>\n",
       "  </thead>\n",
       "  <tbody>\n",
       "    <tr>\n",
       "      <th>0</th>\n",
       "      <td>20211122103M01526</td>\n",
       "      <td>중랑소방서</td>\n",
       "      <td>심계항진</td>\n",
       "      <td>20210330</td>\n",
       "      <td>104800</td>\n",
       "      <td>20210330</td>\n",
       "      <td>105042</td>\n",
       "      <td>무직</td>\n",
       "      <td>집</td>\n",
       "    </tr>\n",
       "    <tr>\n",
       "      <th>1</th>\n",
       "      <td>20211111105M00771</td>\n",
       "      <td>노원소방서</td>\n",
       "      <td>복통</td>\n",
       "      <td>20210412</td>\n",
       "      <td>225600</td>\n",
       "      <td>20210412</td>\n",
       "      <td>225827</td>\n",
       "      <td>기타</td>\n",
       "      <td>집</td>\n",
       "    </tr>\n",
       "    <tr>\n",
       "      <th>2</th>\n",
       "      <td>20211115104M00864</td>\n",
       "      <td>서초소방서</td>\n",
       "      <td>심계항진</td>\n",
       "      <td>20210303</td>\n",
       "      <td>194100</td>\n",
       "      <td>20210303</td>\n",
       "      <td>194500</td>\n",
       "      <td>직장인</td>\n",
       "      <td>상업시설</td>\n",
       "    </tr>\n",
       "    <tr>\n",
       "      <th>3</th>\n",
       "      <td>20211113107M01869</td>\n",
       "      <td>마포소방서</td>\n",
       "      <td>고열</td>\n",
       "      <td>20211225</td>\n",
       "      <td>235400</td>\n",
       "      <td>20211226</td>\n",
       "      <td>331</td>\n",
       "      <td>유아</td>\n",
       "      <td>집</td>\n",
       "    </tr>\n",
       "    <tr>\n",
       "      <th>4</th>\n",
       "      <td>20211118102M05820</td>\n",
       "      <td>강동소방서</td>\n",
       "      <td>고열</td>\n",
       "      <td>20211019</td>\n",
       "      <td>12100</td>\n",
       "      <td>20211019</td>\n",
       "      <td>12322</td>\n",
       "      <td>무직</td>\n",
       "      <td>집</td>\n",
       "    </tr>\n",
       "    <tr>\n",
       "      <th>...</th>\n",
       "      <td>...</td>\n",
       "      <td>...</td>\n",
       "      <td>...</td>\n",
       "      <td>...</td>\n",
       "      <td>...</td>\n",
       "      <td>...</td>\n",
       "      <td>...</td>\n",
       "      <td>...</td>\n",
       "      <td>...</td>\n",
       "    </tr>\n",
       "    <tr>\n",
       "      <th>2757</th>\n",
       "      <td>20211109507M05492</td>\n",
       "      <td>성북소방서</td>\n",
       "      <td>복통</td>\n",
       "      <td>20211102</td>\n",
       "      <td>34700</td>\n",
       "      <td>20211102</td>\n",
       "      <td>34800</td>\n",
       "      <td>직장인</td>\n",
       "      <td>집</td>\n",
       "    </tr>\n",
       "    <tr>\n",
       "      <th>2758</th>\n",
       "      <td>20211117104M01900</td>\n",
       "      <td>강서소방서</td>\n",
       "      <td>고열</td>\n",
       "      <td>20210414</td>\n",
       "      <td>190900</td>\n",
       "      <td>20210414</td>\n",
       "      <td>191200</td>\n",
       "      <td>무직</td>\n",
       "      <td>의료관련시설</td>\n",
       "    </tr>\n",
       "    <tr>\n",
       "      <th>2759</th>\n",
       "      <td>20211111106M01431</td>\n",
       "      <td>노원소방서</td>\n",
       "      <td>호흡곤란</td>\n",
       "      <td>20210524</td>\n",
       "      <td>235900</td>\n",
       "      <td>20210525</td>\n",
       "      <td>130</td>\n",
       "      <td>무직</td>\n",
       "      <td>집</td>\n",
       "    </tr>\n",
       "    <tr>\n",
       "      <th>2760</th>\n",
       "      <td>20211107102M01938</td>\n",
       "      <td>동대문소방서</td>\n",
       "      <td>요통</td>\n",
       "      <td>20210715</td>\n",
       "      <td>152000</td>\n",
       "      <td>20210715</td>\n",
       "      <td>152244</td>\n",
       "      <td>직장인</td>\n",
       "      <td>집</td>\n",
       "    </tr>\n",
       "    <tr>\n",
       "      <th>2761</th>\n",
       "      <td>20211110509M01584</td>\n",
       "      <td>도봉소방서</td>\n",
       "      <td>의식장애</td>\n",
       "      <td>20210401</td>\n",
       "      <td>223400</td>\n",
       "      <td>20210401</td>\n",
       "      <td>223800</td>\n",
       "      <td>무직</td>\n",
       "      <td>집</td>\n",
       "    </tr>\n",
       "  </tbody>\n",
       "</table>\n",
       "<p>2762 rows × 9 columns</p>\n",
       "</div>"
      ],
      "text/plain": [
       "                구급보고서번호    소방서명 환자증상구분명1      신고일자    신고시각      출동일자    출동시각  \\\n",
       "0     20211122103M01526   중랑소방서     심계항진  20210330  104800  20210330  105042   \n",
       "1     20211111105M00771   노원소방서       복통  20210412  225600  20210412  225827   \n",
       "2     20211115104M00864   서초소방서     심계항진  20210303  194100  20210303  194500   \n",
       "3     20211113107M01869   마포소방서       고열  20211225  235400  20211226     331   \n",
       "4     20211118102M05820   강동소방서       고열  20211019   12100  20211019   12322   \n",
       "...                 ...     ...      ...       ...     ...       ...     ...   \n",
       "2757  20211109507M05492   성북소방서       복통  20211102   34700  20211102   34800   \n",
       "2758  20211117104M01900   강서소방서       고열  20210414  190900  20210414  191200   \n",
       "2759  20211111106M01431   노원소방서     호흡곤란  20210524  235900  20210525     130   \n",
       "2760  20211107102M01938  동대문소방서       요통  20210715  152000  20210715  152244   \n",
       "2761  20211110509M01584   도봉소방서     의식장애  20210401  223400  20210401  223800   \n",
       "\n",
       "     환자직업명  사고발생장소  \n",
       "0       무직       집  \n",
       "1       기타       집  \n",
       "2      직장인    상업시설  \n",
       "3       유아       집  \n",
       "4       무직       집  \n",
       "...    ...     ...  \n",
       "2757   직장인       집  \n",
       "2758    무직  의료관련시설  \n",
       "2759    무직       집  \n",
       "2760   직장인       집  \n",
       "2761    무직       집  \n",
       "\n",
       "[2762 rows x 9 columns]"
      ]
     },
     "execution_count": 2,
     "metadata": {},
     "output_type": "execute_result"
    }
   ],
   "source": [
    "df = pd.read_csv('./data/기출문제6회_1유형.csv')\n",
    "df"
   ]
  },
  {
   "cell_type": "code",
   "execution_count": 3,
   "id": "a39fe742",
   "metadata": {
    "colab": {
     "base_uri": "https://localhost:8080/"
    },
    "id": "tQqCVtXVIStl",
    "outputId": "a4d9d65b-2e17-4c07-8714-83725d4183c3"
   },
   "outputs": [
    {
     "name": "stdout",
     "output_type": "stream",
     "text": [
      "<class 'pandas.core.frame.DataFrame'>\n",
      "RangeIndex: 2762 entries, 0 to 2761\n",
      "Data columns (total 9 columns):\n",
      " #   Column    Non-Null Count  Dtype \n",
      "---  ------    --------------  ----- \n",
      " 0   구급보고서번호   2762 non-null   object\n",
      " 1   소방서명      2762 non-null   object\n",
      " 2   환자증상구분명1  2762 non-null   object\n",
      " 3   신고일자      2762 non-null   int64 \n",
      " 4   신고시각      2762 non-null   int64 \n",
      " 5   출동일자      2762 non-null   int64 \n",
      " 6   출동시각      2762 non-null   int64 \n",
      " 7   환자직업명     2762 non-null   object\n",
      " 8   사고발생장소    2762 non-null   object\n",
      "dtypes: int64(4), object(5)\n",
      "memory usage: 194.3+ KB\n"
     ]
    }
   ],
   "source": [
    "# 데이터 타입 확인\n",
    "df.info()"
   ]
  },
  {
   "cell_type": "code",
   "execution_count": 4,
   "id": "0d7e615d",
   "metadata": {},
   "outputs": [],
   "source": [
    "sr1 = pd.to_datetime(df['출동일자'].astype('str') + df['출동시각'].astype('str').str.zfill(6))\n",
    "sr2 = pd.to_datetime(df['신고일자'].astype('str') + df['신고시각'].astype('str').str.zfill(6))"
   ]
  },
  {
   "cell_type": "code",
   "execution_count": 5,
   "id": "4d164907",
   "metadata": {},
   "outputs": [],
   "source": [
    "df['소요시각'] = (sr1 - sr2).dt.total_seconds()"
   ]
  },
  {
   "cell_type": "code",
   "execution_count": 6,
   "id": "7eb49644",
   "metadata": {},
   "outputs": [
    {
     "data": {
      "text/html": [
       "<div>\n",
       "<style scoped>\n",
       "    .dataframe tbody tr th:only-of-type {\n",
       "        vertical-align: middle;\n",
       "    }\n",
       "\n",
       "    .dataframe tbody tr th {\n",
       "        vertical-align: top;\n",
       "    }\n",
       "\n",
       "    .dataframe thead th {\n",
       "        text-align: right;\n",
       "    }\n",
       "</style>\n",
       "<table border=\"1\" class=\"dataframe\">\n",
       "  <thead>\n",
       "    <tr style=\"text-align: right;\">\n",
       "      <th></th>\n",
       "      <th>구급보고서번호</th>\n",
       "      <th>소방서명</th>\n",
       "      <th>환자증상구분명1</th>\n",
       "      <th>신고일자</th>\n",
       "      <th>신고시각</th>\n",
       "      <th>출동일자</th>\n",
       "      <th>출동시각</th>\n",
       "      <th>환자직업명</th>\n",
       "      <th>사고발생장소</th>\n",
       "      <th>소요시각</th>\n",
       "    </tr>\n",
       "  </thead>\n",
       "  <tbody>\n",
       "    <tr>\n",
       "      <th>0</th>\n",
       "      <td>20211122103M01526</td>\n",
       "      <td>중랑소방서</td>\n",
       "      <td>심계항진</td>\n",
       "      <td>20210330</td>\n",
       "      <td>104800</td>\n",
       "      <td>20210330</td>\n",
       "      <td>105042</td>\n",
       "      <td>무직</td>\n",
       "      <td>집</td>\n",
       "      <td>162.0</td>\n",
       "    </tr>\n",
       "    <tr>\n",
       "      <th>1</th>\n",
       "      <td>20211111105M00771</td>\n",
       "      <td>노원소방서</td>\n",
       "      <td>복통</td>\n",
       "      <td>20210412</td>\n",
       "      <td>225600</td>\n",
       "      <td>20210412</td>\n",
       "      <td>225827</td>\n",
       "      <td>기타</td>\n",
       "      <td>집</td>\n",
       "      <td>147.0</td>\n",
       "    </tr>\n",
       "    <tr>\n",
       "      <th>2</th>\n",
       "      <td>20211115104M00864</td>\n",
       "      <td>서초소방서</td>\n",
       "      <td>심계항진</td>\n",
       "      <td>20210303</td>\n",
       "      <td>194100</td>\n",
       "      <td>20210303</td>\n",
       "      <td>194500</td>\n",
       "      <td>직장인</td>\n",
       "      <td>상업시설</td>\n",
       "      <td>240.0</td>\n",
       "    </tr>\n",
       "    <tr>\n",
       "      <th>3</th>\n",
       "      <td>20211113107M01869</td>\n",
       "      <td>마포소방서</td>\n",
       "      <td>고열</td>\n",
       "      <td>20211225</td>\n",
       "      <td>235400</td>\n",
       "      <td>20211226</td>\n",
       "      <td>331</td>\n",
       "      <td>유아</td>\n",
       "      <td>집</td>\n",
       "      <td>571.0</td>\n",
       "    </tr>\n",
       "    <tr>\n",
       "      <th>4</th>\n",
       "      <td>20211118102M05820</td>\n",
       "      <td>강동소방서</td>\n",
       "      <td>고열</td>\n",
       "      <td>20211019</td>\n",
       "      <td>12100</td>\n",
       "      <td>20211019</td>\n",
       "      <td>12322</td>\n",
       "      <td>무직</td>\n",
       "      <td>집</td>\n",
       "      <td>142.0</td>\n",
       "    </tr>\n",
       "    <tr>\n",
       "      <th>...</th>\n",
       "      <td>...</td>\n",
       "      <td>...</td>\n",
       "      <td>...</td>\n",
       "      <td>...</td>\n",
       "      <td>...</td>\n",
       "      <td>...</td>\n",
       "      <td>...</td>\n",
       "      <td>...</td>\n",
       "      <td>...</td>\n",
       "      <td>...</td>\n",
       "    </tr>\n",
       "    <tr>\n",
       "      <th>2757</th>\n",
       "      <td>20211109507M05492</td>\n",
       "      <td>성북소방서</td>\n",
       "      <td>복통</td>\n",
       "      <td>20211102</td>\n",
       "      <td>34700</td>\n",
       "      <td>20211102</td>\n",
       "      <td>34800</td>\n",
       "      <td>직장인</td>\n",
       "      <td>집</td>\n",
       "      <td>60.0</td>\n",
       "    </tr>\n",
       "    <tr>\n",
       "      <th>2758</th>\n",
       "      <td>20211117104M01900</td>\n",
       "      <td>강서소방서</td>\n",
       "      <td>고열</td>\n",
       "      <td>20210414</td>\n",
       "      <td>190900</td>\n",
       "      <td>20210414</td>\n",
       "      <td>191200</td>\n",
       "      <td>무직</td>\n",
       "      <td>의료관련시설</td>\n",
       "      <td>180.0</td>\n",
       "    </tr>\n",
       "    <tr>\n",
       "      <th>2759</th>\n",
       "      <td>20211111106M01431</td>\n",
       "      <td>노원소방서</td>\n",
       "      <td>호흡곤란</td>\n",
       "      <td>20210524</td>\n",
       "      <td>235900</td>\n",
       "      <td>20210525</td>\n",
       "      <td>130</td>\n",
       "      <td>무직</td>\n",
       "      <td>집</td>\n",
       "      <td>150.0</td>\n",
       "    </tr>\n",
       "    <tr>\n",
       "      <th>2760</th>\n",
       "      <td>20211107102M01938</td>\n",
       "      <td>동대문소방서</td>\n",
       "      <td>요통</td>\n",
       "      <td>20210715</td>\n",
       "      <td>152000</td>\n",
       "      <td>20210715</td>\n",
       "      <td>152244</td>\n",
       "      <td>직장인</td>\n",
       "      <td>집</td>\n",
       "      <td>164.0</td>\n",
       "    </tr>\n",
       "    <tr>\n",
       "      <th>2761</th>\n",
       "      <td>20211110509M01584</td>\n",
       "      <td>도봉소방서</td>\n",
       "      <td>의식장애</td>\n",
       "      <td>20210401</td>\n",
       "      <td>223400</td>\n",
       "      <td>20210401</td>\n",
       "      <td>223800</td>\n",
       "      <td>무직</td>\n",
       "      <td>집</td>\n",
       "      <td>240.0</td>\n",
       "    </tr>\n",
       "  </tbody>\n",
       "</table>\n",
       "<p>2762 rows × 10 columns</p>\n",
       "</div>"
      ],
      "text/plain": [
       "                구급보고서번호    소방서명 환자증상구분명1      신고일자    신고시각      출동일자    출동시각  \\\n",
       "0     20211122103M01526   중랑소방서     심계항진  20210330  104800  20210330  105042   \n",
       "1     20211111105M00771   노원소방서       복통  20210412  225600  20210412  225827   \n",
       "2     20211115104M00864   서초소방서     심계항진  20210303  194100  20210303  194500   \n",
       "3     20211113107M01869   마포소방서       고열  20211225  235400  20211226     331   \n",
       "4     20211118102M05820   강동소방서       고열  20211019   12100  20211019   12322   \n",
       "...                 ...     ...      ...       ...     ...       ...     ...   \n",
       "2757  20211109507M05492   성북소방서       복통  20211102   34700  20211102   34800   \n",
       "2758  20211117104M01900   강서소방서       고열  20210414  190900  20210414  191200   \n",
       "2759  20211111106M01431   노원소방서     호흡곤란  20210524  235900  20210525     130   \n",
       "2760  20211107102M01938  동대문소방서       요통  20210715  152000  20210715  152244   \n",
       "2761  20211110509M01584   도봉소방서     의식장애  20210401  223400  20210401  223800   \n",
       "\n",
       "     환자직업명  사고발생장소   소요시각  \n",
       "0       무직       집  162.0  \n",
       "1       기타       집  147.0  \n",
       "2      직장인    상업시설  240.0  \n",
       "3       유아       집  571.0  \n",
       "4       무직       집  142.0  \n",
       "...    ...     ...    ...  \n",
       "2757   직장인       집   60.0  \n",
       "2758    무직  의료관련시설  180.0  \n",
       "2759    무직       집  150.0  \n",
       "2760   직장인       집  164.0  \n",
       "2761    무직       집  240.0  \n",
       "\n",
       "[2762 rows x 10 columns]"
      ]
     },
     "execution_count": 6,
     "metadata": {},
     "output_type": "execute_result"
    }
   ],
   "source": [
    "df"
   ]
  },
  {
   "cell_type": "code",
   "execution_count": 7,
   "id": "d5d7748c",
   "metadata": {},
   "outputs": [
    {
     "data": {
      "text/plain": [
       "소방서명\n",
       "서초소방서     164.883495\n",
       "서대문소방서    165.056604\n",
       "종로소방서     175.500000\n",
       "광진소방서     175.602273\n",
       "노원소방서     179.579310\n",
       "강동소방서     181.656566\n",
       "동작소방서     185.107527\n",
       "송파소방서     189.330508\n",
       "구로소방서     189.513274\n",
       "은평소방서     191.390071\n",
       "양천소방서     192.201389\n",
       "마포소방서     196.547445\n",
       "강남소방서     196.933333\n",
       "강서소방서     199.696203\n",
       "중랑소방서     204.877049\n",
       "성북소방서     205.293578\n",
       "도봉소방서     207.145631\n",
       "성동소방서     207.358209\n",
       "중부소방서     207.563636\n",
       "관악소방서     209.843750\n",
       "강북소방서     212.061224\n",
       "동대문소방서    228.148515\n",
       "용산소방서     237.366197\n",
       "영등포소방서    258.839286\n",
       "Name: 소요시각, dtype: float64"
      ]
     },
     "execution_count": 7,
     "metadata": {},
     "output_type": "execute_result"
    }
   ],
   "source": [
    "result = df.groupby(['소방서명'])['소요시각'].mean().sort_values()\n",
    "result"
   ]
  },
  {
   "cell_type": "code",
   "execution_count": 8,
   "id": "9f00983e",
   "metadata": {},
   "outputs": [
    {
     "name": "stdout",
     "output_type": "stream",
     "text": [
      "['종로소방서' 175.5]\n"
     ]
    }
   ],
   "source": [
    "print(result.reset_index().loc[2].values)"
   ]
  },
  {
   "cell_type": "code",
   "execution_count": null,
   "id": "78d1fa67",
   "metadata": {},
   "outputs": [],
   "source": []
  },
  {
   "cell_type": "markdown",
   "id": "03d4660b",
   "metadata": {
    "id": "shWWLB-fZmKQ"
   },
   "source": [
    "#### 제1유형: 2\n",
    "학교 세부유형이 일반중학교인 학교들 중 일반중학교 숫자가 2번째로 많은 시도의 일반중학교 데이터만 골라서,  \n",
    "해당 시도의 교원 한명 당 맡은 학생수가 가장 많은 학교를 찾아 해당 학교의 교원수를 출력하라."
   ]
  },
  {
   "cell_type": "code",
   "execution_count": 9,
   "id": "6cea6396",
   "metadata": {
    "colab": {
     "base_uri": "https://localhost:8080/"
    },
    "id": "es-ELGC7IxeZ",
    "outputId": "79b323cd-8e38-47d9-afec-35964f4e67f6"
   },
   "outputs": [],
   "source": [
    "import numpy as np\n",
    "import pandas as pd"
   ]
  },
  {
   "cell_type": "code",
   "execution_count": 10,
   "id": "5975acc3",
   "metadata": {
    "colab": {
     "base_uri": "https://localhost:8080/"
    },
    "id": "es-ELGC7IxeZ",
    "outputId": "79b323cd-8e38-47d9-afec-35964f4e67f6"
   },
   "outputs": [
    {
     "data": {
      "text/html": [
       "<div>\n",
       "<style scoped>\n",
       "    .dataframe tbody tr th:only-of-type {\n",
       "        vertical-align: middle;\n",
       "    }\n",
       "\n",
       "    .dataframe tbody tr th {\n",
       "        vertical-align: top;\n",
       "    }\n",
       "\n",
       "    .dataframe thead th {\n",
       "        text-align: right;\n",
       "    }\n",
       "</style>\n",
       "<table border=\"1\" class=\"dataframe\">\n",
       "  <thead>\n",
       "    <tr style=\"text-align: right;\">\n",
       "      <th></th>\n",
       "      <th>학교명</th>\n",
       "      <th>시도</th>\n",
       "      <th>학교세부유형</th>\n",
       "      <th>일반학급_학생수_계</th>\n",
       "      <th>교원수_총계_계</th>\n",
       "    </tr>\n",
       "  </thead>\n",
       "  <tbody>\n",
       "    <tr>\n",
       "      <th>0</th>\n",
       "      <td>서울대학교사범대학부설고등학교</td>\n",
       "      <td>서울</td>\n",
       "      <td>일반고등학교</td>\n",
       "      <td>689</td>\n",
       "      <td>73</td>\n",
       "    </tr>\n",
       "    <tr>\n",
       "      <th>1</th>\n",
       "      <td>가락고등학교</td>\n",
       "      <td>서울</td>\n",
       "      <td>일반고등학교</td>\n",
       "      <td>765</td>\n",
       "      <td>70</td>\n",
       "    </tr>\n",
       "    <tr>\n",
       "      <th>2</th>\n",
       "      <td>개포고등학교</td>\n",
       "      <td>서울</td>\n",
       "      <td>일반고등학교</td>\n",
       "      <td>684</td>\n",
       "      <td>69</td>\n",
       "    </tr>\n",
       "    <tr>\n",
       "      <th>3</th>\n",
       "      <td>경기고등학교</td>\n",
       "      <td>서울</td>\n",
       "      <td>일반고등학교</td>\n",
       "      <td>1047</td>\n",
       "      <td>96</td>\n",
       "    </tr>\n",
       "    <tr>\n",
       "      <th>4</th>\n",
       "      <td>경동고등학교</td>\n",
       "      <td>서울</td>\n",
       "      <td>일반고등학교</td>\n",
       "      <td>529</td>\n",
       "      <td>58</td>\n",
       "    </tr>\n",
       "  </tbody>\n",
       "</table>\n",
       "</div>"
      ],
      "text/plain": [
       "               학교명  시도  학교세부유형  일반학급_학생수_계  교원수_총계_계\n",
       "0  서울대학교사범대학부설고등학교  서울  일반고등학교         689        73\n",
       "1           가락고등학교  서울  일반고등학교         765        70\n",
       "2           개포고등학교  서울  일반고등학교         684        69\n",
       "3           경기고등학교  서울  일반고등학교        1047        96\n",
       "4           경동고등학교  서울  일반고등학교         529        58"
      ]
     },
     "execution_count": 10,
     "metadata": {},
     "output_type": "execute_result"
    }
   ],
   "source": [
    "df = pd.read_csv('./data/기출문제6회_1유형_2.csv')\n",
    "df.head()"
   ]
  },
  {
   "cell_type": "code",
   "execution_count": 11,
   "id": "3b16bb30",
   "metadata": {},
   "outputs": [
    {
     "data": {
      "text/plain": [
       "'서울'"
      ]
     },
     "execution_count": 11,
     "metadata": {},
     "output_type": "execute_result"
    }
   ],
   "source": [
    "city = df.loc[df['학교세부유형'] =='일반중학교','시도'].value_counts().index[1]\n",
    "city"
   ]
  },
  {
   "cell_type": "code",
   "execution_count": 12,
   "id": "88737641",
   "metadata": {},
   "outputs": [],
   "source": [
    "df1 = df.loc[(df['학교세부유형'] =='일반중학교') & (df['시도'] == city)].copy()\n",
    "\n",
    "df1['ratio'] = df1['일반학급_학생수_계'] / df1['교원수_총계_계']"
   ]
  },
  {
   "cell_type": "code",
   "execution_count": 13,
   "id": "a2779ece",
   "metadata": {},
   "outputs": [
    {
     "name": "stdout",
     "output_type": "stream",
     "text": [
      "33\n"
     ]
    }
   ],
   "source": [
    "idx = df1['ratio'].idxmax()\n",
    "\n",
    "print(df1.loc[idx, '교원수_총계_계'])"
   ]
  },
  {
   "cell_type": "code",
   "execution_count": 14,
   "id": "289c0f01",
   "metadata": {},
   "outputs": [
    {
     "data": {
      "text/html": [
       "<div>\n",
       "<style scoped>\n",
       "    .dataframe tbody tr th:only-of-type {\n",
       "        vertical-align: middle;\n",
       "    }\n",
       "\n",
       "    .dataframe tbody tr th {\n",
       "        vertical-align: top;\n",
       "    }\n",
       "\n",
       "    .dataframe thead th {\n",
       "        text-align: right;\n",
       "    }\n",
       "</style>\n",
       "<table border=\"1\" class=\"dataframe\">\n",
       "  <thead>\n",
       "    <tr style=\"text-align: right;\">\n",
       "      <th></th>\n",
       "      <th>학교명</th>\n",
       "      <th>시도</th>\n",
       "      <th>학교세부유형</th>\n",
       "      <th>일반학급_학생수_계</th>\n",
       "      <th>교원수_총계_계</th>\n",
       "      <th>ratio</th>\n",
       "    </tr>\n",
       "  </thead>\n",
       "  <tbody>\n",
       "    <tr>\n",
       "      <th>524</th>\n",
       "      <td>단국대학교사범대학부속중학교</td>\n",
       "      <td>서울</td>\n",
       "      <td>일반중학교</td>\n",
       "      <td>606</td>\n",
       "      <td>33</td>\n",
       "      <td>18.363636</td>\n",
       "    </tr>\n",
       "    <tr>\n",
       "      <th>444</th>\n",
       "      <td>한영중학교</td>\n",
       "      <td>서울</td>\n",
       "      <td>일반중학교</td>\n",
       "      <td>742</td>\n",
       "      <td>43</td>\n",
       "      <td>17.255814</td>\n",
       "    </tr>\n",
       "    <tr>\n",
       "      <th>532</th>\n",
       "      <td>진선여자중학교</td>\n",
       "      <td>서울</td>\n",
       "      <td>일반중학교</td>\n",
       "      <td>997</td>\n",
       "      <td>58</td>\n",
       "      <td>17.189655</td>\n",
       "    </tr>\n",
       "    <tr>\n",
       "      <th>441</th>\n",
       "      <td>배재중학교</td>\n",
       "      <td>서울</td>\n",
       "      <td>일반중학교</td>\n",
       "      <td>868</td>\n",
       "      <td>51</td>\n",
       "      <td>17.019608</td>\n",
       "    </tr>\n",
       "    <tr>\n",
       "      <th>526</th>\n",
       "      <td>휘문중학교</td>\n",
       "      <td>서울</td>\n",
       "      <td>일반중학교</td>\n",
       "      <td>814</td>\n",
       "      <td>48</td>\n",
       "      <td>16.958333</td>\n",
       "    </tr>\n",
       "    <tr>\n",
       "      <th>...</th>\n",
       "      <td>...</td>\n",
       "      <td>...</td>\n",
       "      <td>...</td>\n",
       "      <td>...</td>\n",
       "      <td>...</td>\n",
       "      <td>...</td>\n",
       "    </tr>\n",
       "    <tr>\n",
       "      <th>438</th>\n",
       "      <td>동북중학교</td>\n",
       "      <td>서울</td>\n",
       "      <td>일반중학교</td>\n",
       "      <td>233</td>\n",
       "      <td>43</td>\n",
       "      <td>5.418605</td>\n",
       "    </tr>\n",
       "    <tr>\n",
       "      <th>256</th>\n",
       "      <td>정화여자중학교</td>\n",
       "      <td>서울</td>\n",
       "      <td>일반중학교</td>\n",
       "      <td>125</td>\n",
       "      <td>24</td>\n",
       "      <td>5.208333</td>\n",
       "    </tr>\n",
       "    <tr>\n",
       "      <th>453</th>\n",
       "      <td>경서중학교</td>\n",
       "      <td>서울</td>\n",
       "      <td>일반중학교</td>\n",
       "      <td>112</td>\n",
       "      <td>26</td>\n",
       "      <td>4.307692</td>\n",
       "    </tr>\n",
       "    <tr>\n",
       "      <th>386</th>\n",
       "      <td>금호여자중학교</td>\n",
       "      <td>서울</td>\n",
       "      <td>일반중학교</td>\n",
       "      <td>86</td>\n",
       "      <td>21</td>\n",
       "      <td>4.095238</td>\n",
       "    </tr>\n",
       "    <tr>\n",
       "      <th>494</th>\n",
       "      <td>개포중학교</td>\n",
       "      <td>서울</td>\n",
       "      <td>일반중학교</td>\n",
       "      <td>0</td>\n",
       "      <td>0</td>\n",
       "      <td>NaN</td>\n",
       "    </tr>\n",
       "  </tbody>\n",
       "</table>\n",
       "<p>387 rows × 6 columns</p>\n",
       "</div>"
      ],
      "text/plain": [
       "                학교명  시도 학교세부유형  일반학급_학생수_계  교원수_총계_계      ratio\n",
       "524  단국대학교사범대학부속중학교  서울  일반중학교         606        33  18.363636\n",
       "444           한영중학교  서울  일반중학교         742        43  17.255814\n",
       "532         진선여자중학교  서울  일반중학교         997        58  17.189655\n",
       "441           배재중학교  서울  일반중학교         868        51  17.019608\n",
       "526           휘문중학교  서울  일반중학교         814        48  16.958333\n",
       "..              ...  ..    ...         ...       ...        ...\n",
       "438           동북중학교  서울  일반중학교         233        43   5.418605\n",
       "256         정화여자중학교  서울  일반중학교         125        24   5.208333\n",
       "453           경서중학교  서울  일반중학교         112        26   4.307692\n",
       "386         금호여자중학교  서울  일반중학교          86        21   4.095238\n",
       "494           개포중학교  서울  일반중학교           0         0        NaN\n",
       "\n",
       "[387 rows x 6 columns]"
      ]
     },
     "execution_count": 14,
     "metadata": {},
     "output_type": "execute_result"
    }
   ],
   "source": [
    "# 정렬\n",
    "df1.sort_values(by='ratio', ascending=False)"
   ]
  },
  {
   "cell_type": "code",
   "execution_count": null,
   "id": "345562f9",
   "metadata": {},
   "outputs": [],
   "source": []
  },
  {
   "cell_type": "markdown",
   "id": "57a19e97",
   "metadata": {
    "id": "shWWLB-fZmKQ"
   },
   "source": [
    "#### 제1유형: 3\n",
    "5대 범죄(절도, 사기, 배임, 방화, 폭행)의 월별 총 발생건수를 총범죄수라고 표현하자.  \n",
    "2018, 2019년의 각각 분기별 총범죄수의 월평균 값을 구했을때 최대값을 가지는 년도와 분기를 구하고   \n",
    "해당 분기의 최댓값의 사기가 발생한 월의 사기 발생건수를 출력하라.  \n",
    "- 1분기: 1,2,3월\n",
    "- 2분기: 4,5,6월\n",
    "- 3분기: 7,8,9월\n",
    "- 4분기: 10,11,12월\n",
    "- 1분기 월평균 : 1,2,3월의 총범죄수 평균"
   ]
  },
  {
   "cell_type": "code",
   "execution_count": 15,
   "id": "14d2b108",
   "metadata": {
    "colab": {
     "base_uri": "https://localhost:8080/"
    },
    "id": "PR8ptcaPJ41o",
    "outputId": "8d9484f9-1047-465b-bae2-03f58857bdd7"
   },
   "outputs": [],
   "source": [
    "import numpy as np\n",
    "import pandas as pd"
   ]
  },
  {
   "cell_type": "code",
   "execution_count": 16,
   "id": "a5286611",
   "metadata": {
    "colab": {
     "base_uri": "https://localhost:8080/"
    },
    "id": "PR8ptcaPJ41o",
    "outputId": "8d9484f9-1047-465b-bae2-03f58857bdd7"
   },
   "outputs": [
    {
     "data": {
      "text/html": [
       "<div>\n",
       "<style scoped>\n",
       "    .dataframe tbody tr th:only-of-type {\n",
       "        vertical-align: middle;\n",
       "    }\n",
       "\n",
       "    .dataframe tbody tr th {\n",
       "        vertical-align: top;\n",
       "    }\n",
       "\n",
       "    .dataframe thead th {\n",
       "        text-align: right;\n",
       "    }\n",
       "</style>\n",
       "<table border=\"1\" class=\"dataframe\">\n",
       "  <thead>\n",
       "    <tr style=\"text-align: right;\">\n",
       "      <th></th>\n",
       "      <th>범죄분류</th>\n",
       "      <th>절도</th>\n",
       "      <th>사기</th>\n",
       "      <th>배임</th>\n",
       "      <th>방화</th>\n",
       "      <th>폭행</th>\n",
       "    </tr>\n",
       "  </thead>\n",
       "  <tbody>\n",
       "    <tr>\n",
       "      <th>0</th>\n",
       "      <td>2018년_1월</td>\n",
       "      <td>13280</td>\n",
       "      <td>25318</td>\n",
       "      <td>656</td>\n",
       "      <td>143</td>\n",
       "      <td>12186</td>\n",
       "    </tr>\n",
       "    <tr>\n",
       "      <th>1</th>\n",
       "      <td>2018년_2월</td>\n",
       "      <td>12504</td>\n",
       "      <td>19159</td>\n",
       "      <td>403</td>\n",
       "      <td>135</td>\n",
       "      <td>12087</td>\n",
       "    </tr>\n",
       "    <tr>\n",
       "      <th>2</th>\n",
       "      <td>2018년_3월</td>\n",
       "      <td>14733</td>\n",
       "      <td>24509</td>\n",
       "      <td>471</td>\n",
       "      <td>148</td>\n",
       "      <td>13841</td>\n",
       "    </tr>\n",
       "    <tr>\n",
       "      <th>3</th>\n",
       "      <td>2018년_4월</td>\n",
       "      <td>14781</td>\n",
       "      <td>23147</td>\n",
       "      <td>414</td>\n",
       "      <td>135</td>\n",
       "      <td>13973</td>\n",
       "    </tr>\n",
       "    <tr>\n",
       "      <th>4</th>\n",
       "      <td>2018년_5월</td>\n",
       "      <td>15988</td>\n",
       "      <td>23584</td>\n",
       "      <td>451</td>\n",
       "      <td>127</td>\n",
       "      <td>14117</td>\n",
       "    </tr>\n",
       "  </tbody>\n",
       "</table>\n",
       "</div>"
      ],
      "text/plain": [
       "       범죄분류     절도     사기   배임   방화     폭행\n",
       "0  2018년_1월  13280  25318  656  143  12186\n",
       "1  2018년_2월  12504  19159  403  135  12087\n",
       "2  2018년_3월  14733  24509  471  148  13841\n",
       "3  2018년_4월  14781  23147  414  135  13973\n",
       "4  2018년_5월  15988  23584  451  127  14117"
      ]
     },
     "execution_count": 16,
     "metadata": {},
     "output_type": "execute_result"
    }
   ],
   "source": [
    "df = pd.read_csv('./data/기출문제6회_1유형_3.csv')\n",
    "df.head()"
   ]
  },
  {
   "cell_type": "code",
   "execution_count": 17,
   "id": "1802b6e0",
   "metadata": {},
   "outputs": [],
   "source": [
    "df['총범죄수'] = df['절도'] + df['사기'] + df['배임'] + df['방화'] + df['폭행']"
   ]
  },
  {
   "cell_type": "code",
   "execution_count": 18,
   "id": "c6f25a03",
   "metadata": {},
   "outputs": [],
   "source": [
    "# 연도, 월 생성\n",
    "df['연도'] = df['범죄분류'].str[:4]\n",
    "df['월']   = df['범죄분류'].str.split('_').str[1].str.replace('월','').astype('int32')"
   ]
  },
  {
   "cell_type": "code",
   "execution_count": 19,
   "id": "288a9abc",
   "metadata": {},
   "outputs": [],
   "source": [
    "# 분기 생성\n",
    "df.loc[(df['월'] >=  1) & (df['월'] <=  3), '분기'] = '1'\n",
    "df.loc[(df['월'] >=  4) & (df['월'] <=  6), '분기'] = '2'\n",
    "df.loc[(df['월'] >=  7) & (df['월'] <=  9), '분기'] = '3'\n",
    "df.loc[(df['월'] >= 10) & (df['월'] <= 12), '분기'] = '4'\n",
    "\n",
    "df['분기'] = df['연도'] +'_'+ df['분기']"
   ]
  },
  {
   "cell_type": "code",
   "execution_count": 20,
   "id": "51a15864",
   "metadata": {},
   "outputs": [
    {
     "data": {
      "text/plain": [
       "'2019_2'"
      ]
     },
     "execution_count": 20,
     "metadata": {},
     "output_type": "execute_result"
    }
   ],
   "source": [
    "idx = df.groupby(['분기'])['총범죄수'].mean().idxmax()\n",
    "idx"
   ]
  },
  {
   "cell_type": "code",
   "execution_count": 21,
   "id": "903d3c36",
   "metadata": {},
   "outputs": [
    {
     "name": "stdout",
     "output_type": "stream",
     "text": [
      "27766\n"
     ]
    }
   ],
   "source": [
    "result = df.loc[df['분기'] == idx, '사기'].max()\n",
    "print(result)"
   ]
  },
  {
   "cell_type": "code",
   "execution_count": null,
   "id": "9d225a88",
   "metadata": {},
   "outputs": [],
   "source": []
  },
  {
   "cell_type": "markdown",
   "id": "48694638",
   "metadata": {
    "id": "shWWLB-fZmKQ"
   },
   "source": [
    "### 제2유형"
   ]
  },
  {
   "cell_type": "markdown",
   "id": "3c6ce3cd",
   "metadata": {
    "id": "shWWLB-fZmKQ"
   },
   "source": [
    "다음은 건강상태에 대한 데이터이다.  \n",
    "학습 데이터를 이용하여 건강상태(General_Health)를 예측하는 모델을 생성하고 테스트 데이터에 적용하여 예측 결과를 csv파일로 제출하시오.  \n",
    "(모델의 성능은 f1 스코어로 평가)"
   ]
  },
  {
   "cell_type": "code",
   "execution_count": 22,
   "id": "d96be7b5",
   "metadata": {
    "id": "Kimkw8rGKQ-t"
   },
   "outputs": [],
   "source": [
    "import numpy as np\n",
    "import pandas as pd"
   ]
  },
  {
   "cell_type": "code",
   "execution_count": 23,
   "id": "cce24197",
   "metadata": {
    "id": "Kimkw8rGKQ-t"
   },
   "outputs": [],
   "source": [
    "train = pd.read_csv('./data/기출문제6회_2유형_train.csv')\n",
    "test = pd.read_csv('./data/기출문제6회_2유형_test.csv')"
   ]
  },
  {
   "cell_type": "code",
   "execution_count": 24,
   "id": "d655d3ad",
   "metadata": {},
   "outputs": [
    {
     "data": {
      "text/html": [
       "<div>\n",
       "<style scoped>\n",
       "    .dataframe tbody tr th:only-of-type {\n",
       "        vertical-align: middle;\n",
       "    }\n",
       "\n",
       "    .dataframe tbody tr th {\n",
       "        vertical-align: top;\n",
       "    }\n",
       "\n",
       "    .dataframe thead th {\n",
       "        text-align: right;\n",
       "    }\n",
       "</style>\n",
       "<table border=\"1\" class=\"dataframe\">\n",
       "  <thead>\n",
       "    <tr style=\"text-align: right;\">\n",
       "      <th></th>\n",
       "      <th>ID</th>\n",
       "      <th>General_Health</th>\n",
       "      <th>Checkup</th>\n",
       "      <th>Exercise</th>\n",
       "      <th>Heart_Disease</th>\n",
       "      <th>Skin_Cancer</th>\n",
       "      <th>Other_Cancer</th>\n",
       "      <th>Depression</th>\n",
       "      <th>Diabetes</th>\n",
       "      <th>Arthritis</th>\n",
       "      <th>Sex</th>\n",
       "      <th>Age_Category</th>\n",
       "      <th>Height_(cm)</th>\n",
       "      <th>Weight_(kg)</th>\n",
       "      <th>BMI</th>\n",
       "      <th>Smoking_History</th>\n",
       "      <th>Alcohol_Consumption</th>\n",
       "      <th>Fruit_Consumption</th>\n",
       "      <th>Green_Vegetables_Consumption</th>\n",
       "      <th>FriedPotato_Consumption</th>\n",
       "    </tr>\n",
       "  </thead>\n",
       "  <tbody>\n",
       "    <tr>\n",
       "      <th>0</th>\n",
       "      <td>ID_1473</td>\n",
       "      <td>Good</td>\n",
       "      <td>Within the past 2 years</td>\n",
       "      <td>Yes</td>\n",
       "      <td>No</td>\n",
       "      <td>No</td>\n",
       "      <td>No</td>\n",
       "      <td>No</td>\n",
       "      <td>No</td>\n",
       "      <td>Yes</td>\n",
       "      <td>Female</td>\n",
       "      <td>55-59</td>\n",
       "      <td>168.0</td>\n",
       "      <td>77.11</td>\n",
       "      <td>27.44</td>\n",
       "      <td>No</td>\n",
       "      <td>1.0</td>\n",
       "      <td>12.0</td>\n",
       "      <td>4.0</td>\n",
       "      <td>4.0</td>\n",
       "    </tr>\n",
       "    <tr>\n",
       "      <th>1</th>\n",
       "      <td>ID_2045</td>\n",
       "      <td>Good</td>\n",
       "      <td>Within the past 2 years</td>\n",
       "      <td>Yes</td>\n",
       "      <td>No</td>\n",
       "      <td>No</td>\n",
       "      <td>No</td>\n",
       "      <td>No</td>\n",
       "      <td>No</td>\n",
       "      <td>No</td>\n",
       "      <td>Female</td>\n",
       "      <td>40-44</td>\n",
       "      <td>152.0</td>\n",
       "      <td>58.97</td>\n",
       "      <td>25.39</td>\n",
       "      <td>No</td>\n",
       "      <td>0.0</td>\n",
       "      <td>8.0</td>\n",
       "      <td>16.0</td>\n",
       "      <td>8.0</td>\n",
       "    </tr>\n",
       "    <tr>\n",
       "      <th>2</th>\n",
       "      <td>ID_3079</td>\n",
       "      <td>Good</td>\n",
       "      <td>Within the past year</td>\n",
       "      <td>Yes</td>\n",
       "      <td>No</td>\n",
       "      <td>No</td>\n",
       "      <td>No</td>\n",
       "      <td>Yes</td>\n",
       "      <td>No</td>\n",
       "      <td>Yes</td>\n",
       "      <td>Female</td>\n",
       "      <td>65-69</td>\n",
       "      <td>170.0</td>\n",
       "      <td>65.77</td>\n",
       "      <td>22.71</td>\n",
       "      <td>Yes</td>\n",
       "      <td>12.0</td>\n",
       "      <td>30.0</td>\n",
       "      <td>2.0</td>\n",
       "      <td>0.0</td>\n",
       "    </tr>\n",
       "    <tr>\n",
       "      <th>3</th>\n",
       "      <td>ID_15958</td>\n",
       "      <td>Excellent</td>\n",
       "      <td>Within the past year</td>\n",
       "      <td>Yes</td>\n",
       "      <td>No</td>\n",
       "      <td>No</td>\n",
       "      <td>No</td>\n",
       "      <td>No</td>\n",
       "      <td>No</td>\n",
       "      <td>No</td>\n",
       "      <td>Female</td>\n",
       "      <td>40-44</td>\n",
       "      <td>163.0</td>\n",
       "      <td>56.70</td>\n",
       "      <td>21.46</td>\n",
       "      <td>No</td>\n",
       "      <td>24.0</td>\n",
       "      <td>60.0</td>\n",
       "      <td>16.0</td>\n",
       "      <td>3.0</td>\n",
       "    </tr>\n",
       "    <tr>\n",
       "      <th>4</th>\n",
       "      <td>ID_11047</td>\n",
       "      <td>Excellent</td>\n",
       "      <td>Within the past year</td>\n",
       "      <td>Yes</td>\n",
       "      <td>No</td>\n",
       "      <td>No</td>\n",
       "      <td>Yes</td>\n",
       "      <td>No</td>\n",
       "      <td>No</td>\n",
       "      <td>No</td>\n",
       "      <td>Male</td>\n",
       "      <td>55-59</td>\n",
       "      <td>185.0</td>\n",
       "      <td>95.25</td>\n",
       "      <td>27.71</td>\n",
       "      <td>Yes</td>\n",
       "      <td>28.0</td>\n",
       "      <td>30.0</td>\n",
       "      <td>30.0</td>\n",
       "      <td>8.0</td>\n",
       "    </tr>\n",
       "  </tbody>\n",
       "</table>\n",
       "</div>"
      ],
      "text/plain": [
       "         ID General_Health                  Checkup Exercise Heart_Disease  \\\n",
       "0   ID_1473           Good  Within the past 2 years      Yes            No   \n",
       "1   ID_2045           Good  Within the past 2 years      Yes            No   \n",
       "2   ID_3079           Good     Within the past year      Yes            No   \n",
       "3  ID_15958      Excellent     Within the past year      Yes            No   \n",
       "4  ID_11047      Excellent     Within the past year      Yes            No   \n",
       "\n",
       "  Skin_Cancer Other_Cancer Depression Diabetes Arthritis     Sex Age_Category  \\\n",
       "0          No           No         No       No       Yes  Female        55-59   \n",
       "1          No           No         No       No        No  Female        40-44   \n",
       "2          No           No        Yes       No       Yes  Female        65-69   \n",
       "3          No           No         No       No        No  Female        40-44   \n",
       "4          No          Yes         No       No        No    Male        55-59   \n",
       "\n",
       "   Height_(cm)  Weight_(kg)    BMI Smoking_History  Alcohol_Consumption  \\\n",
       "0        168.0        77.11  27.44              No                  1.0   \n",
       "1        152.0        58.97  25.39              No                  0.0   \n",
       "2        170.0        65.77  22.71             Yes                 12.0   \n",
       "3        163.0        56.70  21.46              No                 24.0   \n",
       "4        185.0        95.25  27.71             Yes                 28.0   \n",
       "\n",
       "   Fruit_Consumption  Green_Vegetables_Consumption  FriedPotato_Consumption  \n",
       "0               12.0                           4.0                      4.0  \n",
       "1                8.0                          16.0                      8.0  \n",
       "2               30.0                           2.0                      0.0  \n",
       "3               60.0                          16.0                      3.0  \n",
       "4               30.0                          30.0                      8.0  "
      ]
     },
     "execution_count": 24,
     "metadata": {},
     "output_type": "execute_result"
    }
   ],
   "source": [
    "train.head()"
   ]
  },
  {
   "cell_type": "code",
   "execution_count": 25,
   "id": "2e85d705",
   "metadata": {},
   "outputs": [
    {
     "data": {
      "text/html": [
       "<div>\n",
       "<style scoped>\n",
       "    .dataframe tbody tr th:only-of-type {\n",
       "        vertical-align: middle;\n",
       "    }\n",
       "\n",
       "    .dataframe tbody tr th {\n",
       "        vertical-align: top;\n",
       "    }\n",
       "\n",
       "    .dataframe thead th {\n",
       "        text-align: right;\n",
       "    }\n",
       "</style>\n",
       "<table border=\"1\" class=\"dataframe\">\n",
       "  <thead>\n",
       "    <tr style=\"text-align: right;\">\n",
       "      <th></th>\n",
       "      <th>ID</th>\n",
       "      <th>Checkup</th>\n",
       "      <th>Exercise</th>\n",
       "      <th>Heart_Disease</th>\n",
       "      <th>Skin_Cancer</th>\n",
       "      <th>Other_Cancer</th>\n",
       "      <th>Depression</th>\n",
       "      <th>Diabetes</th>\n",
       "      <th>Arthritis</th>\n",
       "      <th>Sex</th>\n",
       "      <th>Age_Category</th>\n",
       "      <th>Height_(cm)</th>\n",
       "      <th>Weight_(kg)</th>\n",
       "      <th>BMI</th>\n",
       "      <th>Smoking_History</th>\n",
       "      <th>Alcohol_Consumption</th>\n",
       "      <th>Fruit_Consumption</th>\n",
       "      <th>Green_Vegetables_Consumption</th>\n",
       "      <th>FriedPotato_Consumption</th>\n",
       "    </tr>\n",
       "  </thead>\n",
       "  <tbody>\n",
       "    <tr>\n",
       "      <th>0</th>\n",
       "      <td>ID_14547</td>\n",
       "      <td>Within the past year</td>\n",
       "      <td>Yes</td>\n",
       "      <td>No</td>\n",
       "      <td>No</td>\n",
       "      <td>No</td>\n",
       "      <td>No</td>\n",
       "      <td>No</td>\n",
       "      <td>No</td>\n",
       "      <td>Male</td>\n",
       "      <td>35-39</td>\n",
       "      <td>180.0</td>\n",
       "      <td>81.65</td>\n",
       "      <td>25.10</td>\n",
       "      <td>No</td>\n",
       "      <td>15.0</td>\n",
       "      <td>8.0</td>\n",
       "      <td>25.0</td>\n",
       "      <td>12.0</td>\n",
       "    </tr>\n",
       "    <tr>\n",
       "      <th>1</th>\n",
       "      <td>ID_26</td>\n",
       "      <td>5 or more years ago</td>\n",
       "      <td>No</td>\n",
       "      <td>No</td>\n",
       "      <td>Yes</td>\n",
       "      <td>No</td>\n",
       "      <td>No</td>\n",
       "      <td>No</td>\n",
       "      <td>No</td>\n",
       "      <td>Male</td>\n",
       "      <td>60-64</td>\n",
       "      <td>183.0</td>\n",
       "      <td>79.38</td>\n",
       "      <td>23.73</td>\n",
       "      <td>No</td>\n",
       "      <td>1.0</td>\n",
       "      <td>4.0</td>\n",
       "      <td>4.0</td>\n",
       "      <td>4.0</td>\n",
       "    </tr>\n",
       "    <tr>\n",
       "      <th>2</th>\n",
       "      <td>ID_14103</td>\n",
       "      <td>Within the past year</td>\n",
       "      <td>Yes</td>\n",
       "      <td>No</td>\n",
       "      <td>No</td>\n",
       "      <td>No</td>\n",
       "      <td>No</td>\n",
       "      <td>No</td>\n",
       "      <td>Yes</td>\n",
       "      <td>Female</td>\n",
       "      <td>40-44</td>\n",
       "      <td>163.0</td>\n",
       "      <td>81.65</td>\n",
       "      <td>30.90</td>\n",
       "      <td>No</td>\n",
       "      <td>4.0</td>\n",
       "      <td>60.0</td>\n",
       "      <td>60.0</td>\n",
       "      <td>8.0</td>\n",
       "    </tr>\n",
       "    <tr>\n",
       "      <th>3</th>\n",
       "      <td>ID_10946</td>\n",
       "      <td>Within the past 2 years</td>\n",
       "      <td>Yes</td>\n",
       "      <td>No</td>\n",
       "      <td>No</td>\n",
       "      <td>No</td>\n",
       "      <td>No</td>\n",
       "      <td>No</td>\n",
       "      <td>No</td>\n",
       "      <td>Male</td>\n",
       "      <td>25-29</td>\n",
       "      <td>175.0</td>\n",
       "      <td>74.84</td>\n",
       "      <td>24.37</td>\n",
       "      <td>Yes</td>\n",
       "      <td>15.0</td>\n",
       "      <td>0.0</td>\n",
       "      <td>4.0</td>\n",
       "      <td>4.0</td>\n",
       "    </tr>\n",
       "    <tr>\n",
       "      <th>4</th>\n",
       "      <td>ID_1572</td>\n",
       "      <td>5 or more years ago</td>\n",
       "      <td>Yes</td>\n",
       "      <td>No</td>\n",
       "      <td>No</td>\n",
       "      <td>No</td>\n",
       "      <td>No</td>\n",
       "      <td>No</td>\n",
       "      <td>No</td>\n",
       "      <td>Male</td>\n",
       "      <td>25-29</td>\n",
       "      <td>170.0</td>\n",
       "      <td>70.31</td>\n",
       "      <td>24.28</td>\n",
       "      <td>No</td>\n",
       "      <td>0.0</td>\n",
       "      <td>16.0</td>\n",
       "      <td>20.0</td>\n",
       "      <td>28.0</td>\n",
       "    </tr>\n",
       "  </tbody>\n",
       "</table>\n",
       "</div>"
      ],
      "text/plain": [
       "         ID                  Checkup Exercise Heart_Disease Skin_Cancer  \\\n",
       "0  ID_14547     Within the past year      Yes            No          No   \n",
       "1     ID_26      5 or more years ago       No            No         Yes   \n",
       "2  ID_14103     Within the past year      Yes            No          No   \n",
       "3  ID_10946  Within the past 2 years      Yes            No          No   \n",
       "4   ID_1572      5 or more years ago      Yes            No          No   \n",
       "\n",
       "  Other_Cancer Depression Diabetes Arthritis     Sex Age_Category  \\\n",
       "0           No         No       No        No    Male        35-39   \n",
       "1           No         No       No        No    Male        60-64   \n",
       "2           No         No       No       Yes  Female        40-44   \n",
       "3           No         No       No        No    Male        25-29   \n",
       "4           No         No       No        No    Male        25-29   \n",
       "\n",
       "   Height_(cm)  Weight_(kg)    BMI Smoking_History  Alcohol_Consumption  \\\n",
       "0        180.0        81.65  25.10              No                 15.0   \n",
       "1        183.0        79.38  23.73              No                  1.0   \n",
       "2        163.0        81.65  30.90              No                  4.0   \n",
       "3        175.0        74.84  24.37             Yes                 15.0   \n",
       "4        170.0        70.31  24.28              No                  0.0   \n",
       "\n",
       "   Fruit_Consumption  Green_Vegetables_Consumption  FriedPotato_Consumption  \n",
       "0                8.0                          25.0                     12.0  \n",
       "1                4.0                           4.0                      4.0  \n",
       "2               60.0                          60.0                      8.0  \n",
       "3                0.0                           4.0                      4.0  \n",
       "4               16.0                          20.0                     28.0  "
      ]
     },
     "execution_count": 25,
     "metadata": {},
     "output_type": "execute_result"
    }
   ],
   "source": [
    "test.head()"
   ]
  },
  {
   "cell_type": "code",
   "execution_count": 26,
   "id": "fde6aea6",
   "metadata": {
    "colab": {
     "base_uri": "https://localhost:8080/"
    },
    "id": "b4qg9ZReKcuo",
    "outputId": "3f713856-daf0-49fd-d157-8b26f75918e4"
   },
   "outputs": [
    {
     "name": "stdout",
     "output_type": "stream",
     "text": [
      "<class 'pandas.core.frame.DataFrame'>\n",
      "RangeIndex: 11230 entries, 0 to 11229\n",
      "Data columns (total 20 columns):\n",
      " #   Column                        Non-Null Count  Dtype  \n",
      "---  ------                        --------------  -----  \n",
      " 0   ID                            11230 non-null  object \n",
      " 1   General_Health                11230 non-null  object \n",
      " 2   Checkup                       11230 non-null  object \n",
      " 3   Exercise                      11230 non-null  object \n",
      " 4   Heart_Disease                 11230 non-null  object \n",
      " 5   Skin_Cancer                   11230 non-null  object \n",
      " 6   Other_Cancer                  11230 non-null  object \n",
      " 7   Depression                    11230 non-null  object \n",
      " 8   Diabetes                      11230 non-null  object \n",
      " 9   Arthritis                     11230 non-null  object \n",
      " 10  Sex                           11230 non-null  object \n",
      " 11  Age_Category                  11230 non-null  object \n",
      " 12  Height_(cm)                   11230 non-null  float64\n",
      " 13  Weight_(kg)                   11230 non-null  float64\n",
      " 14  BMI                           11230 non-null  float64\n",
      " 15  Smoking_History               11230 non-null  object \n",
      " 16  Alcohol_Consumption           11230 non-null  float64\n",
      " 17  Fruit_Consumption             11230 non-null  float64\n",
      " 18  Green_Vegetables_Consumption  11230 non-null  float64\n",
      " 19  FriedPotato_Consumption       11230 non-null  float64\n",
      "dtypes: float64(7), object(13)\n",
      "memory usage: 1.7+ MB\n"
     ]
    }
   ],
   "source": [
    "# 학습용 데이터 – 데이터 타입 확인\n",
    "train.info()"
   ]
  },
  {
   "cell_type": "code",
   "execution_count": 27,
   "id": "f8589920",
   "metadata": {
    "colab": {
     "base_uri": "https://localhost:8080/",
     "height": 175
    },
    "id": "qGtocIcmKfXn",
    "outputId": "75fd281d-9d28-4d46-d97c-a97c869de98a"
   },
   "outputs": [
    {
     "data": {
      "text/html": [
       "<div>\n",
       "<style scoped>\n",
       "    .dataframe tbody tr th:only-of-type {\n",
       "        vertical-align: middle;\n",
       "    }\n",
       "\n",
       "    .dataframe tbody tr th {\n",
       "        vertical-align: top;\n",
       "    }\n",
       "\n",
       "    .dataframe thead th {\n",
       "        text-align: right;\n",
       "    }\n",
       "</style>\n",
       "<table border=\"1\" class=\"dataframe\">\n",
       "  <thead>\n",
       "    <tr style=\"text-align: right;\">\n",
       "      <th></th>\n",
       "      <th>Height_(cm)</th>\n",
       "      <th>Weight_(kg)</th>\n",
       "      <th>BMI</th>\n",
       "      <th>Alcohol_Consumption</th>\n",
       "      <th>Fruit_Consumption</th>\n",
       "      <th>Green_Vegetables_Consumption</th>\n",
       "      <th>FriedPotato_Consumption</th>\n",
       "    </tr>\n",
       "  </thead>\n",
       "  <tbody>\n",
       "    <tr>\n",
       "      <th>count</th>\n",
       "      <td>11230.000000</td>\n",
       "      <td>11230.000000</td>\n",
       "      <td>11230.000000</td>\n",
       "      <td>11230.000000</td>\n",
       "      <td>11230.000000</td>\n",
       "      <td>11230.000000</td>\n",
       "      <td>11230.000000</td>\n",
       "    </tr>\n",
       "    <tr>\n",
       "      <th>mean</th>\n",
       "      <td>170.532769</td>\n",
       "      <td>83.881470</td>\n",
       "      <td>28.769485</td>\n",
       "      <td>4.826714</td>\n",
       "      <td>29.451113</td>\n",
       "      <td>15.112467</td>\n",
       "      <td>6.320125</td>\n",
       "    </tr>\n",
       "    <tr>\n",
       "      <th>std</th>\n",
       "      <td>10.766101</td>\n",
       "      <td>22.177621</td>\n",
       "      <td>6.925065</td>\n",
       "      <td>8.072258</td>\n",
       "      <td>25.039505</td>\n",
       "      <td>15.374689</td>\n",
       "      <td>8.393891</td>\n",
       "    </tr>\n",
       "    <tr>\n",
       "      <th>min</th>\n",
       "      <td>94.000000</td>\n",
       "      <td>31.750000</td>\n",
       "      <td>13.250000</td>\n",
       "      <td>0.000000</td>\n",
       "      <td>0.000000</td>\n",
       "      <td>0.000000</td>\n",
       "      <td>0.000000</td>\n",
       "    </tr>\n",
       "    <tr>\n",
       "      <th>25%</th>\n",
       "      <td>163.000000</td>\n",
       "      <td>68.040000</td>\n",
       "      <td>24.050000</td>\n",
       "      <td>0.000000</td>\n",
       "      <td>12.000000</td>\n",
       "      <td>4.000000</td>\n",
       "      <td>2.000000</td>\n",
       "    </tr>\n",
       "    <tr>\n",
       "      <th>50%</th>\n",
       "      <td>170.000000</td>\n",
       "      <td>81.650000</td>\n",
       "      <td>27.440000</td>\n",
       "      <td>1.000000</td>\n",
       "      <td>30.000000</td>\n",
       "      <td>12.000000</td>\n",
       "      <td>4.000000</td>\n",
       "    </tr>\n",
       "    <tr>\n",
       "      <th>75%</th>\n",
       "      <td>178.000000</td>\n",
       "      <td>95.250000</td>\n",
       "      <td>32.037500</td>\n",
       "      <td>5.000000</td>\n",
       "      <td>30.000000</td>\n",
       "      <td>20.000000</td>\n",
       "      <td>8.000000</td>\n",
       "    </tr>\n",
       "    <tr>\n",
       "      <th>max</th>\n",
       "      <td>226.000000</td>\n",
       "      <td>293.020000</td>\n",
       "      <td>97.580000</td>\n",
       "      <td>30.000000</td>\n",
       "      <td>120.000000</td>\n",
       "      <td>120.000000</td>\n",
       "      <td>120.000000</td>\n",
       "    </tr>\n",
       "  </tbody>\n",
       "</table>\n",
       "</div>"
      ],
      "text/plain": [
       "        Height_(cm)   Weight_(kg)           BMI  Alcohol_Consumption  \\\n",
       "count  11230.000000  11230.000000  11230.000000         11230.000000   \n",
       "mean     170.532769     83.881470     28.769485             4.826714   \n",
       "std       10.766101     22.177621      6.925065             8.072258   \n",
       "min       94.000000     31.750000     13.250000             0.000000   \n",
       "25%      163.000000     68.040000     24.050000             0.000000   \n",
       "50%      170.000000     81.650000     27.440000             1.000000   \n",
       "75%      178.000000     95.250000     32.037500             5.000000   \n",
       "max      226.000000    293.020000     97.580000            30.000000   \n",
       "\n",
       "       Fruit_Consumption  Green_Vegetables_Consumption  \\\n",
       "count       11230.000000                  11230.000000   \n",
       "mean           29.451113                     15.112467   \n",
       "std            25.039505                     15.374689   \n",
       "min             0.000000                      0.000000   \n",
       "25%            12.000000                      4.000000   \n",
       "50%            30.000000                     12.000000   \n",
       "75%            30.000000                     20.000000   \n",
       "max           120.000000                    120.000000   \n",
       "\n",
       "       FriedPotato_Consumption  \n",
       "count             11230.000000  \n",
       "mean                  6.320125  \n",
       "std                   8.393891  \n",
       "min                   0.000000  \n",
       "25%                   2.000000  \n",
       "50%                   4.000000  \n",
       "75%                   8.000000  \n",
       "max                 120.000000  "
      ]
     },
     "execution_count": 27,
     "metadata": {},
     "output_type": "execute_result"
    }
   ],
   "source": [
    "# 학습용 데이터 기초통계 확인\n",
    "train.describe()"
   ]
  },
  {
   "cell_type": "code",
   "execution_count": 28,
   "id": "bf46a239",
   "metadata": {
    "colab": {
     "base_uri": "https://localhost:8080/"
    },
    "id": "SmPkaQCxKkFR",
    "outputId": "aee21ed3-b397-49fc-fb87-63a7a04e542e"
   },
   "outputs": [
    {
     "data": {
      "text/plain": [
       "ID                              0\n",
       "General_Health                  0\n",
       "Checkup                         0\n",
       "Exercise                        0\n",
       "Heart_Disease                   0\n",
       "Skin_Cancer                     0\n",
       "Other_Cancer                    0\n",
       "Depression                      0\n",
       "Diabetes                        0\n",
       "Arthritis                       0\n",
       "Sex                             0\n",
       "Age_Category                    0\n",
       "Height_(cm)                     0\n",
       "Weight_(kg)                     0\n",
       "BMI                             0\n",
       "Smoking_History                 0\n",
       "Alcohol_Consumption             0\n",
       "Fruit_Consumption               0\n",
       "Green_Vegetables_Consumption    0\n",
       "FriedPotato_Consumption         0\n",
       "dtype: int64"
      ]
     },
     "execution_count": 28,
     "metadata": {},
     "output_type": "execute_result"
    }
   ],
   "source": [
    "# 학습용 데이터 결측치 확인\n",
    "train.isnull().sum()"
   ]
  },
  {
   "cell_type": "code",
   "execution_count": 29,
   "id": "55e872e7",
   "metadata": {
    "colab": {
     "base_uri": "https://localhost:8080/"
    },
    "id": "KeYlVjlIKlnh",
    "outputId": "74acb410-4e6e-4527-9575-e2393255cd6e"
   },
   "outputs": [
    {
     "data": {
      "text/plain": [
       "Excellent    4286\n",
       "Good         3990\n",
       "Fair         2954\n",
       "Name: General_Health, dtype: int64"
      ]
     },
     "execution_count": 29,
     "metadata": {},
     "output_type": "execute_result"
    }
   ],
   "source": [
    "# 학습용 데이터의 타겟 값 분포 확인\n",
    "train['General_Health'].value_counts()"
   ]
  },
  {
   "cell_type": "code",
   "execution_count": 30,
   "id": "b8ed4b1d",
   "metadata": {
    "colab": {
     "base_uri": "https://localhost:8080/"
    },
    "id": "MSleTKQ2KosA",
    "outputId": "0594af60-7179-4ce5-cfde-a3ff50151d85"
   },
   "outputs": [
    {
     "name": "stdout",
     "output_type": "stream",
     "text": [
      "<class 'pandas.core.frame.DataFrame'>\n",
      "RangeIndex: 4813 entries, 0 to 4812\n",
      "Data columns (total 19 columns):\n",
      " #   Column                        Non-Null Count  Dtype  \n",
      "---  ------                        --------------  -----  \n",
      " 0   ID                            4813 non-null   object \n",
      " 1   Checkup                       4813 non-null   object \n",
      " 2   Exercise                      4813 non-null   object \n",
      " 3   Heart_Disease                 4813 non-null   object \n",
      " 4   Skin_Cancer                   4813 non-null   object \n",
      " 5   Other_Cancer                  4813 non-null   object \n",
      " 6   Depression                    4813 non-null   object \n",
      " 7   Diabetes                      4813 non-null   object \n",
      " 8   Arthritis                     4813 non-null   object \n",
      " 9   Sex                           4813 non-null   object \n",
      " 10  Age_Category                  4813 non-null   object \n",
      " 11  Height_(cm)                   4813 non-null   float64\n",
      " 12  Weight_(kg)                   4813 non-null   float64\n",
      " 13  BMI                           4813 non-null   float64\n",
      " 14  Smoking_History               4813 non-null   object \n",
      " 15  Alcohol_Consumption           4813 non-null   float64\n",
      " 16  Fruit_Consumption             4813 non-null   float64\n",
      " 17  Green_Vegetables_Consumption  4813 non-null   float64\n",
      " 18  FriedPotato_Consumption       4813 non-null   float64\n",
      "dtypes: float64(7), object(12)\n",
      "memory usage: 714.6+ KB\n"
     ]
    }
   ],
   "source": [
    "# 테스트용 데이터 데이터타입 확인\n",
    "test.info()"
   ]
  },
  {
   "cell_type": "code",
   "execution_count": 31,
   "id": "0daaf3a4",
   "metadata": {
    "colab": {
     "base_uri": "https://localhost:8080/"
    },
    "id": "mu-xwa8QKteL",
    "outputId": "ea0d68c3-a1b4-451a-9681-c6505d871528"
   },
   "outputs": [
    {
     "data": {
      "text/plain": [
       "ID                              0\n",
       "Checkup                         0\n",
       "Exercise                        0\n",
       "Heart_Disease                   0\n",
       "Skin_Cancer                     0\n",
       "Other_Cancer                    0\n",
       "Depression                      0\n",
       "Diabetes                        0\n",
       "Arthritis                       0\n",
       "Sex                             0\n",
       "Age_Category                    0\n",
       "Height_(cm)                     0\n",
       "Weight_(kg)                     0\n",
       "BMI                             0\n",
       "Smoking_History                 0\n",
       "Alcohol_Consumption             0\n",
       "Fruit_Consumption               0\n",
       "Green_Vegetables_Consumption    0\n",
       "FriedPotato_Consumption         0\n",
       "dtype: int64"
      ]
     },
     "execution_count": 31,
     "metadata": {},
     "output_type": "execute_result"
    }
   ],
   "source": [
    "# 테스트용 데이터 결측치 확인\n",
    "test.isnull().sum()"
   ]
  },
  {
   "cell_type": "code",
   "execution_count": 32,
   "id": "c24f53e8",
   "metadata": {},
   "outputs": [],
   "source": [
    "# 학습용 데이터의 타겟 값 처리\n",
    "train_target = train.pop('General_Health')"
   ]
  },
  {
   "cell_type": "code",
   "execution_count": 33,
   "id": "13a90fcd",
   "metadata": {},
   "outputs": [],
   "source": [
    "# 컬럼 삭제\n",
    "train.drop('ID', axis=1, inplace=True)\n",
    "test.drop('ID', axis=1, inplace=True)"
   ]
  },
  {
   "cell_type": "code",
   "execution_count": 34,
   "id": "e8e9d52d",
   "metadata": {},
   "outputs": [],
   "source": [
    "# 원핫 인코딩\n",
    "df_t = pd.concat([train, test])\n",
    "\n",
    "df_t = pd.get_dummies(df_t)\n",
    "\n",
    "train = df_t.iloc[:len(train)].copy()\n",
    "test = df_t.iloc[len(train):].copy()"
   ]
  },
  {
   "cell_type": "code",
   "execution_count": 35,
   "id": "3d3be09c",
   "metadata": {},
   "outputs": [],
   "source": [
    "# Min-Max 스케일링\n",
    "from sklearn.preprocessing import MinMaxScaler\n",
    "\n",
    "scaler = MinMaxScaler()\n",
    "\n",
    "col_num = ['Height_(cm)','Weight_(kg)','BMI','Alcohol_Consumption',\n",
    "           'Fruit_Consumption','Green_Vegetables_Consumption','FriedPotato_Consumption']\n",
    "\n",
    "train[col_num] = scaler.fit_transform(train[col_num])\n",
    "test[col_num]  = scaler.transform(test[col_num])"
   ]
  },
  {
   "cell_type": "code",
   "execution_count": 36,
   "id": "1f1e832b",
   "metadata": {},
   "outputs": [
    {
     "name": "stdout",
     "output_type": "stream",
     "text": [
      "              precision    recall  f1-score   support\n",
      "\n",
      "   Excellent       0.64      0.75      0.69       844\n",
      "        Fair       0.54      0.45      0.49       602\n",
      "        Good       0.47      0.44      0.45       800\n",
      "\n",
      "    accuracy                           0.56      2246\n",
      "   macro avg       0.55      0.55      0.55      2246\n",
      "weighted avg       0.55      0.56      0.55      2246\n",
      "\n",
      "0.55\n"
     ]
    }
   ],
   "source": [
    "# [1] Data Split\n",
    "from sklearn.model_selection import train_test_split\n",
    "\n",
    "X_train, X_test, y_train, y_test = train_test_split(train, train_target, test_size = 0.2)\n",
    "\n",
    "\n",
    "# [2] Classifier\n",
    "from sklearn.ensemble import RandomForestClassifier\n",
    "\n",
    "#model = RandomForestClassifier(n_estimators=300, max_depth=4)\n",
    "model = RandomForestClassifier(random_state=123)\n",
    "\n",
    "# [3] Fit\n",
    "model.fit(X_train, y_train)\n",
    "\n",
    "# [4] Predict\n",
    "pred = model.predict(X_test)\n",
    "\n",
    "# [5] Evaluation\n",
    "from sklearn import metrics\n",
    "\n",
    "# Classification report\n",
    "print(metrics.classification_report(y_test, pred))\n",
    "\n",
    "print(round(metrics.f1_score(y_test, pred, average='macro'),2))"
   ]
  },
  {
   "cell_type": "code",
   "execution_count": null,
   "id": "64252e45",
   "metadata": {},
   "outputs": [],
   "source": []
  },
  {
   "cell_type": "code",
   "execution_count": 37,
   "id": "988f2ee0",
   "metadata": {},
   "outputs": [
    {
     "name": "stdout",
     "output_type": "stream",
     "text": [
      "           pred\n",
      "0     Excellent\n",
      "1     Excellent\n",
      "2     Excellent\n",
      "3     Excellent\n",
      "4     Excellent\n",
      "...         ...\n",
      "4808  Excellent\n",
      "4809  Excellent\n",
      "4810       Fair\n",
      "4811       Fair\n",
      "4812       Fair\n",
      "\n",
      "[4813 rows x 1 columns]\n"
     ]
    }
   ],
   "source": [
    "# 예측\n",
    "pred_test = model.predict(test)\n",
    "\n",
    "# DataFrame 생성\n",
    "result = pd.DataFrame({'pred': pred_test })\n",
    "print(result)\n",
    "\n",
    "# 파일 쓰기\n",
    "# result.to_csv('result.csv', index=False) # 인덱스 제거"
   ]
  },
  {
   "cell_type": "code",
   "execution_count": null,
   "id": "eda02242",
   "metadata": {},
   "outputs": [],
   "source": []
  },
  {
   "cell_type": "markdown",
   "id": "b65ad058",
   "metadata": {
    "id": "shWWLB-fZmKQ"
   },
   "source": [
    "### 제3유형"
   ]
  },
  {
   "cell_type": "markdown",
   "id": "55705b97",
   "metadata": {
    "id": "shWWLB-fZmKQ"
   },
   "source": [
    "#### 제3유형: 1"
   ]
  },
  {
   "cell_type": "markdown",
   "id": "ab5b8846",
   "metadata": {},
   "source": [
    "어떤 지역에 남성 650명과 여성 600명이 있다.  \n",
    "남성이 독감에 걸린 비율은 0.1, 여성이 독감에 걸린 비율은 0.15이다.  \n",
    "성별과 독감 감염 여부 사이에 연관이 있는지 통계적으로 검정하시오.  \n",
    "\n",
    "- 귀무가설(H0): 성별과 독감 감염 여부는 서로 관계가 없다.(독립이다)\n",
    "- 대립가설(H1): 성별과 독감 감염 여부는 서로 관계가 있다.\n",
    "- 유의 수준: 0.05"
   ]
  },
  {
   "cell_type": "markdown",
   "id": "3e97eb44",
   "metadata": {},
   "source": [
    "1-1. 검정통계량을 반올림하여 소수점 세째 자리 까지 구하시오."
   ]
  },
  {
   "cell_type": "markdown",
   "id": "d97382be",
   "metadata": {},
   "source": [
    "1-2. p-value를 반올림하여 소수점 세째 자리 까지 구하시오."
   ]
  },
  {
   "cell_type": "markdown",
   "id": "082257bc",
   "metadata": {},
   "source": [
    "1-3. 검정결과를 설명 하시오."
   ]
  },
  {
   "cell_type": "markdown",
   "id": "a54c8125",
   "metadata": {},
   "source": [
    "---"
   ]
  },
  {
   "cell_type": "markdown",
   "id": "d0229203",
   "metadata": {},
   "source": [
    "제3유형: 1-1 검정통계량을 반올림하여 소수점 세째 자리 까지 구하시오.  \n",
    "제3유형: 1-2. p-value를 반올림하여 소수점 세째 자리 까지 구하시오."
   ]
  },
  {
   "cell_type": "code",
   "execution_count": 38,
   "id": "8f3f822c",
   "metadata": {
    "colab": {
     "base_uri": "https://localhost:8080/"
    },
    "id": "wrreXIPxLGp6",
    "outputId": "5476b242-750c-4597-d6c0-c403b41bc809"
   },
   "outputs": [],
   "source": [
    "import numpy as np\n",
    "import pandas as pd"
   ]
  },
  {
   "cell_type": "code",
   "execution_count": 39,
   "id": "ae9d8fd8",
   "metadata": {},
   "outputs": [],
   "source": [
    "# 남성과 여성의 인구 수\n",
    "pop_male   = 650\n",
    "pop_female = 600"
   ]
  },
  {
   "cell_type": "code",
   "execution_count": 40,
   "id": "f46d856c",
   "metadata": {},
   "outputs": [],
   "source": [
    "# 독감 감염자 수 계산\n",
    "flu_male   = pop_male   * 0.1\n",
    "flu_female = pop_female * 0.15"
   ]
  },
  {
   "cell_type": "code",
   "execution_count": 41,
   "id": "418d4a14",
   "metadata": {},
   "outputs": [],
   "source": [
    "# 비 감염자 수 계산\n",
    "non_flu_male   = pop_male   - flu_male\n",
    "non_flu_female = pop_female - flu_female"
   ]
  },
  {
   "cell_type": "code",
   "execution_count": 42,
   "id": "c0a69a4f",
   "metadata": {},
   "outputs": [
    {
     "data": {
      "text/html": [
       "<div>\n",
       "<style scoped>\n",
       "    .dataframe tbody tr th:only-of-type {\n",
       "        vertical-align: middle;\n",
       "    }\n",
       "\n",
       "    .dataframe tbody tr th {\n",
       "        vertical-align: top;\n",
       "    }\n",
       "\n",
       "    .dataframe thead th {\n",
       "        text-align: right;\n",
       "    }\n",
       "</style>\n",
       "<table border=\"1\" class=\"dataframe\">\n",
       "  <thead>\n",
       "    <tr style=\"text-align: right;\">\n",
       "      <th></th>\n",
       "      <th>독감감염</th>\n",
       "      <th>독감비감염</th>\n",
       "    </tr>\n",
       "  </thead>\n",
       "  <tbody>\n",
       "    <tr>\n",
       "      <th>남자</th>\n",
       "      <td>65.0</td>\n",
       "      <td>585.0</td>\n",
       "    </tr>\n",
       "    <tr>\n",
       "      <th>여자</th>\n",
       "      <td>90.0</td>\n",
       "      <td>510.0</td>\n",
       "    </tr>\n",
       "  </tbody>\n",
       "</table>\n",
       "</div>"
      ],
      "text/plain": [
       "    독감감염  독감비감염\n",
       "남자  65.0  585.0\n",
       "여자  90.0  510.0"
      ]
     },
     "execution_count": 42,
     "metadata": {},
     "output_type": "execute_result"
    }
   ],
   "source": [
    "obs = pd.DataFrame([[flu_male, non_flu_male], [flu_female, non_flu_female]],\n",
    "                   index=['남자','여자'], columns=['독감감염','독감비감염'])\n",
    "obs"
   ]
  },
  {
   "cell_type": "code",
   "execution_count": 43,
   "id": "faffbcad",
   "metadata": {},
   "outputs": [
    {
     "name": "stdout",
     "output_type": "stream",
     "text": [
      "6.728\n",
      "0.009\n"
     ]
    }
   ],
   "source": [
    "from scipy import stats\n",
    "\n",
    "# statistic(통계량), p_value, dof(자유도), expected_freq(기대빈도)\n",
    "statistic, p_value, dof, expected = stats.chi2_contingency(obs)\n",
    "\n",
    "print(round(statistic,3))\n",
    "print(round(p_value,3))"
   ]
  },
  {
   "cell_type": "markdown",
   "id": "e81c7ffe",
   "metadata": {},
   "source": [
    "제3유형: 1-3. 검정결과를 설명 하시오."
   ]
  },
  {
   "cell_type": "markdown",
   "id": "60ad0ff9",
   "metadata": {},
   "source": [
    "- p_value가 0.05 보다 작으므로 귀무가설은 기각된다.  \n",
    "- 성별과 독감감염 여부는 서로 관계가 있다."
   ]
  },
  {
   "cell_type": "code",
   "execution_count": null,
   "id": "50f3d6c9",
   "metadata": {},
   "outputs": [],
   "source": []
  },
  {
   "cell_type": "markdown",
   "id": "411e3b96",
   "metadata": {
    "id": "shWWLB-fZmKQ"
   },
   "source": [
    "#### 제3유형: 2"
   ]
  },
  {
   "cell_type": "markdown",
   "id": "258f42f5",
   "metadata": {
    "id": "shWWLB-fZmKQ"
   },
   "source": [
    "주어진 데이터를 이용하여 다중선형회귀 문제를 해결하시오.  \n",
    "\n",
    "- age: Age of patients in years.\n",
    "- ldl: LDL-Cholesterol ratio of the patient.\n",
    "- height: The height of the patient in cm.\n",
    "- weight: The weight of patients in kg."
   ]
  },
  {
   "cell_type": "markdown",
   "id": "36e96573",
   "metadata": {},
   "source": [
    "제3유형: 2-1  \n",
    "선형회귀 모델을 만들어 독립변수 ldl의 회귀계수를 구하시오.\n",
    "- 독립변수: age, ldl\n",
    "- 종속변수: weight"
   ]
  },
  {
   "cell_type": "markdown",
   "id": "084fc379",
   "metadata": {},
   "source": [
    "제3유형: 2-2  \n",
    "age가 고정일때 ldl과 weight가 선형 관계인지 검정하기 위한 p-value를 구하시오."
   ]
  },
  {
   "cell_type": "markdown",
   "id": "06d90fa7",
   "metadata": {},
   "source": [
    "제3유형: 2-3  \n",
    "age가 40, ldl이 60일때 위 모델을 기반으로 weight값을 예측하라."
   ]
  },
  {
   "cell_type": "markdown",
   "id": "6ccae981",
   "metadata": {},
   "source": [
    "---"
   ]
  },
  {
   "cell_type": "markdown",
   "id": "0d8172f0",
   "metadata": {},
   "source": [
    "제3유형: 2-1  \n",
    "선형회귀 모델을 만들어 독립변수 ldl의 회귀계수를 구하시오.\n",
    "- 독립변수: age, ldl\n",
    "- 종속변수: weight"
   ]
  },
  {
   "cell_type": "code",
   "execution_count": 44,
   "id": "4d0d2aa1",
   "metadata": {
    "colab": {
     "base_uri": "https://localhost:8080/"
    },
    "id": "8xa9eYozLuVR",
    "outputId": "c2547139-281f-49dc-a5ec-892ff8ecc63a"
   },
   "outputs": [],
   "source": [
    "import numpy as np\n",
    "import pandas as pd"
   ]
  },
  {
   "cell_type": "code",
   "execution_count": 45,
   "id": "33fe6765",
   "metadata": {
    "colab": {
     "base_uri": "https://localhost:8080/"
    },
    "id": "8xa9eYozLuVR",
    "outputId": "c2547139-281f-49dc-a5ec-892ff8ecc63a"
   },
   "outputs": [
    {
     "data": {
      "text/html": [
       "<div>\n",
       "<style scoped>\n",
       "    .dataframe tbody tr th:only-of-type {\n",
       "        vertical-align: middle;\n",
       "    }\n",
       "\n",
       "    .dataframe tbody tr th {\n",
       "        vertical-align: top;\n",
       "    }\n",
       "\n",
       "    .dataframe thead th {\n",
       "        text-align: right;\n",
       "    }\n",
       "</style>\n",
       "<table border=\"1\" class=\"dataframe\">\n",
       "  <thead>\n",
       "    <tr style=\"text-align: right;\">\n",
       "      <th></th>\n",
       "      <th>age</th>\n",
       "      <th>ldl</th>\n",
       "      <th>height</th>\n",
       "      <th>weight</th>\n",
       "    </tr>\n",
       "  </thead>\n",
       "  <tbody>\n",
       "    <tr>\n",
       "      <th>0</th>\n",
       "      <td>65</td>\n",
       "      <td>69.0</td>\n",
       "      <td>168</td>\n",
       "      <td>111.0</td>\n",
       "    </tr>\n",
       "    <tr>\n",
       "      <th>1</th>\n",
       "      <td>54</td>\n",
       "      <td>117.0</td>\n",
       "      <td>145</td>\n",
       "      <td>81.0</td>\n",
       "    </tr>\n",
       "    <tr>\n",
       "      <th>2</th>\n",
       "      <td>61</td>\n",
       "      <td>86.2</td>\n",
       "      <td>160</td>\n",
       "      <td>72.0</td>\n",
       "    </tr>\n",
       "    <tr>\n",
       "      <th>3</th>\n",
       "      <td>57</td>\n",
       "      <td>76.0</td>\n",
       "      <td>176</td>\n",
       "      <td>78.0</td>\n",
       "    </tr>\n",
       "    <tr>\n",
       "      <th>4</th>\n",
       "      <td>62</td>\n",
       "      <td>160.0</td>\n",
       "      <td>154</td>\n",
       "      <td>61.0</td>\n",
       "    </tr>\n",
       "    <tr>\n",
       "      <th>...</th>\n",
       "      <td>...</td>\n",
       "      <td>...</td>\n",
       "      <td>...</td>\n",
       "      <td>...</td>\n",
       "    </tr>\n",
       "    <tr>\n",
       "      <th>328</th>\n",
       "      <td>46</td>\n",
       "      <td>111.0</td>\n",
       "      <td>143</td>\n",
       "      <td>66.5</td>\n",
       "    </tr>\n",
       "    <tr>\n",
       "      <th>329</th>\n",
       "      <td>42</td>\n",
       "      <td>164.0</td>\n",
       "      <td>164</td>\n",
       "      <td>79.0</td>\n",
       "    </tr>\n",
       "    <tr>\n",
       "      <th>330</th>\n",
       "      <td>51</td>\n",
       "      <td>116.0</td>\n",
       "      <td>180</td>\n",
       "      <td>92.0</td>\n",
       "    </tr>\n",
       "    <tr>\n",
       "      <th>331</th>\n",
       "      <td>45</td>\n",
       "      <td>102.0</td>\n",
       "      <td>166</td>\n",
       "      <td>79.0</td>\n",
       "    </tr>\n",
       "    <tr>\n",
       "      <th>332</th>\n",
       "      <td>68</td>\n",
       "      <td>92.0</td>\n",
       "      <td>165</td>\n",
       "      <td>80.0</td>\n",
       "    </tr>\n",
       "  </tbody>\n",
       "</table>\n",
       "<p>333 rows × 4 columns</p>\n",
       "</div>"
      ],
      "text/plain": [
       "     age    ldl  height  weight\n",
       "0     65   69.0     168   111.0\n",
       "1     54  117.0     145    81.0\n",
       "2     61   86.2     160    72.0\n",
       "3     57   76.0     176    78.0\n",
       "4     62  160.0     154    61.0\n",
       "..   ...    ...     ...     ...\n",
       "328   46  111.0     143    66.5\n",
       "329   42  164.0     164    79.0\n",
       "330   51  116.0     180    92.0\n",
       "331   45  102.0     166    79.0\n",
       "332   68   92.0     165    80.0\n",
       "\n",
       "[333 rows x 4 columns]"
      ]
     },
     "execution_count": 45,
     "metadata": {},
     "output_type": "execute_result"
    }
   ],
   "source": [
    "df = pd.read_csv('./data/기출문제6회_3유형_2.csv')\n",
    "df"
   ]
  },
  {
   "cell_type": "code",
   "execution_count": 46,
   "id": "3a4b698f",
   "metadata": {},
   "outputs": [
    {
     "name": "stdout",
     "output_type": "stream",
     "text": [
      "                            OLS Regression Results                            \n",
      "==============================================================================\n",
      "Dep. Variable:                 weight   R-squared:                       0.044\n",
      "Model:                            OLS   Adj. R-squared:                  0.038\n",
      "Method:                 Least Squares   F-statistic:                     7.574\n",
      "Date:                Thu, 28 Mar 2024   Prob (F-statistic):           0.000608\n",
      "Time:                        02:58:15   Log-Likelihood:                -1374.9\n",
      "No. Observations:                 333   AIC:                             2756.\n",
      "Df Residuals:                     330   BIC:                             2767.\n",
      "Df Model:                           2                                         \n",
      "Covariance Type:            nonrobust                                         \n",
      "==============================================================================\n",
      "                 coef    std err          t      P>|t|      [0.025      0.975]\n",
      "------------------------------------------------------------------------------\n",
      "Intercept     74.8953      4.455     16.813      0.000      66.132      83.658\n",
      "age           -0.0361      0.059     -0.611      0.542      -0.152       0.080\n",
      "ldl            0.0819      0.022      3.716      0.000       0.039       0.125\n",
      "==============================================================================\n",
      "Omnibus:                       15.848   Durbin-Watson:                   2.033\n",
      "Prob(Omnibus):                  0.000   Jarque-Bera (JB):               17.569\n",
      "Skew:                           0.471   Prob(JB):                     0.000153\n",
      "Kurtosis:                       3.617   Cond. No.                         701.\n",
      "==============================================================================\n",
      "\n",
      "Notes:\n",
      "[1] Standard Errors assume that the covariance matrix of the errors is correctly specified.\n"
     ]
    }
   ],
   "source": [
    "import statsmodels.formula.api as smf\n",
    "model  = smf.ols('weight ~ age + ldl', df)\n",
    "result = model.fit()\n",
    "print(result.summary())"
   ]
  },
  {
   "cell_type": "code",
   "execution_count": 47,
   "id": "5c6a22b4",
   "metadata": {
    "colab": {
     "base_uri": "https://localhost:8080/"
    },
    "id": "Iwiq2JIkMB5M",
    "outputId": "265b97c7-e029-41c0-e393-70e8df742dc8"
   },
   "outputs": [
    {
     "name": "stdout",
     "output_type": "stream",
     "text": [
      "0.08192866122847184\n"
     ]
    }
   ],
   "source": [
    "coef = result.params['ldl']\n",
    "print(coef)"
   ]
  },
  {
   "cell_type": "code",
   "execution_count": null,
   "id": "f5714a2d",
   "metadata": {},
   "outputs": [],
   "source": []
  },
  {
   "cell_type": "markdown",
   "id": "cc6a4cff",
   "metadata": {},
   "source": [
    "제3유형: 2-2  \n",
    "age가 고정일때 ldl과 weight가 선형 관계인지 검정하기 위한 p-value를 구하시오."
   ]
  },
  {
   "cell_type": "code",
   "execution_count": 48,
   "id": "13925841",
   "metadata": {
    "colab": {
     "base_uri": "https://localhost:8080/"
    },
    "id": "Jada_IpTMKN1",
    "outputId": "9a30d14d-694d-4e1a-8a57-065cd23dabc2"
   },
   "outputs": [
    {
     "name": "stdout",
     "output_type": "stream",
     "text": [
      "0.00023778081979582738\n"
     ]
    }
   ],
   "source": [
    "p_value = result.pvalues['ldl']\n",
    "print(p_value)"
   ]
  },
  {
   "cell_type": "code",
   "execution_count": null,
   "id": "766e771e",
   "metadata": {},
   "outputs": [],
   "source": []
  },
  {
   "cell_type": "markdown",
   "id": "c95fad48",
   "metadata": {},
   "source": [
    "제3유형: 2-3  \n",
    "age가 40, ldl이 60일때 위 모델을 기반으로 weight값을 예측하라."
   ]
  },
  {
   "cell_type": "code",
   "execution_count": 49,
   "id": "2d012d7d",
   "metadata": {},
   "outputs": [
    {
     "data": {
      "text/html": [
       "<div>\n",
       "<style scoped>\n",
       "    .dataframe tbody tr th:only-of-type {\n",
       "        vertical-align: middle;\n",
       "    }\n",
       "\n",
       "    .dataframe tbody tr th {\n",
       "        vertical-align: top;\n",
       "    }\n",
       "\n",
       "    .dataframe thead th {\n",
       "        text-align: right;\n",
       "    }\n",
       "</style>\n",
       "<table border=\"1\" class=\"dataframe\">\n",
       "  <thead>\n",
       "    <tr style=\"text-align: right;\">\n",
       "      <th></th>\n",
       "      <th>age</th>\n",
       "      <th>ldl</th>\n",
       "    </tr>\n",
       "  </thead>\n",
       "  <tbody>\n",
       "    <tr>\n",
       "      <th>0</th>\n",
       "      <td>40</td>\n",
       "      <td>60</td>\n",
       "    </tr>\n",
       "  </tbody>\n",
       "</table>\n",
       "</div>"
      ],
      "text/plain": [
       "   age  ldl\n",
       "0   40   60"
      ]
     },
     "execution_count": 49,
     "metadata": {},
     "output_type": "execute_result"
    }
   ],
   "source": [
    "data = pd.DataFrame({'age':[40], 'ldl':[60]})\n",
    "data"
   ]
  },
  {
   "cell_type": "code",
   "execution_count": 50,
   "id": "56bca223",
   "metadata": {},
   "outputs": [
    {
     "data": {
      "text/plain": [
       "78.36693401912517"
      ]
     },
     "execution_count": 50,
     "metadata": {},
     "output_type": "execute_result"
    }
   ],
   "source": [
    "pred = result.predict(data)\n",
    "pred[0]"
   ]
  },
  {
   "cell_type": "code",
   "execution_count": null,
   "id": "c2a16afb",
   "metadata": {},
   "outputs": [],
   "source": []
  },
  {
   "cell_type": "markdown",
   "id": "3b7ce2a4",
   "metadata": {},
   "source": [
    "---"
   ]
  },
  {
   "cell_type": "markdown",
   "id": "4d57f3e5",
   "metadata": {},
   "source": [
    "## 기출문제 5회"
   ]
  },
  {
   "cell_type": "markdown",
   "id": "c486f38d",
   "metadata": {
    "id": "shWWLB-fZmKQ"
   },
   "source": [
    "### 제1유형"
   ]
  },
  {
   "cell_type": "markdown",
   "id": "17fa323b",
   "metadata": {
    "id": "shWWLB-fZmKQ"
   },
   "source": [
    "#### 제1유형: 1\n",
    "종량제봉투용도가 '음식물쓰레기'이고 종량제봉투사용 대상이 '사업장용'인 1.5L 봉투 가격의 평균을 구하시오. (반올림하여 정수로 출력하시오)  \n",
    "단, 0인 행은 제외하시오."
   ]
  },
  {
   "cell_type": "markdown",
   "id": "775909f6",
   "metadata": {
    "id": "shWWLB-fZmKQ"
   },
   "source": [
    "#### 제1유형: 2\n",
    "BMI(Body Mass Index, 체질량 지수)는 몸무게(kg)를 키(m)의 제곱으로 나누어 계산된다.  \n",
    "BMI에 따른 비만도 분류는 다음과 같다.\n",
    "\n",
    "|BMI 범위|비만도 분류|\n",
    "|---|---|\n",
    "|18.5 미만|저체중|\n",
    "|18.5 이상 23 미만|정상|\n",
    "|23 이상 25 미만|고도비만|\n",
    "|25 이상|초고도비만|\n",
    "\n",
    "주어진 BMI 데이터셋에서 초고도비만과 정상에 속하는 인원 수와 합계를 정수로 출력하시오."
   ]
  },
  {
   "cell_type": "markdown",
   "id": "d2ffae0d",
   "metadata": {
    "id": "shWWLB-fZmKQ"
   },
   "source": [
    "#### 제1유형: 3\n",
    "순유입인원은 초중고 도내,도외 전입인원에서 초중고 도내, 도외 전출인원을 뺀값이다.  \n",
    "각년도별로 가장 큰 순유입인원을 가진 지역구의 순유입인원을 구하고 전체 기간의 해당 순유입인원들의 합을 구하여라"
   ]
  },
  {
   "cell_type": "markdown",
   "id": "9f5ade33",
   "metadata": {
    "id": "shWWLB-fZmKQ"
   },
   "source": [
    "---"
   ]
  },
  {
   "cell_type": "code",
   "execution_count": null,
   "id": "6cd40cd0",
   "metadata": {},
   "outputs": [],
   "source": []
  },
  {
   "cell_type": "markdown",
   "id": "6dc36569",
   "metadata": {
    "id": "shWWLB-fZmKQ"
   },
   "source": [
    "#### 제1유형: 1\n",
    "종량제봉투용도가 '음식물쓰레기'이고 종량제봉투사용 대상이 '사업장용'인 1.5L 봉투 가격의 평균을 구하시오. (반올림하여 정수로 출력하시오)  \n",
    "단, 0인 행은 제외하시오."
   ]
  },
  {
   "cell_type": "code",
   "execution_count": 51,
   "id": "2970e560",
   "metadata": {
    "colab": {
     "base_uri": "https://localhost:8080/"
    },
    "id": "8WElLn1kNDvS",
    "outputId": "6aadca3c-2030-434c-c693-583432811f2d"
   },
   "outputs": [],
   "source": [
    "import numpy as np\n",
    "import pandas as pd"
   ]
  },
  {
   "cell_type": "code",
   "execution_count": 52,
   "id": "13ed2949",
   "metadata": {
    "colab": {
     "base_uri": "https://localhost:8080/"
    },
    "id": "8WElLn1kNDvS",
    "outputId": "6aadca3c-2030-434c-c693-583432811f2d"
   },
   "outputs": [
    {
     "data": {
      "text/html": [
       "<div>\n",
       "<style scoped>\n",
       "    .dataframe tbody tr th:only-of-type {\n",
       "        vertical-align: middle;\n",
       "    }\n",
       "\n",
       "    .dataframe tbody tr th {\n",
       "        vertical-align: top;\n",
       "    }\n",
       "\n",
       "    .dataframe thead th {\n",
       "        text-align: right;\n",
       "    }\n",
       "</style>\n",
       "<table border=\"1\" class=\"dataframe\">\n",
       "  <thead>\n",
       "    <tr style=\"text-align: right;\">\n",
       "      <th></th>\n",
       "      <th>시도명</th>\n",
       "      <th>시군구명</th>\n",
       "      <th>종량제봉투종류</th>\n",
       "      <th>종량제봉투처리방식</th>\n",
       "      <th>종량제봉투용도</th>\n",
       "      <th>종량제봉투사용대상</th>\n",
       "      <th>1L가격</th>\n",
       "      <th>1.5L가격</th>\n",
       "      <th>2L가격</th>\n",
       "      <th>2.5L가격</th>\n",
       "      <th>...</th>\n",
       "      <th>10L가격</th>\n",
       "      <th>20L가격</th>\n",
       "      <th>30L가격</th>\n",
       "      <th>50L가격</th>\n",
       "      <th>60L가격</th>\n",
       "      <th>75L가격</th>\n",
       "      <th>100L가격</th>\n",
       "      <th>120L가격</th>\n",
       "      <th>125L가격</th>\n",
       "      <th>관리부서명</th>\n",
       "    </tr>\n",
       "  </thead>\n",
       "  <tbody>\n",
       "    <tr>\n",
       "      <th>0</th>\n",
       "      <td>경기도</td>\n",
       "      <td>안양시</td>\n",
       "      <td>규격봉투</td>\n",
       "      <td>매립용</td>\n",
       "      <td>생활쓰레기</td>\n",
       "      <td>사업장용</td>\n",
       "      <td>0</td>\n",
       "      <td>0</td>\n",
       "      <td>0</td>\n",
       "      <td>0</td>\n",
       "      <td>...</td>\n",
       "      <td>300</td>\n",
       "      <td>550</td>\n",
       "      <td>0</td>\n",
       "      <td>1400</td>\n",
       "      <td>0</td>\n",
       "      <td>2100</td>\n",
       "      <td>0</td>\n",
       "      <td>0</td>\n",
       "      <td>0</td>\n",
       "      <td>자원순환과</td>\n",
       "    </tr>\n",
       "    <tr>\n",
       "      <th>1</th>\n",
       "      <td>경기도</td>\n",
       "      <td>안양시</td>\n",
       "      <td>규격봉투</td>\n",
       "      <td>매립용</td>\n",
       "      <td>생활쓰레기</td>\n",
       "      <td>기타</td>\n",
       "      <td>0</td>\n",
       "      <td>0</td>\n",
       "      <td>0</td>\n",
       "      <td>0</td>\n",
       "      <td>...</td>\n",
       "      <td>300</td>\n",
       "      <td>550</td>\n",
       "      <td>0</td>\n",
       "      <td>1400</td>\n",
       "      <td>0</td>\n",
       "      <td>2100</td>\n",
       "      <td>0</td>\n",
       "      <td>0</td>\n",
       "      <td>0</td>\n",
       "      <td>자원순환과</td>\n",
       "    </tr>\n",
       "    <tr>\n",
       "      <th>2</th>\n",
       "      <td>경기도</td>\n",
       "      <td>안양시</td>\n",
       "      <td>규격봉투</td>\n",
       "      <td>소각용</td>\n",
       "      <td>음식물쓰레기</td>\n",
       "      <td>가정용</td>\n",
       "      <td>0</td>\n",
       "      <td>50</td>\n",
       "      <td>0</td>\n",
       "      <td>80</td>\n",
       "      <td>...</td>\n",
       "      <td>300</td>\n",
       "      <td>550</td>\n",
       "      <td>0</td>\n",
       "      <td>0</td>\n",
       "      <td>0</td>\n",
       "      <td>0</td>\n",
       "      <td>0</td>\n",
       "      <td>0</td>\n",
       "      <td>0</td>\n",
       "      <td>자원순환과</td>\n",
       "    </tr>\n",
       "    <tr>\n",
       "      <th>3</th>\n",
       "      <td>경기도</td>\n",
       "      <td>안양시</td>\n",
       "      <td>규격봉투</td>\n",
       "      <td>소각용</td>\n",
       "      <td>음식물쓰레기</td>\n",
       "      <td>사업장용</td>\n",
       "      <td>0</td>\n",
       "      <td>50</td>\n",
       "      <td>0</td>\n",
       "      <td>80</td>\n",
       "      <td>...</td>\n",
       "      <td>300</td>\n",
       "      <td>550</td>\n",
       "      <td>0</td>\n",
       "      <td>0</td>\n",
       "      <td>0</td>\n",
       "      <td>0</td>\n",
       "      <td>0</td>\n",
       "      <td>0</td>\n",
       "      <td>0</td>\n",
       "      <td>자원순환과</td>\n",
       "    </tr>\n",
       "    <tr>\n",
       "      <th>4</th>\n",
       "      <td>경기도</td>\n",
       "      <td>안양시</td>\n",
       "      <td>규격봉투</td>\n",
       "      <td>소각용</td>\n",
       "      <td>음식물쓰레기</td>\n",
       "      <td>기타</td>\n",
       "      <td>0</td>\n",
       "      <td>50</td>\n",
       "      <td>0</td>\n",
       "      <td>80</td>\n",
       "      <td>...</td>\n",
       "      <td>300</td>\n",
       "      <td>550</td>\n",
       "      <td>0</td>\n",
       "      <td>0</td>\n",
       "      <td>0</td>\n",
       "      <td>0</td>\n",
       "      <td>0</td>\n",
       "      <td>0</td>\n",
       "      <td>0</td>\n",
       "      <td>자원순환과</td>\n",
       "    </tr>\n",
       "  </tbody>\n",
       "</table>\n",
       "<p>5 rows × 22 columns</p>\n",
       "</div>"
      ],
      "text/plain": [
       "   시도명 시군구명 종량제봉투종류 종량제봉투처리방식 종량제봉투용도 종량제봉투사용대상  1L가격  1.5L가격  2L가격  2.5L가격  \\\n",
       "0  경기도  안양시    규격봉투       매립용   생활쓰레기      사업장용     0       0     0       0   \n",
       "1  경기도  안양시    규격봉투       매립용   생활쓰레기        기타     0       0     0       0   \n",
       "2  경기도  안양시    규격봉투       소각용  음식물쓰레기       가정용     0      50     0      80   \n",
       "3  경기도  안양시    규격봉투       소각용  음식물쓰레기      사업장용     0      50     0      80   \n",
       "4  경기도  안양시    규격봉투       소각용  음식물쓰레기        기타     0      50     0      80   \n",
       "\n",
       "   ...  10L가격  20L가격  30L가격  50L가격  60L가격  75L가격  100L가격  120L가격  125L가격  \\\n",
       "0  ...    300    550      0   1400      0   2100       0       0       0   \n",
       "1  ...    300    550      0   1400      0   2100       0       0       0   \n",
       "2  ...    300    550      0      0      0      0       0       0       0   \n",
       "3  ...    300    550      0      0      0      0       0       0       0   \n",
       "4  ...    300    550      0      0      0      0       0       0       0   \n",
       "\n",
       "   관리부서명  \n",
       "0  자원순환과  \n",
       "1  자원순환과  \n",
       "2  자원순환과  \n",
       "3  자원순환과  \n",
       "4  자원순환과  \n",
       "\n",
       "[5 rows x 22 columns]"
      ]
     },
     "execution_count": 52,
     "metadata": {},
     "output_type": "execute_result"
    }
   ],
   "source": [
    "df = pd.read_csv('./data/기출문제5회_1유형.csv')\n",
    "df.head()"
   ]
  },
  {
   "cell_type": "code",
   "execution_count": 53,
   "id": "71e439ae",
   "metadata": {
    "colab": {
     "base_uri": "https://localhost:8080/"
    },
    "id": "fFM-0Ct2NTN8",
    "outputId": "4e917629-5083-46c2-ac8d-83ff33a4b15a"
   },
   "outputs": [
    {
     "name": "stdout",
     "output_type": "stream",
     "text": [
      "['생활쓰레기' '음식물쓰레기']\n",
      "['사업장용' '기타' '가정용' '영업장용' '범용' '영업용' '기타(영업장용)' '소규모배출사업장 전용' '가정용+사업장용'\n",
      " '가정용or사업용' '가정용(음식물)' '가정용(공사장생활폐기물)']\n"
     ]
    }
   ],
   "source": [
    "print(df['종량제봉투용도'].unique())\n",
    "print(df['종량제봉투사용대상'].unique())"
   ]
  },
  {
   "cell_type": "code",
   "execution_count": 54,
   "id": "33445fce",
   "metadata": {
    "colab": {
     "base_uri": "https://localhost:8080/"
    },
    "id": "DhmJO_EZNXCW",
    "outputId": "f0e7b9c4-3dcd-4ec6-b4f0-64c6d6df3539"
   },
   "outputs": [],
   "source": [
    "res = df.loc[(df['종량제봉투용도']=='음식물쓰레기')&(df['종량제봉투사용대상']=='사업장용')&(df['1.5L가격']!=0), '1.5L가격'].mean()"
   ]
  },
  {
   "cell_type": "code",
   "execution_count": 55,
   "id": "9ceafa2a",
   "metadata": {},
   "outputs": [
    {
     "name": "stdout",
     "output_type": "stream",
     "text": [
      "50\n"
     ]
    }
   ],
   "source": [
    "print(int(res))"
   ]
  },
  {
   "cell_type": "code",
   "execution_count": null,
   "id": "0fb9bc46",
   "metadata": {},
   "outputs": [],
   "source": []
  },
  {
   "cell_type": "markdown",
   "id": "91c57f66",
   "metadata": {
    "id": "shWWLB-fZmKQ"
   },
   "source": [
    "#### 제1유형: 2\n",
    "BMI(Body Mass Index, 체질량 지수)는 몸무게(kg)를 키(m)의 제곱으로 나누어 계산된다.  \n",
    "BMI에 따른 비만도 분류는 다음과 같다.\n",
    "\n",
    "|BMI 범위|비만도 분류|\n",
    "|---|---|\n",
    "|18.5 미만|저체중|\n",
    "|18.5 이상 23 미만|정상|\n",
    "|23 이상 25 미만|고도비만|\n",
    "|25 이상|초고도비만|\n",
    "\n",
    "주어진 BMI 데이터셋에서 초고도비만과 정상에 속하는 인원 수와 합계를 정수로 출력하시오."
   ]
  },
  {
   "cell_type": "code",
   "execution_count": 56,
   "id": "8b3ef579",
   "metadata": {
    "colab": {
     "base_uri": "https://localhost:8080/"
    },
    "id": "GrZ3BU0JNkI_",
    "outputId": "1a8b1d5a-368d-446e-ee42-1f18860f7cf2"
   },
   "outputs": [],
   "source": [
    "import numpy as np\n",
    "import pandas as pd"
   ]
  },
  {
   "cell_type": "code",
   "execution_count": 57,
   "id": "4ed5c1d4",
   "metadata": {
    "colab": {
     "base_uri": "https://localhost:8080/"
    },
    "id": "GrZ3BU0JNkI_",
    "outputId": "1a8b1d5a-368d-446e-ee42-1f18860f7cf2"
   },
   "outputs": [
    {
     "data": {
      "text/html": [
       "<div>\n",
       "<style scoped>\n",
       "    .dataframe tbody tr th:only-of-type {\n",
       "        vertical-align: middle;\n",
       "    }\n",
       "\n",
       "    .dataframe tbody tr th {\n",
       "        vertical-align: top;\n",
       "    }\n",
       "\n",
       "    .dataframe thead th {\n",
       "        text-align: right;\n",
       "    }\n",
       "</style>\n",
       "<table border=\"1\" class=\"dataframe\">\n",
       "  <thead>\n",
       "    <tr style=\"text-align: right;\">\n",
       "      <th></th>\n",
       "      <th>ID</th>\n",
       "      <th>height(cm)</th>\n",
       "      <th>weight(kg)</th>\n",
       "    </tr>\n",
       "  </thead>\n",
       "  <tbody>\n",
       "    <tr>\n",
       "      <th>0</th>\n",
       "      <td>user_1</td>\n",
       "      <td>173.0</td>\n",
       "      <td>67.5</td>\n",
       "    </tr>\n",
       "    <tr>\n",
       "      <th>1</th>\n",
       "      <td>user_2</td>\n",
       "      <td>149.5</td>\n",
       "      <td>82.5</td>\n",
       "    </tr>\n",
       "    <tr>\n",
       "      <th>2</th>\n",
       "      <td>user_3</td>\n",
       "      <td>143.8</td>\n",
       "      <td>64.6</td>\n",
       "    </tr>\n",
       "    <tr>\n",
       "      <th>3</th>\n",
       "      <td>user_4</td>\n",
       "      <td>163.1</td>\n",
       "      <td>87.2</td>\n",
       "    </tr>\n",
       "    <tr>\n",
       "      <th>4</th>\n",
       "      <td>user_5</td>\n",
       "      <td>159.6</td>\n",
       "      <td>77.1</td>\n",
       "    </tr>\n",
       "  </tbody>\n",
       "</table>\n",
       "</div>"
      ],
      "text/plain": [
       "       ID  height(cm)  weight(kg)\n",
       "0  user_1       173.0        67.5\n",
       "1  user_2       149.5        82.5\n",
       "2  user_3       143.8        64.6\n",
       "3  user_4       163.1        87.2\n",
       "4  user_5       159.6        77.1"
      ]
     },
     "execution_count": 57,
     "metadata": {},
     "output_type": "execute_result"
    }
   ],
   "source": [
    "df = pd.read_csv('./data/기출문제5회_1유형_2.csv')\n",
    "df.head()"
   ]
  },
  {
   "cell_type": "code",
   "execution_count": 58,
   "id": "297d6c12",
   "metadata": {
    "colab": {
     "base_uri": "https://localhost:8080/"
    },
    "id": "InRaNWGeNrwn",
    "outputId": "e04bf88d-494a-41c1-99fe-9c884abdb190"
   },
   "outputs": [
    {
     "data": {
      "text/html": [
       "<div>\n",
       "<style scoped>\n",
       "    .dataframe tbody tr th:only-of-type {\n",
       "        vertical-align: middle;\n",
       "    }\n",
       "\n",
       "    .dataframe tbody tr th {\n",
       "        vertical-align: top;\n",
       "    }\n",
       "\n",
       "    .dataframe thead th {\n",
       "        text-align: right;\n",
       "    }\n",
       "</style>\n",
       "<table border=\"1\" class=\"dataframe\">\n",
       "  <thead>\n",
       "    <tr style=\"text-align: right;\">\n",
       "      <th></th>\n",
       "      <th>ID</th>\n",
       "      <th>height(cm)</th>\n",
       "      <th>weight(kg)</th>\n",
       "      <th>BMI</th>\n",
       "    </tr>\n",
       "  </thead>\n",
       "  <tbody>\n",
       "    <tr>\n",
       "      <th>0</th>\n",
       "      <td>user_1</td>\n",
       "      <td>173.0</td>\n",
       "      <td>67.5</td>\n",
       "      <td>22.553376</td>\n",
       "    </tr>\n",
       "    <tr>\n",
       "      <th>1</th>\n",
       "      <td>user_2</td>\n",
       "      <td>149.5</td>\n",
       "      <td>82.5</td>\n",
       "      <td>36.912339</td>\n",
       "    </tr>\n",
       "    <tr>\n",
       "      <th>2</th>\n",
       "      <td>user_3</td>\n",
       "      <td>143.8</td>\n",
       "      <td>64.6</td>\n",
       "      <td>31.240268</td>\n",
       "    </tr>\n",
       "    <tr>\n",
       "      <th>3</th>\n",
       "      <td>user_4</td>\n",
       "      <td>163.1</td>\n",
       "      <td>87.2</td>\n",
       "      <td>32.779971</td>\n",
       "    </tr>\n",
       "    <tr>\n",
       "      <th>4</th>\n",
       "      <td>user_5</td>\n",
       "      <td>159.6</td>\n",
       "      <td>77.1</td>\n",
       "      <td>30.268340</td>\n",
       "    </tr>\n",
       "  </tbody>\n",
       "</table>\n",
       "</div>"
      ],
      "text/plain": [
       "       ID  height(cm)  weight(kg)        BMI\n",
       "0  user_1       173.0        67.5  22.553376\n",
       "1  user_2       149.5        82.5  36.912339\n",
       "2  user_3       143.8        64.6  31.240268\n",
       "3  user_4       163.1        87.2  32.779971\n",
       "4  user_5       159.6        77.1  30.268340"
      ]
     },
     "execution_count": 58,
     "metadata": {},
     "output_type": "execute_result"
    }
   ],
   "source": [
    "df['BMI'] = df['weight(kg)'] / ((df['height(cm)']/100)**2)\n",
    "df.head()"
   ]
  },
  {
   "cell_type": "code",
   "execution_count": 59,
   "id": "91cdad44",
   "metadata": {
    "colab": {
     "base_uri": "https://localhost:8080/"
    },
    "id": "GHLsvvOiNytb",
    "outputId": "057ac168-d845-4c01-b362-d815440c6963"
   },
   "outputs": [
    {
     "name": "stdout",
     "output_type": "stream",
     "text": [
      "9497\n"
     ]
    }
   ],
   "source": [
    "overweight = len( df[(df['BMI'] >= 25)] )\n",
    "normal     = len( df[(df['BMI'] >= 18.5  )&(df['BMI'] < 23)] )\n",
    "\n",
    "print(overweight + normal)"
   ]
  },
  {
   "cell_type": "code",
   "execution_count": null,
   "id": "1256228f",
   "metadata": {},
   "outputs": [],
   "source": []
  },
  {
   "cell_type": "markdown",
   "id": "8cf5d8c2",
   "metadata": {
    "id": "shWWLB-fZmKQ"
   },
   "source": [
    "#### 제1유형: 3\n",
    "순유입인원은 초중고 도내,도외 전입인원에서 초중고 도내, 도외 전출인원을 뺀값이다.  \n",
    "각년도별로 가장 큰 순유입인원을 가진 지역구의 순유입인원을 구하고 전체 기간의 해당 순유입인원들의 합을 구하여라"
   ]
  },
  {
   "cell_type": "code",
   "execution_count": 60,
   "id": "2df4febc",
   "metadata": {
    "colab": {
     "base_uri": "https://localhost:8080/"
    },
    "id": "0PGlDyy9N7Z0",
    "outputId": "fc42341c-c53b-49d6-b207-509a5ad256f4"
   },
   "outputs": [],
   "source": [
    "import numpy as np\n",
    "import pandas as pd"
   ]
  },
  {
   "cell_type": "code",
   "execution_count": 61,
   "id": "09da601f",
   "metadata": {
    "colab": {
     "base_uri": "https://localhost:8080/"
    },
    "id": "0PGlDyy9N7Z0",
    "outputId": "fc42341c-c53b-49d6-b207-509a5ad256f4"
   },
   "outputs": [
    {
     "data": {
      "text/html": [
       "<div>\n",
       "<style scoped>\n",
       "    .dataframe tbody tr th:only-of-type {\n",
       "        vertical-align: middle;\n",
       "    }\n",
       "\n",
       "    .dataframe tbody tr th {\n",
       "        vertical-align: top;\n",
       "    }\n",
       "\n",
       "    .dataframe thead th {\n",
       "        text-align: right;\n",
       "    }\n",
       "</style>\n",
       "<table border=\"1\" class=\"dataframe\">\n",
       "  <thead>\n",
       "    <tr style=\"text-align: right;\">\n",
       "      <th></th>\n",
       "      <th>지역</th>\n",
       "      <th>초등학교_전출_도내</th>\n",
       "      <th>초등학교_전출_도외</th>\n",
       "      <th>초등학교_전입_도내</th>\n",
       "      <th>초등학교_전입_도외</th>\n",
       "      <th>중학교_전출_도내</th>\n",
       "      <th>중학교_전출_도외</th>\n",
       "      <th>중학교_전입_도내</th>\n",
       "      <th>중학교_전입_도외</th>\n",
       "      <th>고등학교_전출_도내</th>\n",
       "      <th>고등학교_전출_도외</th>\n",
       "      <th>고등학교_전입_도내</th>\n",
       "      <th>고등학교_전입_도외</th>\n",
       "      <th>년도</th>\n",
       "    </tr>\n",
       "  </thead>\n",
       "  <tbody>\n",
       "    <tr>\n",
       "      <th>0</th>\n",
       "      <td>종로구</td>\n",
       "      <td>221</td>\n",
       "      <td>132</td>\n",
       "      <td>255</td>\n",
       "      <td>126</td>\n",
       "      <td>63</td>\n",
       "      <td>71</td>\n",
       "      <td>104</td>\n",
       "      <td>73</td>\n",
       "      <td>203</td>\n",
       "      <td>72</td>\n",
       "      <td>166</td>\n",
       "      <td>75</td>\n",
       "      <td>2012</td>\n",
       "    </tr>\n",
       "    <tr>\n",
       "      <th>1</th>\n",
       "      <td>중구</td>\n",
       "      <td>295</td>\n",
       "      <td>139</td>\n",
       "      <td>203</td>\n",
       "      <td>100</td>\n",
       "      <td>66</td>\n",
       "      <td>43</td>\n",
       "      <td>58</td>\n",
       "      <td>44</td>\n",
       "      <td>156</td>\n",
       "      <td>37</td>\n",
       "      <td>104</td>\n",
       "      <td>39</td>\n",
       "      <td>2012</td>\n",
       "    </tr>\n",
       "    <tr>\n",
       "      <th>2</th>\n",
       "      <td>용산구</td>\n",
       "      <td>380</td>\n",
       "      <td>269</td>\n",
       "      <td>302</td>\n",
       "      <td>174</td>\n",
       "      <td>134</td>\n",
       "      <td>78</td>\n",
       "      <td>91</td>\n",
       "      <td>106</td>\n",
       "      <td>102</td>\n",
       "      <td>66</td>\n",
       "      <td>113</td>\n",
       "      <td>48</td>\n",
       "      <td>2012</td>\n",
       "    </tr>\n",
       "    <tr>\n",
       "      <th>3</th>\n",
       "      <td>성동구</td>\n",
       "      <td>643</td>\n",
       "      <td>344</td>\n",
       "      <td>376</td>\n",
       "      <td>221</td>\n",
       "      <td>154</td>\n",
       "      <td>103</td>\n",
       "      <td>98</td>\n",
       "      <td>82</td>\n",
       "      <td>179</td>\n",
       "      <td>37</td>\n",
       "      <td>153</td>\n",
       "      <td>41</td>\n",
       "      <td>2012</td>\n",
       "    </tr>\n",
       "    <tr>\n",
       "      <th>4</th>\n",
       "      <td>광진구</td>\n",
       "      <td>560</td>\n",
       "      <td>382</td>\n",
       "      <td>595</td>\n",
       "      <td>312</td>\n",
       "      <td>165</td>\n",
       "      <td>158</td>\n",
       "      <td>158</td>\n",
       "      <td>118</td>\n",
       "      <td>115</td>\n",
       "      <td>70</td>\n",
       "      <td>154</td>\n",
       "      <td>66</td>\n",
       "      <td>2012</td>\n",
       "    </tr>\n",
       "  </tbody>\n",
       "</table>\n",
       "</div>"
      ],
      "text/plain": [
       "    지역  초등학교_전출_도내  초등학교_전출_도외  초등학교_전입_도내  초등학교_전입_도외  중학교_전출_도내  중학교_전출_도외  \\\n",
       "0  종로구         221         132         255         126         63         71   \n",
       "1   중구         295         139         203         100         66         43   \n",
       "2  용산구         380         269         302         174        134         78   \n",
       "3  성동구         643         344         376         221        154        103   \n",
       "4  광진구         560         382         595         312        165        158   \n",
       "\n",
       "   중학교_전입_도내  중학교_전입_도외  고등학교_전출_도내  고등학교_전출_도외  고등학교_전입_도내  고등학교_전입_도외    년도  \n",
       "0        104         73         203          72         166          75  2012  \n",
       "1         58         44         156          37         104          39  2012  \n",
       "2         91        106         102          66         113          48  2012  \n",
       "3         98         82         179          37         153          41  2012  \n",
       "4        158        118         115          70         154          66  2012  "
      ]
     },
     "execution_count": 61,
     "metadata": {},
     "output_type": "execute_result"
    }
   ],
   "source": [
    "df = pd.read_csv('./data/기출문제5회_1유형_3.csv')\n",
    "df.head()"
   ]
  },
  {
   "cell_type": "code",
   "execution_count": 62,
   "id": "be9e7283",
   "metadata": {},
   "outputs": [],
   "source": [
    "col_in  = ['초등학교_전입_도내','초등학교_전입_도외','중학교_전입_도내',\n",
    "           '중학교_전입_도외','고등학교_전입_도내','고등학교_전입_도외']\n",
    "\n",
    "col_out = ['초등학교_전출_도내','초등학교_전출_도외','중학교_전출_도내',\n",
    "           '중학교_전출_도외','고등학교_전출_도내','고등학교_전출_도외']"
   ]
  },
  {
   "cell_type": "code",
   "execution_count": 63,
   "id": "1d3724a3",
   "metadata": {},
   "outputs": [],
   "source": [
    "df['순유입인원'] = df[col_in].sum(axis=1) - df[col_out].sum(axis=1)"
   ]
  },
  {
   "cell_type": "code",
   "execution_count": 64,
   "id": "12671535",
   "metadata": {},
   "outputs": [
    {
     "data": {
      "text/plain": [
       "년도\n",
       "2012     949\n",
       "2013    1339\n",
       "2014    2225\n",
       "2015    1498\n",
       "2016     774\n",
       "2017     932\n",
       "2018    1158\n",
       "2019    1821\n",
       "2020    1762\n",
       "2021    1395\n",
       "Name: 순유입인원, dtype: int64"
      ]
     },
     "execution_count": 64,
     "metadata": {},
     "output_type": "execute_result"
    }
   ],
   "source": [
    "df.groupby('년도')['순유입인원'].max()"
   ]
  },
  {
   "cell_type": "code",
   "execution_count": 65,
   "id": "b2e6b9e3",
   "metadata": {},
   "outputs": [
    {
     "name": "stdout",
     "output_type": "stream",
     "text": [
      "13853\n"
     ]
    }
   ],
   "source": [
    "result = df.groupby('년도')['순유입인원'].max().sum()\n",
    "print(result)"
   ]
  },
  {
   "cell_type": "code",
   "execution_count": null,
   "id": "24f19d70",
   "metadata": {},
   "outputs": [],
   "source": []
  },
  {
   "cell_type": "markdown",
   "id": "b8b9a633",
   "metadata": {
    "id": "UcaYZwQkanwI"
   },
   "source": [
    "### 제2유형"
   ]
  },
  {
   "cell_type": "markdown",
   "id": "d63eaf72",
   "metadata": {
    "id": "UcaYZwQkanwI"
   },
   "source": [
    "다음에 주어진 데이터셋은 중고차와 관련된 데이터이다.  \n",
    "학습용 데이터를 이용하여 중고차의 판매 가격을 예측하고, 평가용 데이터에 대한 예측 결과를 csv파일로 제출하시오. (모델의 성능은 RMSE로 평가)"
   ]
  },
  {
   "cell_type": "code",
   "execution_count": 66,
   "id": "11622696",
   "metadata": {
    "colab": {
     "base_uri": "https://localhost:8080/"
    },
    "id": "rRxsh0DhOWIA",
    "outputId": "672ffffe-2235-45fe-8bde-125c0725340a"
   },
   "outputs": [],
   "source": [
    "import numpy as np\n",
    "import pandas as pd"
   ]
  },
  {
   "cell_type": "code",
   "execution_count": 67,
   "id": "43e3a998",
   "metadata": {
    "colab": {
     "base_uri": "https://localhost:8080/"
    },
    "id": "rRxsh0DhOWIA",
    "outputId": "672ffffe-2235-45fe-8bde-125c0725340a"
   },
   "outputs": [],
   "source": [
    "train = pd.read_csv('./data/기출문제5회_2유형_train.csv')\n",
    "test = pd.read_csv('./data/기출문제5회_2유형_test.csv')"
   ]
  },
  {
   "cell_type": "code",
   "execution_count": 68,
   "id": "c0f8dbe9",
   "metadata": {},
   "outputs": [
    {
     "data": {
      "text/html": [
       "<div>\n",
       "<style scoped>\n",
       "    .dataframe tbody tr th:only-of-type {\n",
       "        vertical-align: middle;\n",
       "    }\n",
       "\n",
       "    .dataframe tbody tr th {\n",
       "        vertical-align: top;\n",
       "    }\n",
       "\n",
       "    .dataframe thead th {\n",
       "        text-align: right;\n",
       "    }\n",
       "</style>\n",
       "<table border=\"1\" class=\"dataframe\">\n",
       "  <thead>\n",
       "    <tr style=\"text-align: right;\">\n",
       "      <th></th>\n",
       "      <th>ID</th>\n",
       "      <th>model</th>\n",
       "      <th>year</th>\n",
       "      <th>price</th>\n",
       "      <th>transmission</th>\n",
       "      <th>mileage</th>\n",
       "      <th>fuelType</th>\n",
       "      <th>tax</th>\n",
       "      <th>mpg</th>\n",
       "      <th>engineSize</th>\n",
       "    </tr>\n",
       "  </thead>\n",
       "  <tbody>\n",
       "    <tr>\n",
       "      <th>0</th>\n",
       "      <td>10170</td>\n",
       "      <td>A Class</td>\n",
       "      <td>2012</td>\n",
       "      <td>11940</td>\n",
       "      <td>Automatic</td>\n",
       "      <td>46000</td>\n",
       "      <td>Diesel</td>\n",
       "      <td>30</td>\n",
       "      <td>64.2</td>\n",
       "      <td>2.1</td>\n",
       "    </tr>\n",
       "    <tr>\n",
       "      <th>1</th>\n",
       "      <td>9551</td>\n",
       "      <td>CL Class</td>\n",
       "      <td>2020</td>\n",
       "      <td>38624</td>\n",
       "      <td>Semi-Auto</td>\n",
       "      <td>19</td>\n",
       "      <td>Petrol</td>\n",
       "      <td>150</td>\n",
       "      <td>36.7</td>\n",
       "      <td>2.0</td>\n",
       "    </tr>\n",
       "    <tr>\n",
       "      <th>2</th>\n",
       "      <td>1790</td>\n",
       "      <td>A Class</td>\n",
       "      <td>2013</td>\n",
       "      <td>8500</td>\n",
       "      <td>Manual</td>\n",
       "      <td>69031</td>\n",
       "      <td>Petrol</td>\n",
       "      <td>125</td>\n",
       "      <td>51.4</td>\n",
       "      <td>1.6</td>\n",
       "    </tr>\n",
       "    <tr>\n",
       "      <th>3</th>\n",
       "      <td>10018</td>\n",
       "      <td>B Class</td>\n",
       "      <td>2015</td>\n",
       "      <td>13998</td>\n",
       "      <td>Automatic</td>\n",
       "      <td>34739</td>\n",
       "      <td>Diesel</td>\n",
       "      <td>125</td>\n",
       "      <td>56.5</td>\n",
       "      <td>2.1</td>\n",
       "    </tr>\n",
       "    <tr>\n",
       "      <th>4</th>\n",
       "      <td>142</td>\n",
       "      <td>E Class</td>\n",
       "      <td>2017</td>\n",
       "      <td>20998</td>\n",
       "      <td>Semi-Auto</td>\n",
       "      <td>21352</td>\n",
       "      <td>Diesel</td>\n",
       "      <td>20</td>\n",
       "      <td>72.4</td>\n",
       "      <td>2.0</td>\n",
       "    </tr>\n",
       "    <tr>\n",
       "      <th>...</th>\n",
       "      <td>...</td>\n",
       "      <td>...</td>\n",
       "      <td>...</td>\n",
       "      <td>...</td>\n",
       "      <td>...</td>\n",
       "      <td>...</td>\n",
       "      <td>...</td>\n",
       "      <td>...</td>\n",
       "      <td>...</td>\n",
       "      <td>...</td>\n",
       "    </tr>\n",
       "    <tr>\n",
       "      <th>9818</th>\n",
       "      <td>5612</td>\n",
       "      <td>S Class</td>\n",
       "      <td>2016</td>\n",
       "      <td>79950</td>\n",
       "      <td>Semi-Auto</td>\n",
       "      <td>25317</td>\n",
       "      <td>Petrol</td>\n",
       "      <td>570</td>\n",
       "      <td>24.1</td>\n",
       "      <td>6.0</td>\n",
       "    </tr>\n",
       "    <tr>\n",
       "      <th>9819</th>\n",
       "      <td>9661</td>\n",
       "      <td>C Class</td>\n",
       "      <td>2016</td>\n",
       "      <td>16000</td>\n",
       "      <td>Manual</td>\n",
       "      <td>34903</td>\n",
       "      <td>Diesel</td>\n",
       "      <td>20</td>\n",
       "      <td>68.9</td>\n",
       "      <td>2.1</td>\n",
       "    </tr>\n",
       "    <tr>\n",
       "      <th>9820</th>\n",
       "      <td>10521</td>\n",
       "      <td>A Class</td>\n",
       "      <td>2015</td>\n",
       "      <td>11295</td>\n",
       "      <td>Automatic</td>\n",
       "      <td>86890</td>\n",
       "      <td>Diesel</td>\n",
       "      <td>20</td>\n",
       "      <td>64.2</td>\n",
       "      <td>2.1</td>\n",
       "    </tr>\n",
       "    <tr>\n",
       "      <th>9821</th>\n",
       "      <td>9914</td>\n",
       "      <td>A Class</td>\n",
       "      <td>2016</td>\n",
       "      <td>11849</td>\n",
       "      <td>Manual</td>\n",
       "      <td>27958</td>\n",
       "      <td>Diesel</td>\n",
       "      <td>0</td>\n",
       "      <td>80.7</td>\n",
       "      <td>1.5</td>\n",
       "    </tr>\n",
       "    <tr>\n",
       "      <th>9822</th>\n",
       "      <td>1468</td>\n",
       "      <td>C Class</td>\n",
       "      <td>2015</td>\n",
       "      <td>13448</td>\n",
       "      <td>Semi-Auto</td>\n",
       "      <td>31878</td>\n",
       "      <td>Diesel</td>\n",
       "      <td>20</td>\n",
       "      <td>65.7</td>\n",
       "      <td>2.1</td>\n",
       "    </tr>\n",
       "  </tbody>\n",
       "</table>\n",
       "<p>9823 rows × 10 columns</p>\n",
       "</div>"
      ],
      "text/plain": [
       "         ID      model  year  price transmission  mileage fuelType  tax   mpg  \\\n",
       "0     10170    A Class  2012  11940    Automatic    46000   Diesel   30  64.2   \n",
       "1      9551   CL Class  2020  38624    Semi-Auto       19   Petrol  150  36.7   \n",
       "2      1790    A Class  2013   8500       Manual    69031   Petrol  125  51.4   \n",
       "3     10018    B Class  2015  13998    Automatic    34739   Diesel  125  56.5   \n",
       "4       142    E Class  2017  20998    Semi-Auto    21352   Diesel   20  72.4   \n",
       "...     ...        ...   ...    ...          ...      ...      ...  ...   ...   \n",
       "9818   5612    S Class  2016  79950    Semi-Auto    25317   Petrol  570  24.1   \n",
       "9819   9661    C Class  2016  16000       Manual    34903   Diesel   20  68.9   \n",
       "9820  10521    A Class  2015  11295    Automatic    86890   Diesel   20  64.2   \n",
       "9821   9914    A Class  2016  11849       Manual    27958   Diesel    0  80.7   \n",
       "9822   1468    C Class  2015  13448    Semi-Auto    31878   Diesel   20  65.7   \n",
       "\n",
       "      engineSize  \n",
       "0            2.1  \n",
       "1            2.0  \n",
       "2            1.6  \n",
       "3            2.1  \n",
       "4            2.0  \n",
       "...          ...  \n",
       "9818         6.0  \n",
       "9819         2.1  \n",
       "9820         2.1  \n",
       "9821         1.5  \n",
       "9822         2.1  \n",
       "\n",
       "[9823 rows x 10 columns]"
      ]
     },
     "execution_count": 68,
     "metadata": {},
     "output_type": "execute_result"
    }
   ],
   "source": [
    "train"
   ]
  },
  {
   "cell_type": "code",
   "execution_count": 69,
   "id": "4109102d",
   "metadata": {},
   "outputs": [
    {
     "data": {
      "text/html": [
       "<div>\n",
       "<style scoped>\n",
       "    .dataframe tbody tr th:only-of-type {\n",
       "        vertical-align: middle;\n",
       "    }\n",
       "\n",
       "    .dataframe tbody tr th {\n",
       "        vertical-align: top;\n",
       "    }\n",
       "\n",
       "    .dataframe thead th {\n",
       "        text-align: right;\n",
       "    }\n",
       "</style>\n",
       "<table border=\"1\" class=\"dataframe\">\n",
       "  <thead>\n",
       "    <tr style=\"text-align: right;\">\n",
       "      <th></th>\n",
       "      <th>ID</th>\n",
       "      <th>model</th>\n",
       "      <th>year</th>\n",
       "      <th>transmission</th>\n",
       "      <th>mileage</th>\n",
       "      <th>fuelType</th>\n",
       "      <th>tax</th>\n",
       "      <th>mpg</th>\n",
       "      <th>engineSize</th>\n",
       "    </tr>\n",
       "  </thead>\n",
       "  <tbody>\n",
       "    <tr>\n",
       "      <th>0</th>\n",
       "      <td>0</td>\n",
       "      <td>SLK</td>\n",
       "      <td>2005</td>\n",
       "      <td>Automatic</td>\n",
       "      <td>63000</td>\n",
       "      <td>Petrol</td>\n",
       "      <td>325</td>\n",
       "      <td>32.1</td>\n",
       "      <td>1.8</td>\n",
       "    </tr>\n",
       "    <tr>\n",
       "      <th>1</th>\n",
       "      <td>2</td>\n",
       "      <td>SL CLASS</td>\n",
       "      <td>2016</td>\n",
       "      <td>Automatic</td>\n",
       "      <td>6200</td>\n",
       "      <td>Petrol</td>\n",
       "      <td>555</td>\n",
       "      <td>28.0</td>\n",
       "      <td>5.5</td>\n",
       "    </tr>\n",
       "    <tr>\n",
       "      <th>2</th>\n",
       "      <td>14</td>\n",
       "      <td>GLA Class</td>\n",
       "      <td>2016</td>\n",
       "      <td>Automatic</td>\n",
       "      <td>41713</td>\n",
       "      <td>Diesel</td>\n",
       "      <td>125</td>\n",
       "      <td>56.6</td>\n",
       "      <td>2.1</td>\n",
       "    </tr>\n",
       "    <tr>\n",
       "      <th>3</th>\n",
       "      <td>15</td>\n",
       "      <td>B Class</td>\n",
       "      <td>2017</td>\n",
       "      <td>Automatic</td>\n",
       "      <td>24841</td>\n",
       "      <td>Diesel</td>\n",
       "      <td>150</td>\n",
       "      <td>68.9</td>\n",
       "      <td>1.5</td>\n",
       "    </tr>\n",
       "    <tr>\n",
       "      <th>4</th>\n",
       "      <td>18</td>\n",
       "      <td>B Class</td>\n",
       "      <td>2017</td>\n",
       "      <td>Automatic</td>\n",
       "      <td>14128</td>\n",
       "      <td>Diesel</td>\n",
       "      <td>150</td>\n",
       "      <td>68.9</td>\n",
       "      <td>2.1</td>\n",
       "    </tr>\n",
       "    <tr>\n",
       "      <th>...</th>\n",
       "      <td>...</td>\n",
       "      <td>...</td>\n",
       "      <td>...</td>\n",
       "      <td>...</td>\n",
       "      <td>...</td>\n",
       "      <td>...</td>\n",
       "      <td>...</td>\n",
       "      <td>...</td>\n",
       "      <td>...</td>\n",
       "    </tr>\n",
       "    <tr>\n",
       "      <th>3291</th>\n",
       "      <td>13096</td>\n",
       "      <td>GLE Class</td>\n",
       "      <td>2016</td>\n",
       "      <td>Automatic</td>\n",
       "      <td>27804</td>\n",
       "      <td>Diesel</td>\n",
       "      <td>260</td>\n",
       "      <td>42.8</td>\n",
       "      <td>3.0</td>\n",
       "    </tr>\n",
       "    <tr>\n",
       "      <th>3292</th>\n",
       "      <td>13098</td>\n",
       "      <td>C Class</td>\n",
       "      <td>2019</td>\n",
       "      <td>Automatic</td>\n",
       "      <td>10635</td>\n",
       "      <td>Petrol</td>\n",
       "      <td>145</td>\n",
       "      <td>44.1</td>\n",
       "      <td>1.5</td>\n",
       "    </tr>\n",
       "    <tr>\n",
       "      <th>3293</th>\n",
       "      <td>13101</td>\n",
       "      <td>GLC Class</td>\n",
       "      <td>2016</td>\n",
       "      <td>Automatic</td>\n",
       "      <td>14000</td>\n",
       "      <td>Diesel</td>\n",
       "      <td>125</td>\n",
       "      <td>56.5</td>\n",
       "      <td>2.1</td>\n",
       "    </tr>\n",
       "    <tr>\n",
       "      <th>3294</th>\n",
       "      <td>13109</td>\n",
       "      <td>A Class</td>\n",
       "      <td>2017</td>\n",
       "      <td>Automatic</td>\n",
       "      <td>20477</td>\n",
       "      <td>Diesel</td>\n",
       "      <td>145</td>\n",
       "      <td>68.9</td>\n",
       "      <td>2.1</td>\n",
       "    </tr>\n",
       "    <tr>\n",
       "      <th>3295</th>\n",
       "      <td>13112</td>\n",
       "      <td>C Class</td>\n",
       "      <td>2019</td>\n",
       "      <td>Automatic</td>\n",
       "      <td>5000</td>\n",
       "      <td>Diesel</td>\n",
       "      <td>145</td>\n",
       "      <td>61.4</td>\n",
       "      <td>2.0</td>\n",
       "    </tr>\n",
       "  </tbody>\n",
       "</table>\n",
       "<p>3296 rows × 9 columns</p>\n",
       "</div>"
      ],
      "text/plain": [
       "         ID       model  year transmission  mileage fuelType  tax   mpg  \\\n",
       "0         0         SLK  2005    Automatic    63000   Petrol  325  32.1   \n",
       "1         2    SL CLASS  2016    Automatic     6200   Petrol  555  28.0   \n",
       "2        14   GLA Class  2016    Automatic    41713   Diesel  125  56.6   \n",
       "3        15     B Class  2017    Automatic    24841   Diesel  150  68.9   \n",
       "4        18     B Class  2017    Automatic    14128   Diesel  150  68.9   \n",
       "...     ...         ...   ...          ...      ...      ...  ...   ...   \n",
       "3291  13096   GLE Class  2016    Automatic    27804   Diesel  260  42.8   \n",
       "3292  13098     C Class  2019    Automatic    10635   Petrol  145  44.1   \n",
       "3293  13101   GLC Class  2016    Automatic    14000   Diesel  125  56.5   \n",
       "3294  13109     A Class  2017    Automatic    20477   Diesel  145  68.9   \n",
       "3295  13112     C Class  2019    Automatic     5000   Diesel  145  61.4   \n",
       "\n",
       "      engineSize  \n",
       "0            1.8  \n",
       "1            5.5  \n",
       "2            2.1  \n",
       "3            1.5  \n",
       "4            2.1  \n",
       "...          ...  \n",
       "3291         3.0  \n",
       "3292         1.5  \n",
       "3293         2.1  \n",
       "3294         2.1  \n",
       "3295         2.0  \n",
       "\n",
       "[3296 rows x 9 columns]"
      ]
     },
     "execution_count": 69,
     "metadata": {},
     "output_type": "execute_result"
    }
   ],
   "source": [
    "test"
   ]
  },
  {
   "cell_type": "code",
   "execution_count": 70,
   "id": "2dc5eb99",
   "metadata": {},
   "outputs": [
    {
     "name": "stdout",
     "output_type": "stream",
     "text": [
      "<class 'pandas.core.frame.DataFrame'>\n",
      "RangeIndex: 9823 entries, 0 to 9822\n",
      "Data columns (total 10 columns):\n",
      " #   Column        Non-Null Count  Dtype  \n",
      "---  ------        --------------  -----  \n",
      " 0   ID            9823 non-null   int64  \n",
      " 1   model         9823 non-null   object \n",
      " 2   year          9823 non-null   int64  \n",
      " 3   price         9823 non-null   int64  \n",
      " 4   transmission  9823 non-null   object \n",
      " 5   mileage       9823 non-null   int64  \n",
      " 6   fuelType      9823 non-null   object \n",
      " 7   tax           9823 non-null   int64  \n",
      " 8   mpg           9823 non-null   float64\n",
      " 9   engineSize    9823 non-null   float64\n",
      "dtypes: float64(2), int64(5), object(3)\n",
      "memory usage: 767.6+ KB\n"
     ]
    }
   ],
   "source": [
    "train.info()"
   ]
  },
  {
   "cell_type": "code",
   "execution_count": 71,
   "id": "077c9dfb",
   "metadata": {},
   "outputs": [
    {
     "name": "stdout",
     "output_type": "stream",
     "text": [
      "<class 'pandas.core.frame.DataFrame'>\n",
      "RangeIndex: 3296 entries, 0 to 3295\n",
      "Data columns (total 9 columns):\n",
      " #   Column        Non-Null Count  Dtype  \n",
      "---  ------        --------------  -----  \n",
      " 0   ID            3296 non-null   int64  \n",
      " 1   model         3296 non-null   object \n",
      " 2   year          3296 non-null   int64  \n",
      " 3   transmission  3296 non-null   object \n",
      " 4   mileage       3296 non-null   int64  \n",
      " 5   fuelType      3296 non-null   object \n",
      " 6   tax           3296 non-null   int64  \n",
      " 7   mpg           3296 non-null   float64\n",
      " 8   engineSize    3296 non-null   float64\n",
      "dtypes: float64(2), int64(4), object(3)\n",
      "memory usage: 231.9+ KB\n"
     ]
    }
   ],
   "source": [
    "test.info()"
   ]
  },
  {
   "cell_type": "code",
   "execution_count": 72,
   "id": "35013974",
   "metadata": {
    "colab": {
     "base_uri": "https://localhost:8080/"
    },
    "id": "oU_raRwKOr68",
    "outputId": "e4e92432-7c55-4f85-c85c-5a694f6f9b43"
   },
   "outputs": [
    {
     "data": {
      "text/plain": [
       "ID              0\n",
       "model           0\n",
       "year            0\n",
       "price           0\n",
       "transmission    0\n",
       "mileage         0\n",
       "fuelType        0\n",
       "tax             0\n",
       "mpg             0\n",
       "engineSize      0\n",
       "dtype: int64"
      ]
     },
     "execution_count": 72,
     "metadata": {},
     "output_type": "execute_result"
    }
   ],
   "source": [
    "train.isnull().sum()"
   ]
  },
  {
   "cell_type": "code",
   "execution_count": 73,
   "id": "dd415c74",
   "metadata": {
    "colab": {
     "base_uri": "https://localhost:8080/"
    },
    "id": "oU_raRwKOr68",
    "outputId": "e4e92432-7c55-4f85-c85c-5a694f6f9b43"
   },
   "outputs": [
    {
     "data": {
      "text/plain": [
       "ID              0\n",
       "model           0\n",
       "year            0\n",
       "transmission    0\n",
       "mileage         0\n",
       "fuelType        0\n",
       "tax             0\n",
       "mpg             0\n",
       "engineSize      0\n",
       "dtype: int64"
      ]
     },
     "execution_count": 73,
     "metadata": {},
     "output_type": "execute_result"
    }
   ],
   "source": [
    "test.isnull().sum()"
   ]
  },
  {
   "cell_type": "code",
   "execution_count": 74,
   "id": "3de429f1",
   "metadata": {},
   "outputs": [],
   "source": [
    "# 학습용 데이터의 타겟 값 처리\n",
    "train_target = train.pop('price')"
   ]
  },
  {
   "cell_type": "code",
   "execution_count": 75,
   "id": "fe16f4d3",
   "metadata": {},
   "outputs": [],
   "source": [
    "# 컬럼 삭제\n",
    "train.drop('ID', axis=1, inplace=True)\n",
    "test.drop('ID', axis=1, inplace=True)"
   ]
  },
  {
   "cell_type": "code",
   "execution_count": 76,
   "id": "414742b4",
   "metadata": {},
   "outputs": [],
   "source": [
    "col_cat = ['model','transmission','fuelType']\n",
    "col_num = ['year','mileage','tax','mpg','engineSize']"
   ]
  },
  {
   "cell_type": "code",
   "execution_count": 77,
   "id": "ab564f89",
   "metadata": {},
   "outputs": [],
   "source": [
    "# 원핫 인코딩\n",
    "df_t = pd.concat([train, test])\n",
    "\n",
    "df_t = pd.get_dummies(df_t)\n",
    "\n",
    "train = df_t.iloc[:len(train)].copy()\n",
    "test = df_t.iloc[len(train):].copy()"
   ]
  },
  {
   "cell_type": "code",
   "execution_count": 78,
   "id": "a838209f",
   "metadata": {},
   "outputs": [],
   "source": [
    "# Min-Max 스케일링\n",
    "from sklearn.preprocessing import MinMaxScaler\n",
    "\n",
    "scaler = MinMaxScaler()\n",
    "\n",
    "train[col_num] = scaler.fit_transform(train[col_num])\n",
    "test[col_num]  = scaler.transform(test[col_num])"
   ]
  },
  {
   "cell_type": "code",
   "execution_count": 79,
   "id": "6b3684d8",
   "metadata": {},
   "outputs": [
    {
     "name": "stdout",
     "output_type": "stream",
     "text": [
      "2892.7426814157884\n"
     ]
    }
   ],
   "source": [
    "# [1] Data Split\n",
    "from sklearn.model_selection import train_test_split\n",
    "\n",
    "X_train, X_test, y_train, y_test = train_test_split(train, train_target, test_size = 0.3)\n",
    "\n",
    "\n",
    "# [2] Classifier\n",
    "from xgboost import XGBRegressor\n",
    "#from sklearn.ensemble import RandomForestRegressor\n",
    "\n",
    "model = XGBRegressor()\n",
    "#model = RandomForestRegressor(n_estimators=100, max_depth=4)\n",
    "#model = RandomForestRegressor(random_state=123)\n",
    "\n",
    "# [3] Fit\n",
    "model.fit(X_train, y_train)\n",
    "\n",
    "# [4] Predict\n",
    "pred = model.predict(X_test)\n",
    "\n",
    "# [5] Evaluation\n",
    "from sklearn import metrics\n",
    "\n",
    "print(np.sqrt(metrics.mean_squared_error(y_test, pred)))\n"
   ]
  },
  {
   "cell_type": "markdown",
   "id": "9e9c9dab",
   "metadata": {},
   "source": [
    "#### 제출 파일 생성"
   ]
  },
  {
   "cell_type": "code",
   "execution_count": 80,
   "id": "2e493c8c",
   "metadata": {},
   "outputs": [],
   "source": [
    "# 예측\n",
    "pred_test = model.predict(test)\n",
    "\n",
    "# DataFrame 생성\n",
    "result = pd.DataFrame({'pred': pred_test})\n",
    "\n",
    "# 파일 쓰기\n",
    "#result.to_csv('result.csv', index=False) # 인덱스 제거"
   ]
  },
  {
   "cell_type": "code",
   "execution_count": 81,
   "id": "ec295e5e",
   "metadata": {},
   "outputs": [
    {
     "data": {
      "text/html": [
       "<div>\n",
       "<style scoped>\n",
       "    .dataframe tbody tr th:only-of-type {\n",
       "        vertical-align: middle;\n",
       "    }\n",
       "\n",
       "    .dataframe tbody tr th {\n",
       "        vertical-align: top;\n",
       "    }\n",
       "\n",
       "    .dataframe thead th {\n",
       "        text-align: right;\n",
       "    }\n",
       "</style>\n",
       "<table border=\"1\" class=\"dataframe\">\n",
       "  <thead>\n",
       "    <tr style=\"text-align: right;\">\n",
       "      <th></th>\n",
       "      <th>pred</th>\n",
       "    </tr>\n",
       "  </thead>\n",
       "  <tbody>\n",
       "    <tr>\n",
       "      <th>0</th>\n",
       "      <td>5468.505859</td>\n",
       "    </tr>\n",
       "    <tr>\n",
       "      <th>1</th>\n",
       "      <td>60097.042969</td>\n",
       "    </tr>\n",
       "    <tr>\n",
       "      <th>2</th>\n",
       "      <td>17297.734375</td>\n",
       "    </tr>\n",
       "    <tr>\n",
       "      <th>3</th>\n",
       "      <td>15007.532227</td>\n",
       "    </tr>\n",
       "    <tr>\n",
       "      <th>4</th>\n",
       "      <td>15646.477539</td>\n",
       "    </tr>\n",
       "    <tr>\n",
       "      <th>...</th>\n",
       "      <td>...</td>\n",
       "    </tr>\n",
       "    <tr>\n",
       "      <th>3291</th>\n",
       "      <td>27889.226562</td>\n",
       "    </tr>\n",
       "    <tr>\n",
       "      <th>3292</th>\n",
       "      <td>24998.511719</td>\n",
       "    </tr>\n",
       "    <tr>\n",
       "      <th>3293</th>\n",
       "      <td>25946.785156</td>\n",
       "    </tr>\n",
       "    <tr>\n",
       "      <th>3294</th>\n",
       "      <td>17292.345703</td>\n",
       "    </tr>\n",
       "    <tr>\n",
       "      <th>3295</th>\n",
       "      <td>29071.378906</td>\n",
       "    </tr>\n",
       "  </tbody>\n",
       "</table>\n",
       "<p>3296 rows × 1 columns</p>\n",
       "</div>"
      ],
      "text/plain": [
       "              pred\n",
       "0      5468.505859\n",
       "1     60097.042969\n",
       "2     17297.734375\n",
       "3     15007.532227\n",
       "4     15646.477539\n",
       "...            ...\n",
       "3291  27889.226562\n",
       "3292  24998.511719\n",
       "3293  25946.785156\n",
       "3294  17292.345703\n",
       "3295  29071.378906\n",
       "\n",
       "[3296 rows x 1 columns]"
      ]
     },
     "execution_count": 81,
     "metadata": {},
     "output_type": "execute_result"
    }
   ],
   "source": [
    "result"
   ]
  },
  {
   "cell_type": "code",
   "execution_count": null,
   "id": "3a32f4f4",
   "metadata": {},
   "outputs": [],
   "source": []
  },
  {
   "cell_type": "markdown",
   "id": "74248de5",
   "metadata": {},
   "source": [
    "---"
   ]
  },
  {
   "cell_type": "code",
   "execution_count": 82,
   "id": "a834910c",
   "metadata": {},
   "outputs": [],
   "source": [
    "# End of file"
   ]
  },
  {
   "cell_type": "code",
   "execution_count": null,
   "id": "9784f66f",
   "metadata": {},
   "outputs": [],
   "source": []
  }
 ],
 "metadata": {
  "kernelspec": {
   "display_name": "Python 3 (ipykernel)",
   "language": "python",
   "name": "python3"
  },
  "language_info": {
   "codemirror_mode": {
    "name": "ipython",
    "version": 3
   },
   "file_extension": ".py",
   "mimetype": "text/x-python",
   "name": "python",
   "nbconvert_exporter": "python",
   "pygments_lexer": "ipython3",
   "version": "3.11.4"
  },
  "vp": {
   "vp_config_version": "1.0.0",
   "vp_menu_width": 273,
   "vp_note_display": false,
   "vp_note_width": 0,
   "vp_position": {
    "width": 278
   },
   "vp_section_display": false,
   "vp_signature": "VisualPython"
  }
 },
 "nbformat": 4,
 "nbformat_minor": 5
}
