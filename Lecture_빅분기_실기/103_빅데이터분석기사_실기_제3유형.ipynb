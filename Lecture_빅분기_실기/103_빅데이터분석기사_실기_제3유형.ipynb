{
 "cells": [
  {
   "cell_type": "markdown",
   "id": "9ac946fb",
   "metadata": {},
   "source": [
    "# 빅데이터 분석 기사 실기 - 제3유형"
   ]
  },
  {
   "cell_type": "markdown",
   "id": "da9623f7",
   "metadata": {},
   "source": [
    "---"
   ]
  },
  {
   "cell_type": "markdown",
   "id": "04ae4b9d",
   "metadata": {},
   "source": [
    "## Import"
   ]
  },
  {
   "cell_type": "code",
   "execution_count": 1,
   "id": "c0a041a2",
   "metadata": {},
   "outputs": [],
   "source": [
    "import numpy as np\n",
    "import pandas as pd"
   ]
  },
  {
   "cell_type": "markdown",
   "id": "22692d80",
   "metadata": {},
   "source": [
    "## 1. 단일표본 t-검정\n",
    " - 같다, 크다, 작다"
   ]
  },
  {
   "cell_type": "code",
   "execution_count": 2,
   "id": "088a1b42",
   "metadata": {},
   "outputs": [
    {
     "data": {
      "text/html": [
       "<div>\n",
       "<style scoped>\n",
       "    .dataframe tbody tr th:only-of-type {\n",
       "        vertical-align: middle;\n",
       "    }\n",
       "\n",
       "    .dataframe tbody tr th {\n",
       "        vertical-align: top;\n",
       "    }\n",
       "\n",
       "    .dataframe thead th {\n",
       "        text-align: right;\n",
       "    }\n",
       "</style>\n",
       "<table border=\"1\" class=\"dataframe\">\n",
       "  <thead>\n",
       "    <tr style=\"text-align: right;\">\n",
       "      <th></th>\n",
       "      <th>신장</th>\n",
       "    </tr>\n",
       "  </thead>\n",
       "  <tbody>\n",
       "    <tr>\n",
       "      <th>0</th>\n",
       "      <td>148.0</td>\n",
       "    </tr>\n",
       "    <tr>\n",
       "      <th>1</th>\n",
       "      <td>150.0</td>\n",
       "    </tr>\n",
       "    <tr>\n",
       "      <th>2</th>\n",
       "      <td>149.0</td>\n",
       "    </tr>\n",
       "    <tr>\n",
       "      <th>3</th>\n",
       "      <td>144.0</td>\n",
       "    </tr>\n",
       "    <tr>\n",
       "      <th>4</th>\n",
       "      <td>152.0</td>\n",
       "    </tr>\n",
       "  </tbody>\n",
       "</table>\n",
       "</div>"
      ],
      "text/plain": [
       "      신장\n",
       "0  148.0\n",
       "1  150.0\n",
       "2  149.0\n",
       "3  144.0\n",
       "4  152.0"
      ]
     },
     "execution_count": 2,
     "metadata": {},
     "output_type": "execute_result"
    }
   ],
   "source": [
    "df = pd.read_csv('./data/단일표본t검정.csv')\n",
    "df.head()"
   ]
  },
  {
   "cell_type": "markdown",
   "id": "e4ebb93c",
   "metadata": {},
   "source": [
    "#### 신장의 평균이 149가 아니 라고 할 수 있는가?\n",
    "- 귀무가설(H0): 신장의 평균은 149이다\n",
    "- 대립가설(H1): 신장의 평균은 149가 아니다\n",
    "- 유의 수준: 0.05\n",
    "\n",
    "- 독립성, 정규성 가정\n",
    "\n",
    "1. 검정통계량\n",
    "2. p-value\n",
    "3. 검정결과"
   ]
  },
  {
   "cell_type": "code",
   "execution_count": 3,
   "id": "1a566eff",
   "metadata": {},
   "outputs": [
    {
     "name": "stdout",
     "output_type": "stream",
     "text": [
      "t-statistic: 0.87\n",
      "p-value: 0.39\n"
     ]
    }
   ],
   "source": [
    "from scipy import stats\n",
    "\n",
    "mu = 149\n",
    "alpha = 0.05  # 유의수준\n",
    "\n",
    "# t-test\n",
    "t_statistic, p_value = stats.ttest_1samp(df['신장'], mu, alternative='two-sided')\n",
    "#t_statistic, p_value = stats.ttest_1samp(df['신장'], mu, alternative='greater')\n",
    "#t_statistic, p_value = stats.ttest_1samp(df['신장'], mu, alternative='less')\n",
    "\n",
    "# 결과 출력\n",
    "print('t-statistic:', round(t_statistic,2))\n",
    "print('p-value:', round(p_value,2))\n",
    "\n",
    "# 귀무가설 채택"
   ]
  },
  {
   "cell_type": "code",
   "execution_count": null,
   "id": "04fa9959",
   "metadata": {},
   "outputs": [],
   "source": []
  },
  {
   "cell_type": "markdown",
   "id": "46bba5c0",
   "metadata": {},
   "source": [
    "## 2. 대응표본 t-검정"
   ]
  },
  {
   "cell_type": "code",
   "execution_count": 4,
   "id": "783ed474",
   "metadata": {},
   "outputs": [
    {
     "data": {
      "text/html": [
       "<div>\n",
       "<style scoped>\n",
       "    .dataframe tbody tr th:only-of-type {\n",
       "        vertical-align: middle;\n",
       "    }\n",
       "\n",
       "    .dataframe tbody tr th {\n",
       "        vertical-align: top;\n",
       "    }\n",
       "\n",
       "    .dataframe thead th {\n",
       "        text-align: right;\n",
       "    }\n",
       "</style>\n",
       "<table border=\"1\" class=\"dataframe\">\n",
       "  <thead>\n",
       "    <tr style=\"text-align: right;\">\n",
       "      <th></th>\n",
       "      <th>id</th>\n",
       "      <th>사전체력</th>\n",
       "      <th>사후체력</th>\n",
       "    </tr>\n",
       "  </thead>\n",
       "  <tbody>\n",
       "    <tr>\n",
       "      <th>0</th>\n",
       "      <td>1</td>\n",
       "      <td>50.0</td>\n",
       "      <td>36.67</td>\n",
       "    </tr>\n",
       "    <tr>\n",
       "      <th>1</th>\n",
       "      <td>2</td>\n",
       "      <td>50.0</td>\n",
       "      <td>61.67</td>\n",
       "    </tr>\n",
       "    <tr>\n",
       "      <th>2</th>\n",
       "      <td>3</td>\n",
       "      <td>67.5</td>\n",
       "      <td>85.00</td>\n",
       "    </tr>\n",
       "    <tr>\n",
       "      <th>3</th>\n",
       "      <td>4</td>\n",
       "      <td>95.0</td>\n",
       "      <td>75.00</td>\n",
       "    </tr>\n",
       "    <tr>\n",
       "      <th>4</th>\n",
       "      <td>5</td>\n",
       "      <td>67.5</td>\n",
       "      <td>75.00</td>\n",
       "    </tr>\n",
       "  </tbody>\n",
       "</table>\n",
       "</div>"
      ],
      "text/plain": [
       "   id  사전체력   사후체력\n",
       "0   1  50.0  36.67\n",
       "1   2  50.0  61.67\n",
       "2   3  67.5  85.00\n",
       "3   4  95.0  75.00\n",
       "4   5  67.5  75.00"
      ]
     },
     "execution_count": 4,
     "metadata": {},
     "output_type": "execute_result"
    }
   ],
   "source": [
    "df = pd.read_csv('./data/대응표본t검정.csv')\n",
    "df.head()"
   ]
  },
  {
   "cell_type": "markdown",
   "id": "85c0e348",
   "metadata": {},
   "source": [
    "#### 사후체력이 사전체력보다 크다고 할 수 있는가?\n",
    "- 귀무가설(H0): (사후체력 - 사전체력) <= 0\n",
    "- 대립가설(H1): (사후체력 - 사전체력)  > 0\n",
    "- 유의 수준: 0.05\n",
    "\n",
    "1. 두 그룹의 평균차이(사후체력 - 사전체력)\n",
    "2. 검정통계량\n",
    "3. p-value\n",
    "4. 검정결과"
   ]
  },
  {
   "cell_type": "code",
   "execution_count": 5,
   "id": "6c33085d",
   "metadata": {},
   "outputs": [
    {
     "name": "stdout",
     "output_type": "stream",
     "text": [
      "평균차이: 4.18\n",
      "t-statistic: 2.94\n",
      "p-value: 0.0\n"
     ]
    }
   ],
   "source": [
    "from scipy import stats\n",
    "\n",
    "alpha = 0.05  # 유의수준\n",
    "\n",
    "df['diff'] = df['사후체력'] - df['사전체력']\n",
    "\n",
    "print('평균차이:',round(df['diff'].mean(),2))\n",
    "\n",
    "t_statistic, p_value = stats.ttest_rel(df['사후체력'], df['사전체력'], alternative='greater')\n",
    "print('t-statistic:', round(t_statistic,2))\n",
    "print('p-value:', round(p_value,2))\n",
    "\n",
    "# 귀무가설 기각, 대립가설 채택"
   ]
  },
  {
   "cell_type": "code",
   "execution_count": null,
   "id": "1ba14090",
   "metadata": {},
   "outputs": [],
   "source": []
  },
  {
   "cell_type": "markdown",
   "id": "19293d0f",
   "metadata": {},
   "source": [
    "## 3. 독립표본 t-검정\n",
    "  - 등분산 검정"
   ]
  },
  {
   "cell_type": "code",
   "execution_count": 6,
   "id": "a7896002",
   "metadata": {},
   "outputs": [
    {
     "data": {
      "text/html": [
       "<div>\n",
       "<style scoped>\n",
       "    .dataframe tbody tr th:only-of-type {\n",
       "        vertical-align: middle;\n",
       "    }\n",
       "\n",
       "    .dataframe tbody tr th {\n",
       "        vertical-align: top;\n",
       "    }\n",
       "\n",
       "    .dataframe thead th {\n",
       "        text-align: right;\n",
       "    }\n",
       "</style>\n",
       "<table border=\"1\" class=\"dataframe\">\n",
       "  <thead>\n",
       "    <tr style=\"text-align: right;\">\n",
       "      <th></th>\n",
       "      <th>id</th>\n",
       "      <th>성별</th>\n",
       "      <th>수학성적</th>\n",
       "      <th>국어성적</th>\n",
       "    </tr>\n",
       "  </thead>\n",
       "  <tbody>\n",
       "    <tr>\n",
       "      <th>0</th>\n",
       "      <td>1</td>\n",
       "      <td>남성</td>\n",
       "      <td>78.0</td>\n",
       "      <td>88.0</td>\n",
       "    </tr>\n",
       "    <tr>\n",
       "      <th>1</th>\n",
       "      <td>2</td>\n",
       "      <td>남성</td>\n",
       "      <td>84.0</td>\n",
       "      <td>76.0</td>\n",
       "    </tr>\n",
       "    <tr>\n",
       "      <th>2</th>\n",
       "      <td>3</td>\n",
       "      <td>남성</td>\n",
       "      <td>76.0</td>\n",
       "      <td>74.0</td>\n",
       "    </tr>\n",
       "    <tr>\n",
       "      <th>3</th>\n",
       "      <td>4</td>\n",
       "      <td>남성</td>\n",
       "      <td>88.0</td>\n",
       "      <td>90.0</td>\n",
       "    </tr>\n",
       "    <tr>\n",
       "      <th>4</th>\n",
       "      <td>5</td>\n",
       "      <td>남성</td>\n",
       "      <td>70.0</td>\n",
       "      <td>69.0</td>\n",
       "    </tr>\n",
       "  </tbody>\n",
       "</table>\n",
       "</div>"
      ],
      "text/plain": [
       "   id  성별  수학성적  국어성적\n",
       "0   1  남성  78.0  88.0\n",
       "1   2  남성  84.0  76.0\n",
       "2   3  남성  76.0  74.0\n",
       "3   4  남성  88.0  90.0\n",
       "4   5  남성  70.0  69.0"
      ]
     },
     "execution_count": 6,
     "metadata": {},
     "output_type": "execute_result"
    }
   ],
   "source": [
    "df = pd.read_csv('./data/독립표본t검정.csv')\n",
    "df.head()"
   ]
  },
  {
   "cell_type": "markdown",
   "id": "fd30f027",
   "metadata": {},
   "source": [
    "#### 남성과 여성의 수학성적은 차이가 있는가?\n",
    "- 귀무가설(H0): 남성의 수학성적과 여성의 수학성적은 같다.\n",
    "- 대립가설(H1): 남성의 수학성적과 여성의 수학성적은 같지 않다.\n",
    "- 유의 수준: 0.05\n",
    "\n",
    "1. 검정통계량\n",
    "2. p-value\n",
    "3. 검정결과"
   ]
  },
  {
   "cell_type": "code",
   "execution_count": 7,
   "id": "def990dd",
   "metadata": {},
   "outputs": [],
   "source": [
    "group1 = df.loc[df['성별'] == '남성', '수학성적']\n",
    "group2 = df.loc[df['성별'] == '여성', '수학성적']"
   ]
  },
  {
   "cell_type": "code",
   "execution_count": 8,
   "id": "55d2440d",
   "metadata": {},
   "outputs": [
    {
     "name": "stdout",
     "output_type": "stream",
     "text": [
      "statistic: 1.56\n",
      "p-value: 0.22\n"
     ]
    }
   ],
   "source": [
    "# 등분산 검정\n",
    "# 귀무가설: 두 그룹의 분산이 같다.\n",
    "\n",
    "from scipy import stats\n",
    "\n",
    "statistic, p_value = stats.levene(group1, group2, center='mean')\n",
    "\n",
    "print('statistic:', round(statistic,2))\n",
    "print('p-value:', round(p_value,2))\n",
    "\n",
    "# 귀무가설 채택"
   ]
  },
  {
   "cell_type": "code",
   "execution_count": 9,
   "id": "e6962d48",
   "metadata": {},
   "outputs": [
    {
     "name": "stdout",
     "output_type": "stream",
     "text": [
      "t-statistic: -1.54\n",
      "p-value: 0.13\n"
     ]
    }
   ],
   "source": [
    "from scipy import stats\n",
    "\n",
    "alpha = 0.05  # 유의수준\n",
    "\n",
    "t_statistic, p_value = stats.ttest_ind(group1, group2, equal_var=True,  alternative='two-sided')\n",
    "#t_statistic, p_value = stats.ttest_ind(group1, group2, equal_var=False, alternative='two-sided')\n",
    "\n",
    "print('t-statistic:', round(t_statistic,2))\n",
    "print('p-value:', round(p_value,2))\n",
    "\n",
    "# 귀무가설 채택"
   ]
  },
  {
   "cell_type": "code",
   "execution_count": null,
   "id": "0f096506",
   "metadata": {},
   "outputs": [],
   "source": []
  },
  {
   "cell_type": "markdown",
   "id": "b7d2d85d",
   "metadata": {},
   "source": [
    "## 4. 분산분석\n",
    " - 크루스칼-왈리스 검정(정규성X)\n",
    " - 등분산 검정"
   ]
  },
  {
   "cell_type": "code",
   "execution_count": 10,
   "id": "2a31ad03",
   "metadata": {},
   "outputs": [
    {
     "data": {
      "text/html": [
       "<div>\n",
       "<style scoped>\n",
       "    .dataframe tbody tr th:only-of-type {\n",
       "        vertical-align: middle;\n",
       "    }\n",
       "\n",
       "    .dataframe tbody tr th {\n",
       "        vertical-align: top;\n",
       "    }\n",
       "\n",
       "    .dataframe thead th {\n",
       "        text-align: right;\n",
       "    }\n",
       "</style>\n",
       "<table border=\"1\" class=\"dataframe\">\n",
       "  <thead>\n",
       "    <tr style=\"text-align: right;\">\n",
       "      <th></th>\n",
       "      <th>교육방법</th>\n",
       "      <th>판매실적</th>\n",
       "    </tr>\n",
       "  </thead>\n",
       "  <tbody>\n",
       "    <tr>\n",
       "      <th>0</th>\n",
       "      <td>program A</td>\n",
       "      <td>65.0</td>\n",
       "    </tr>\n",
       "    <tr>\n",
       "      <th>1</th>\n",
       "      <td>program A</td>\n",
       "      <td>87.0</td>\n",
       "    </tr>\n",
       "    <tr>\n",
       "      <th>2</th>\n",
       "      <td>program A</td>\n",
       "      <td>73.0</td>\n",
       "    </tr>\n",
       "    <tr>\n",
       "      <th>3</th>\n",
       "      <td>program A</td>\n",
       "      <td>79.0</td>\n",
       "    </tr>\n",
       "    <tr>\n",
       "      <th>4</th>\n",
       "      <td>program A</td>\n",
       "      <td>81.0</td>\n",
       "    </tr>\n",
       "  </tbody>\n",
       "</table>\n",
       "</div>"
      ],
      "text/plain": [
       "        교육방법  판매실적\n",
       "0  program A  65.0\n",
       "1  program A  87.0\n",
       "2  program A  73.0\n",
       "3  program A  79.0\n",
       "4  program A  81.0"
      ]
     },
     "execution_count": 10,
     "metadata": {},
     "output_type": "execute_result"
    }
   ],
   "source": [
    "df = pd.read_csv('./data/일원분산분석.csv')\n",
    "df.head()"
   ]
  },
  {
   "cell_type": "markdown",
   "id": "7dbd5ca1",
   "metadata": {},
   "source": [
    "#### 교육방법에 따른 판매실적은 차이가 있는가?\n",
    "- 귀무가설(H0): 교육방법에 따른 그룹의 판매실적은 같다.\n",
    "- 대립가설(H1): 교육방법에 따른 그룹의 판매실적은 같지 않다.\n",
    "- 유의 수준: 0.05\n",
    "\n",
    "1. 검정통계량\n",
    "2. p-value\n",
    "3. 검정결과"
   ]
  },
  {
   "cell_type": "code",
   "execution_count": 11,
   "id": "c2c2b325",
   "metadata": {},
   "outputs": [
    {
     "data": {
      "text/plain": [
       "program B    7\n",
       "program A    6\n",
       "program C    6\n",
       "program D    4\n",
       "Name: 교육방법, dtype: int64"
      ]
     },
     "execution_count": 11,
     "metadata": {},
     "output_type": "execute_result"
    }
   ],
   "source": [
    "df['교육방법'].value_counts()"
   ]
  },
  {
   "cell_type": "code",
   "execution_count": 12,
   "id": "5020d7fa",
   "metadata": {},
   "outputs": [],
   "source": [
    "group_A = df.loc[df['교육방법'] == 'program A', '판매실적']\n",
    "group_B = df.loc[df['교육방법'] == 'program B', '판매실적']\n",
    "group_C = df.loc[df['교육방법'] == 'program C', '판매실적']\n",
    "group_D = df.loc[df['교육방법'] == 'program D', '판매실적']"
   ]
  },
  {
   "cell_type": "code",
   "execution_count": 13,
   "id": "f1da7323",
   "metadata": {},
   "outputs": [
    {
     "name": "stdout",
     "output_type": "stream",
     "text": [
      "statistic: 1.22\n",
      "p-value: 0.33\n"
     ]
    }
   ],
   "source": [
    "# 등분산 검정\n",
    "# 귀무가설: 모든 그룹의 분산이 같다.\n",
    "\n",
    "from scipy import stats\n",
    "\n",
    "statistic, p_value = stats.levene(group_A, group_B, group_C, group_D, center='mean')\n",
    "\n",
    "print('statistic:', round(statistic,2))\n",
    "print('p-value:', round(p_value,2))\n",
    "\n",
    "# 귀무가설 채택"
   ]
  },
  {
   "cell_type": "code",
   "execution_count": 14,
   "id": "6a9928ce",
   "metadata": {},
   "outputs": [
    {
     "data": {
      "text/html": [
       "<div>\n",
       "<style scoped>\n",
       "    .dataframe tbody tr th:only-of-type {\n",
       "        vertical-align: middle;\n",
       "    }\n",
       "\n",
       "    .dataframe tbody tr th {\n",
       "        vertical-align: top;\n",
       "    }\n",
       "\n",
       "    .dataframe thead th {\n",
       "        text-align: right;\n",
       "    }\n",
       "</style>\n",
       "<table border=\"1\" class=\"dataframe\">\n",
       "  <thead>\n",
       "    <tr style=\"text-align: right;\">\n",
       "      <th></th>\n",
       "      <th>df</th>\n",
       "      <th>sum_sq</th>\n",
       "      <th>mean_sq</th>\n",
       "      <th>F</th>\n",
       "      <th>PR(&gt;F)</th>\n",
       "    </tr>\n",
       "  </thead>\n",
       "  <tbody>\n",
       "    <tr>\n",
       "      <th>C(교육방법)</th>\n",
       "      <td>3.0</td>\n",
       "      <td>712.586439</td>\n",
       "      <td>237.528813</td>\n",
       "      <td>3.771461</td>\n",
       "      <td>0.028041</td>\n",
       "    </tr>\n",
       "    <tr>\n",
       "      <th>Residual</th>\n",
       "      <td>19.0</td>\n",
       "      <td>1196.630952</td>\n",
       "      <td>62.980576</td>\n",
       "      <td>NaN</td>\n",
       "      <td>NaN</td>\n",
       "    </tr>\n",
       "  </tbody>\n",
       "</table>\n",
       "</div>"
      ],
      "text/plain": [
       "            df       sum_sq     mean_sq         F    PR(>F)\n",
       "C(교육방법)    3.0   712.586439  237.528813  3.771461  0.028041\n",
       "Residual  19.0  1196.630952   62.980576       NaN       NaN"
      ]
     },
     "execution_count": 14,
     "metadata": {},
     "output_type": "execute_result"
    }
   ],
   "source": [
    "# One-way ANOVA\n",
    "import statsmodels.formula.api as smf\n",
    "from statsmodels.stats.anova import anova_lm\n",
    "\n",
    "model  = smf.ols('판매실적 ~ C(교육방법)', df)\n",
    "result = model.fit()\n",
    "anova_lm(result)"
   ]
  },
  {
   "cell_type": "code",
   "execution_count": 15,
   "id": "ac9be4ce",
   "metadata": {},
   "outputs": [
    {
     "data": {
      "text/html": [
       "<table class=\"simpletable\">\n",
       "<caption>Multiple Comparison of Means - Tukey HSD, FWER=0.05</caption>\n",
       "<tr>\n",
       "   <th>group1</th>    <th>group2</th>   <th>meandiff</th>  <th>p-adj</th>   <th>lower</th>   <th>upper</th>  <th>reject</th>\n",
       "</tr>\n",
       "<tr>\n",
       "  <td>program A</td> <td>program B</td>  <td>2.7619</td>  <td>0.9226</td>  <td>-9.653</td>  <td>15.1768</td>  <td>False</td>\n",
       "</tr>\n",
       "<tr>\n",
       "  <td>program A</td> <td>program C</td>  <td>-4.8333</td> <td>0.7201</td> <td>-17.7168</td> <td>8.0502</td>   <td>False</td>\n",
       "</tr>\n",
       "<tr>\n",
       "  <td>program A</td> <td>program D</td>  <td>12.0833</td> <td>0.1198</td>  <td>-2.3209</td> <td>26.4875</td>  <td>False</td>\n",
       "</tr>\n",
       "<tr>\n",
       "  <td>program B</td> <td>program C</td>  <td>-7.5952</td> <td>0.3411</td> <td>-20.0101</td> <td>4.8196</td>   <td>False</td>\n",
       "</tr>\n",
       "<tr>\n",
       "  <td>program B</td> <td>program D</td>  <td>9.3214</td>  <td>0.2718</td>  <td>-4.6652</td> <td>23.308</td>   <td>False</td>\n",
       "</tr>\n",
       "<tr>\n",
       "  <td>program C</td> <td>program D</td>  <td>16.9167</td>  <td>0.018</td>  <td>2.5125</td>  <td>31.3209</td>  <td>True</td> \n",
       "</tr>\n",
       "</table>"
      ],
      "text/latex": [
       "\\begin{center}\n",
       "\\begin{tabular}{ccccccc}\n",
       "\\toprule\n",
       "\\textbf{group1} & \\textbf{group2} & \\textbf{meandiff} & \\textbf{p-adj} & \\textbf{lower} & \\textbf{upper} & \\textbf{reject}  \\\\\n",
       "\\midrule\n",
       "   program A    &    program B    &       2.7619      &     0.9226     &     -9.653     &    15.1768     &      False       \\\\\n",
       "   program A    &    program C    &      -4.8333      &     0.7201     &    -17.7168    &     8.0502     &      False       \\\\\n",
       "   program A    &    program D    &      12.0833      &     0.1198     &    -2.3209     &    26.4875     &      False       \\\\\n",
       "   program B    &    program C    &      -7.5952      &     0.3411     &    -20.0101    &     4.8196     &      False       \\\\\n",
       "   program B    &    program D    &       9.3214      &     0.2718     &    -4.6652     &     23.308     &      False       \\\\\n",
       "   program C    &    program D    &      16.9167      &     0.018      &     2.5125     &    31.3209     &       True       \\\\\n",
       "\\bottomrule\n",
       "\\end{tabular}\n",
       "%\\caption{Multiple Comparison of Means - Tukey HSD, FWER=0.05}\n",
       "\\end{center}"
      ],
      "text/plain": [
       "<class 'statsmodels.iolib.table.SimpleTable'>"
      ]
     },
     "execution_count": 15,
     "metadata": {},
     "output_type": "execute_result"
    }
   ],
   "source": [
    "# 사후분석 Post-hoc: Tukey HSD\n",
    "from statsmodels.sandbox.stats.multicomp import MultiComparison\n",
    "res = MultiComparison(df['판매실적'], df['교육방법']).tukeyhsd(alpha=0.05)\n",
    "res.summary()"
   ]
  },
  {
   "cell_type": "code",
   "execution_count": null,
   "id": "4ec0b361",
   "metadata": {},
   "outputs": [],
   "source": []
  },
  {
   "cell_type": "markdown",
   "id": "29a2d94d",
   "metadata": {},
   "source": [
    "## 5. 카이제곱 검정\n",
    " - 적합도 검정:각 범주에 속할 확률이 같은지 검정\n",
    " - 독립성 검정"
   ]
  },
  {
   "cell_type": "markdown",
   "id": "92fb8de5",
   "metadata": {},
   "source": [
    "### 5.1 적합도 검정: 두 집단간의 각 범주의 비율이 같은지 검정"
   ]
  },
  {
   "cell_type": "markdown",
   "id": "b784c1d9",
   "metadata": {
    "id": "shWWLB-fZmKQ"
   },
   "source": [
    "주어진 데이터를 이용하여 항암제를 투여 받은 환자들의 부작용 분포와 감기약을 투여 받은 환자들의 부작용 분포간 차이가 있는지 확인하시오.  \n",
    "\n",
    "*데이터*\n",
    "1. 항암제 투여 환자들의 관찰된 부작용\n",
    " - ['무증상', '속쓰림', '무증상', '무증상', '조금아픔', '무증상', '조금아픔', '무증상', '조금아픔', '무증상', '아픔', '무증상', '조금아픔', '무증상', '아픔', '무증상', '속쓰림', '무증상', '아픔', '무증상']\n",
    "2. 감기약 투여 환자들의 부작용 발생 비율\n",
    " - 아픔 5% / 조금아픔 10% / 속쓰림 15% / 무증상 70%"
   ]
  },
  {
   "cell_type": "markdown",
   "id": "57597e26",
   "metadata": {},
   "source": [
    "- 귀무가설(H0): 감기약의 부작용과 항암제의 부작용은 동일하다.\n",
    "- 대립가설(H1): 감기약의 부작용과 항암제의 부작용은 다르다."
   ]
  },
  {
   "cell_type": "markdown",
   "id": "3c4e6c36",
   "metadata": {},
   "source": [
    "##### 감기약의 부작용 비율과 항암제의 부작용 관찰 값이 통계적으로 유의미하게 차이가 있는지 카이제곱 검정을 이용하여 검정 통계량과 p-value를 구하시오."
   ]
  },
  {
   "cell_type": "code",
   "execution_count": 16,
   "id": "1a6f2a66",
   "metadata": {
    "colab": {
     "base_uri": "https://localhost:8080/"
    },
    "id": "wrreXIPxLGp6",
    "outputId": "5476b242-750c-4597-d6c0-c403b41bc809"
   },
   "outputs": [],
   "source": [
    "import numpy as np\n",
    "import pandas as pd"
   ]
  },
  {
   "cell_type": "code",
   "execution_count": 17,
   "id": "f1e52c8a",
   "metadata": {
    "colab": {
     "base_uri": "https://localhost:8080/"
    },
    "id": "wrreXIPxLGp6",
    "outputId": "5476b242-750c-4597-d6c0-c403b41bc809"
   },
   "outputs": [
    {
     "data": {
      "text/html": [
       "<div>\n",
       "<style scoped>\n",
       "    .dataframe tbody tr th:only-of-type {\n",
       "        vertical-align: middle;\n",
       "    }\n",
       "\n",
       "    .dataframe tbody tr th {\n",
       "        vertical-align: top;\n",
       "    }\n",
       "\n",
       "    .dataframe thead th {\n",
       "        text-align: right;\n",
       "    }\n",
       "</style>\n",
       "<table border=\"1\" class=\"dataframe\">\n",
       "  <thead>\n",
       "    <tr style=\"text-align: right;\">\n",
       "      <th></th>\n",
       "      <th>항암제</th>\n",
       "    </tr>\n",
       "  </thead>\n",
       "  <tbody>\n",
       "    <tr>\n",
       "      <th>0</th>\n",
       "      <td>무증상</td>\n",
       "    </tr>\n",
       "    <tr>\n",
       "      <th>1</th>\n",
       "      <td>속쓰림</td>\n",
       "    </tr>\n",
       "    <tr>\n",
       "      <th>2</th>\n",
       "      <td>무증상</td>\n",
       "    </tr>\n",
       "    <tr>\n",
       "      <th>3</th>\n",
       "      <td>무증상</td>\n",
       "    </tr>\n",
       "    <tr>\n",
       "      <th>4</th>\n",
       "      <td>조금아픔</td>\n",
       "    </tr>\n",
       "  </tbody>\n",
       "</table>\n",
       "</div>"
      ],
      "text/plain": [
       "    항암제\n",
       "0   무증상\n",
       "1   속쓰림\n",
       "2   무증상\n",
       "3   무증상\n",
       "4  조금아픔"
      ]
     },
     "execution_count": 17,
     "metadata": {},
     "output_type": "execute_result"
    }
   ],
   "source": [
    "# 주어진 데이터를 입력\n",
    "df = pd.DataFrame({'항암제': ['무증상','속쓰림','무증상','무증상','조금아픔','무증상','조금아픔','무증상','조금아픔',\n",
    "                              '무증상', '아픔','무증상','조금아픔','무증상','아픔','무증상','속쓰림','무증상','아픔','무증상']})\n",
    "df.head()"
   ]
  },
  {
   "cell_type": "code",
   "execution_count": 18,
   "id": "1d030cb4",
   "metadata": {
    "colab": {
     "base_uri": "https://localhost:8080/"
    },
    "id": "x3IOTw2dLhw4",
    "outputId": "6211b1eb-10c1-4f09-dc6c-2469ef354374"
   },
   "outputs": [
    {
     "data": {
      "text/plain": [
       "무증상     11\n",
       "조금아픔     4\n",
       "아픔       3\n",
       "속쓰림      2\n",
       "Name: 항암제, dtype: int64"
      ]
     },
     "execution_count": 18,
     "metadata": {},
     "output_type": "execute_result"
    }
   ],
   "source": [
    "df['항암제'].value_counts()"
   ]
  },
  {
   "cell_type": "code",
   "execution_count": 19,
   "id": "499082b5",
   "metadata": {},
   "outputs": [],
   "source": [
    "# 감기약 투여 환자들의 부작용 발생 비율\n",
    "# 무증상 70% / 조금아픔 10% / 아픔 5% / 속쓰림 15%"
   ]
  },
  {
   "cell_type": "code",
   "execution_count": 20,
   "id": "3d210959",
   "metadata": {
    "colab": {
     "base_uri": "https://localhost:8080/"
    },
    "id": "yeawkSjcLldC",
    "outputId": "c7ce050f-3bb9-47c0-dd87-055f376b729b"
   },
   "outputs": [],
   "source": [
    "total = len(df['항암제'])\n",
    "\n",
    "val1 = df['항암제'].value_counts().to_list()\n",
    "\n",
    "val2 = [total*0.7, total*0.1, total*0.05, total*0.15]"
   ]
  },
  {
   "cell_type": "code",
   "execution_count": 21,
   "id": "60964665",
   "metadata": {},
   "outputs": [
    {
     "data": {
      "text/plain": [
       "[11, 4, 3, 2]"
      ]
     },
     "execution_count": 21,
     "metadata": {},
     "output_type": "execute_result"
    }
   ],
   "source": [
    "val1"
   ]
  },
  {
   "cell_type": "code",
   "execution_count": 22,
   "id": "993c1fe8",
   "metadata": {},
   "outputs": [
    {
     "data": {
      "text/plain": [
       "[14.0, 2.0, 1.0, 3.0]"
      ]
     },
     "execution_count": 22,
     "metadata": {},
     "output_type": "execute_result"
    }
   ],
   "source": [
    "val2"
   ]
  },
  {
   "cell_type": "code",
   "execution_count": 23,
   "id": "95c1e246",
   "metadata": {
    "colab": {
     "base_uri": "https://localhost:8080/"
    },
    "id": "yeawkSjcLldC",
    "outputId": "c7ce050f-3bb9-47c0-dd87-055f376b729b"
   },
   "outputs": [],
   "source": [
    "import scipy.stats as stats\n",
    "\n",
    "statistic, p_value = stats.chisquare(val1, val2)"
   ]
  },
  {
   "cell_type": "code",
   "execution_count": 24,
   "id": "57639cf8",
   "metadata": {
    "colab": {
     "base_uri": "https://localhost:8080/"
    },
    "id": "yeawkSjcLldC",
    "outputId": "c7ce050f-3bb9-47c0-dd87-055f376b729b"
   },
   "outputs": [
    {
     "name": "stdout",
     "output_type": "stream",
     "text": [
      "6.976190476190475\n"
     ]
    }
   ],
   "source": [
    "print(statistic)"
   ]
  },
  {
   "cell_type": "code",
   "execution_count": 25,
   "id": "c7542c30",
   "metadata": {
    "colab": {
     "base_uri": "https://localhost:8080/"
    },
    "id": "wEgkjXBJLr0P",
    "outputId": "03ec44c6-b39e-4d37-ad69-527c2a595170"
   },
   "outputs": [
    {
     "name": "stdout",
     "output_type": "stream",
     "text": [
      "0.07266054733847582\n"
     ]
    }
   ],
   "source": [
    "print(p_value)"
   ]
  },
  {
   "cell_type": "code",
   "execution_count": null,
   "id": "a3797e65",
   "metadata": {},
   "outputs": [],
   "source": []
  },
  {
   "cell_type": "markdown",
   "id": "9dd9dd7b",
   "metadata": {},
   "source": [
    "### 5.2 독립성 검정"
   ]
  },
  {
   "cell_type": "code",
   "execution_count": 26,
   "id": "ce9cc0b7",
   "metadata": {},
   "outputs": [
    {
     "data": {
      "text/html": [
       "<div>\n",
       "<style scoped>\n",
       "    .dataframe tbody tr th:only-of-type {\n",
       "        vertical-align: middle;\n",
       "    }\n",
       "\n",
       "    .dataframe tbody tr th {\n",
       "        vertical-align: top;\n",
       "    }\n",
       "\n",
       "    .dataframe thead th {\n",
       "        text-align: right;\n",
       "    }\n",
       "</style>\n",
       "<table border=\"1\" class=\"dataframe\">\n",
       "  <thead>\n",
       "    <tr style=\"text-align: right;\">\n",
       "      <th></th>\n",
       "      <th>세탁기크기</th>\n",
       "      <th>가족규모</th>\n",
       "    </tr>\n",
       "  </thead>\n",
       "  <tbody>\n",
       "    <tr>\n",
       "      <th>0</th>\n",
       "      <td>소형</td>\n",
       "      <td>1-2명</td>\n",
       "    </tr>\n",
       "    <tr>\n",
       "      <th>1</th>\n",
       "      <td>소형</td>\n",
       "      <td>1-2명</td>\n",
       "    </tr>\n",
       "    <tr>\n",
       "      <th>2</th>\n",
       "      <td>소형</td>\n",
       "      <td>1-2명</td>\n",
       "    </tr>\n",
       "    <tr>\n",
       "      <th>3</th>\n",
       "      <td>소형</td>\n",
       "      <td>1-2명</td>\n",
       "    </tr>\n",
       "    <tr>\n",
       "      <th>4</th>\n",
       "      <td>소형</td>\n",
       "      <td>1-2명</td>\n",
       "    </tr>\n",
       "  </tbody>\n",
       "</table>\n",
       "</div>"
      ],
      "text/plain": [
       "  세탁기크기  가족규모\n",
       "0    소형  1-2명\n",
       "1    소형  1-2명\n",
       "2    소형  1-2명\n",
       "3    소형  1-2명\n",
       "4    소형  1-2명"
      ]
     },
     "execution_count": 26,
     "metadata": {},
     "output_type": "execute_result"
    }
   ],
   "source": [
    "df = pd.read_csv('./data/카이제곱검정.csv')\n",
    "df.head()"
   ]
  },
  {
   "cell_type": "markdown",
   "id": "e97785bd",
   "metadata": {},
   "source": [
    "#### 세탁기크기와 가족규모는 서로 관계가 있는가?\n",
    "- 귀무가설(H0): 세탁기크기와 가족 규모는 서로 관계가 없다.(독립이다)\n",
    "- 대립가설(H1): 세탁기크기와 가족 규모는 서로 관계가 있다.\n",
    "- 유의 수준: 0.05\n",
    "\n",
    "1. 검정통계량\n",
    "2. p-value\n",
    "3. 검정결과"
   ]
  },
  {
   "cell_type": "code",
   "execution_count": 27,
   "id": "cd6e3229",
   "metadata": {},
   "outputs": [
    {
     "name": "stdout",
     "output_type": "stream",
     "text": [
      "58.21\n",
      "0.0\n",
      "4\n",
      "[[14.   49.   42.  ]\n",
      " [ 9.33 32.67 28.  ]\n",
      " [16.67 58.33 50.  ]]\n"
     ]
    }
   ],
   "source": [
    "from scipy import stats\n",
    "\n",
    "obs  = pd.crosstab(index=df['세탁기크기'], columns=df['가족규모'])\n",
    "\n",
    "# statistic(통계량), p_value, dof(자유도), expected_freq(기대빈도)\n",
    "statistic, p_value, dof, expected = stats.chi2_contingency(obs)\n",
    "\n",
    "print(round(statistic,2))\n",
    "print(round(p_value,2))\n",
    "print(dof) # 자유도 = (행-1)*(열-1)\n",
    "print(np.round(expected, 2) )\n",
    "\n",
    "# 귀무가설 기각: 세탁기 크기와 가족 규모는 관계가 있다.\n"
   ]
  },
  {
   "cell_type": "markdown",
   "id": "fbd785c6",
   "metadata": {},
   "source": [
    "## 6. 다중 회귀 분석"
   ]
  },
  {
   "cell_type": "code",
   "execution_count": 28,
   "id": "dccad0e8",
   "metadata": {},
   "outputs": [
    {
     "data": {
      "text/html": [
       "<div>\n",
       "<style scoped>\n",
       "    .dataframe tbody tr th:only-of-type {\n",
       "        vertical-align: middle;\n",
       "    }\n",
       "\n",
       "    .dataframe tbody tr th {\n",
       "        vertical-align: top;\n",
       "    }\n",
       "\n",
       "    .dataframe thead th {\n",
       "        text-align: right;\n",
       "    }\n",
       "</style>\n",
       "<table border=\"1\" class=\"dataframe\">\n",
       "  <thead>\n",
       "    <tr style=\"text-align: right;\">\n",
       "      <th></th>\n",
       "      <th>외관</th>\n",
       "      <th>편의성</th>\n",
       "      <th>유용성</th>\n",
       "      <th>만족감</th>\n",
       "    </tr>\n",
       "  </thead>\n",
       "  <tbody>\n",
       "    <tr>\n",
       "      <th>0</th>\n",
       "      <td>4.0</td>\n",
       "      <td>3.0</td>\n",
       "      <td>2.8</td>\n",
       "      <td>3.0</td>\n",
       "    </tr>\n",
       "    <tr>\n",
       "      <th>1</th>\n",
       "      <td>5.0</td>\n",
       "      <td>3.0</td>\n",
       "      <td>1.0</td>\n",
       "      <td>5.0</td>\n",
       "    </tr>\n",
       "    <tr>\n",
       "      <th>2</th>\n",
       "      <td>4.7</td>\n",
       "      <td>3.0</td>\n",
       "      <td>3.0</td>\n",
       "      <td>4.0</td>\n",
       "    </tr>\n",
       "    <tr>\n",
       "      <th>3</th>\n",
       "      <td>5.0</td>\n",
       "      <td>4.0</td>\n",
       "      <td>1.6</td>\n",
       "      <td>3.0</td>\n",
       "    </tr>\n",
       "    <tr>\n",
       "      <th>4</th>\n",
       "      <td>5.0</td>\n",
       "      <td>3.0</td>\n",
       "      <td>3.2</td>\n",
       "      <td>5.0</td>\n",
       "    </tr>\n",
       "  </tbody>\n",
       "</table>\n",
       "</div>"
      ],
      "text/plain": [
       "    외관  편의성  유용성  만족감\n",
       "0  4.0  3.0  2.8  3.0\n",
       "1  5.0  3.0  1.0  5.0\n",
       "2  4.7  3.0  3.0  4.0\n",
       "3  5.0  4.0  1.6  3.0\n",
       "4  5.0  3.0  3.2  5.0"
      ]
     },
     "execution_count": 28,
     "metadata": {},
     "output_type": "execute_result"
    }
   ],
   "source": [
    "df = pd.read_csv('./data/다중회귀분석.csv')\n",
    "df.head()"
   ]
  },
  {
   "cell_type": "code",
   "execution_count": 29,
   "id": "4cc97bab",
   "metadata": {},
   "outputs": [
    {
     "name": "stdout",
     "output_type": "stream",
     "text": [
      "                            OLS Regression Results                            \n",
      "==============================================================================\n",
      "Dep. Variable:                    만족감   R-squared:                       0.237\n",
      "Model:                            OLS   Adj. R-squared:                  0.230\n",
      "Method:                 Least Squares   F-statistic:                     33.31\n",
      "Date:                Thu, 28 Mar 2024   Prob (F-statistic):           9.04e-19\n",
      "Time:                        02:58:42   Log-Likelihood:                -295.22\n",
      "No. Observations:                 325   AIC:                             598.4\n",
      "Df Residuals:                     321   BIC:                             613.6\n",
      "Df Model:                           3                                         \n",
      "Covariance Type:            nonrobust                                         \n",
      "==============================================================================\n",
      "                 coef    std err          t      P>|t|      [0.025      0.975]\n",
      "------------------------------------------------------------------------------\n",
      "Intercept      1.4564      0.197      7.387      0.000       1.069       1.844\n",
      "외관             0.1437      0.031      4.572      0.000       0.082       0.206\n",
      "편의성            0.2841      0.048      5.916      0.000       0.190       0.379\n",
      "유용성            0.1750      0.045      3.847      0.000       0.085       0.264\n",
      "==============================================================================\n",
      "Omnibus:                       35.866   Durbin-Watson:                   1.838\n",
      "Prob(Omnibus):                  0.000   Jarque-Bera (JB):               44.394\n",
      "Skew:                           0.856   Prob(JB):                     2.29e-10\n",
      "Kurtosis:                       3.587   Cond. No.                         34.6\n",
      "==============================================================================\n",
      "\n",
      "Notes:\n",
      "[1] Standard Errors assume that the covariance matrix of the errors is correctly specified.\n"
     ]
    }
   ],
   "source": [
    "import statsmodels.formula.api as smf\n",
    "model  = smf.ols('만족감 ~ 외관 + 편의성 + 유용성', df)\n",
    "result = model.fit()\n",
    "print(result.summary())"
   ]
  },
  {
   "cell_type": "code",
   "execution_count": 30,
   "id": "c13830a0",
   "metadata": {},
   "outputs": [
    {
     "data": {
      "text/plain": [
       "Intercept    1.456394\n",
       "외관           0.143731\n",
       "편의성          0.284086\n",
       "유용성          0.174961\n",
       "dtype: float64"
      ]
     },
     "execution_count": 30,
     "metadata": {},
     "output_type": "execute_result"
    }
   ],
   "source": [
    "result.params"
   ]
  },
  {
   "cell_type": "code",
   "execution_count": 31,
   "id": "201b5145",
   "metadata": {},
   "outputs": [
    {
     "data": {
      "text/plain": [
       "Intercept    1.305064e-12\n",
       "외관           6.893104e-06\n",
       "편의성          8.450926e-09\n",
       "유용성          1.444758e-04\n",
       "dtype: float64"
      ]
     },
     "execution_count": 31,
     "metadata": {},
     "output_type": "execute_result"
    }
   ],
   "source": [
    "result.pvalues"
   ]
  },
  {
   "cell_type": "code",
   "execution_count": 32,
   "id": "00ff3959",
   "metadata": {},
   "outputs": [
    {
     "data": {
      "text/plain": [
       "0      3.373469\n",
       "1      3.202271\n",
       "2      3.509074\n",
       "3      3.591334\n",
       "4      3.587185\n",
       "         ...   \n",
       "320    2.201216\n",
       "321    3.736343\n",
       "322    2.837298\n",
       "323    3.978322\n",
       "324    2.201216\n",
       "Length: 325, dtype: float64"
      ]
     },
     "execution_count": 32,
     "metadata": {},
     "output_type": "execute_result"
    }
   ],
   "source": [
    "result.predict(df)"
   ]
  },
  {
   "cell_type": "code",
   "execution_count": 33,
   "id": "aab602ad",
   "metadata": {},
   "outputs": [
    {
     "data": {
      "text/plain": [
       "0     -0.373469\n",
       "1      1.797729\n",
       "2      0.490926\n",
       "3     -0.591334\n",
       "4      1.412815\n",
       "         ...   \n",
       "320   -0.901216\n",
       "321   -0.736343\n",
       "322   -0.537298\n",
       "323    1.021678\n",
       "324   -0.901216\n",
       "Length: 325, dtype: float64"
      ]
     },
     "execution_count": 33,
     "metadata": {},
     "output_type": "execute_result"
    }
   ],
   "source": [
    "result.resid"
   ]
  },
  {
   "cell_type": "code",
   "execution_count": null,
   "id": "3e3cf5a0",
   "metadata": {},
   "outputs": [],
   "source": []
  },
  {
   "cell_type": "markdown",
   "id": "620c5dff",
   "metadata": {},
   "source": [
    "## 7. 상관 분석"
   ]
  },
  {
   "cell_type": "code",
   "execution_count": 34,
   "id": "124ceb6e",
   "metadata": {},
   "outputs": [
    {
     "data": {
      "text/html": [
       "<div>\n",
       "<style scoped>\n",
       "    .dataframe tbody tr th:only-of-type {\n",
       "        vertical-align: middle;\n",
       "    }\n",
       "\n",
       "    .dataframe tbody tr th {\n",
       "        vertical-align: top;\n",
       "    }\n",
       "\n",
       "    .dataframe thead th {\n",
       "        text-align: right;\n",
       "    }\n",
       "</style>\n",
       "<table border=\"1\" class=\"dataframe\">\n",
       "  <thead>\n",
       "    <tr style=\"text-align: right;\">\n",
       "      <th></th>\n",
       "      <th>외관</th>\n",
       "      <th>편의성</th>\n",
       "      <th>유용성</th>\n",
       "      <th>만족감</th>\n",
       "    </tr>\n",
       "  </thead>\n",
       "  <tbody>\n",
       "    <tr>\n",
       "      <th>0</th>\n",
       "      <td>4.0</td>\n",
       "      <td>3.0</td>\n",
       "      <td>2.8</td>\n",
       "      <td>3.0</td>\n",
       "    </tr>\n",
       "    <tr>\n",
       "      <th>1</th>\n",
       "      <td>5.0</td>\n",
       "      <td>3.0</td>\n",
       "      <td>1.0</td>\n",
       "      <td>5.0</td>\n",
       "    </tr>\n",
       "    <tr>\n",
       "      <th>2</th>\n",
       "      <td>4.7</td>\n",
       "      <td>3.0</td>\n",
       "      <td>3.0</td>\n",
       "      <td>4.0</td>\n",
       "    </tr>\n",
       "    <tr>\n",
       "      <th>3</th>\n",
       "      <td>5.0</td>\n",
       "      <td>4.0</td>\n",
       "      <td>1.6</td>\n",
       "      <td>3.0</td>\n",
       "    </tr>\n",
       "    <tr>\n",
       "      <th>4</th>\n",
       "      <td>5.0</td>\n",
       "      <td>3.0</td>\n",
       "      <td>3.2</td>\n",
       "      <td>5.0</td>\n",
       "    </tr>\n",
       "  </tbody>\n",
       "</table>\n",
       "</div>"
      ],
      "text/plain": [
       "    외관  편의성  유용성  만족감\n",
       "0  4.0  3.0  2.8  3.0\n",
       "1  5.0  3.0  1.0  5.0\n",
       "2  4.7  3.0  3.0  4.0\n",
       "3  5.0  4.0  1.6  3.0\n",
       "4  5.0  3.0  3.2  5.0"
      ]
     },
     "execution_count": 34,
     "metadata": {},
     "output_type": "execute_result"
    }
   ],
   "source": [
    "df = pd.read_csv('./data/상관분석.csv')\n",
    "df.head()"
   ]
  },
  {
   "cell_type": "markdown",
   "id": "e186c174",
   "metadata": {},
   "source": [
    "- 귀무가설(H0): 상관계수가 0이다. 두 변수간에 상관관계가 없다.\n",
    "- 대립가설(H1): 두 변수간에 상관관계가 있다."
   ]
  },
  {
   "cell_type": "code",
   "execution_count": 35,
   "id": "7e010d65",
   "metadata": {},
   "outputs": [
    {
     "name": "stdout",
     "output_type": "stream",
     "text": [
      "0.32\n",
      "0.0\n",
      "6.15\n"
     ]
    }
   ],
   "source": [
    "from scipy.stats import pearsonr\n",
    "\n",
    "r, p_value = pearsonr(df['외관'], df['만족감'])\n",
    "\n",
    "# 1. 상관계수\n",
    "print(round(r, 2) )\n",
    "\n",
    "# 2. p-value\n",
    "print(round(p_value, 2))\n",
    "\n",
    "# 3. 검정통계량\n",
    "# T = r * root(n-2) / root(1-r2)\n",
    "\n",
    "n = len(df)\n",
    "r2 = r**2\n",
    "statistic = r * ((n-2)**0.5) / ((1-r2)**0.5)\n",
    "print(round(statistic, 2))"
   ]
  },
  {
   "cell_type": "markdown",
   "id": "0da9e818",
   "metadata": {},
   "source": [
    "## 8. 로지스틱 회귀 분석"
   ]
  },
  {
   "cell_type": "code",
   "execution_count": 36,
   "id": "2b7d37ba",
   "metadata": {},
   "outputs": [
    {
     "data": {
      "text/html": [
       "<div>\n",
       "<style scoped>\n",
       "    .dataframe tbody tr th:only-of-type {\n",
       "        vertical-align: middle;\n",
       "    }\n",
       "\n",
       "    .dataframe tbody tr th {\n",
       "        vertical-align: top;\n",
       "    }\n",
       "\n",
       "    .dataframe thead th {\n",
       "        text-align: right;\n",
       "    }\n",
       "</style>\n",
       "<table border=\"1\" class=\"dataframe\">\n",
       "  <thead>\n",
       "    <tr style=\"text-align: right;\">\n",
       "      <th></th>\n",
       "      <th>성별</th>\n",
       "      <th>직급</th>\n",
       "      <th>외관</th>\n",
       "      <th>편의성</th>\n",
       "      <th>유용성</th>\n",
       "      <th>만족감</th>\n",
       "    </tr>\n",
       "  </thead>\n",
       "  <tbody>\n",
       "    <tr>\n",
       "      <th>0</th>\n",
       "      <td>남자</td>\n",
       "      <td>사원</td>\n",
       "      <td>4.0</td>\n",
       "      <td>3.0</td>\n",
       "      <td>3.0</td>\n",
       "      <td>3.0</td>\n",
       "    </tr>\n",
       "    <tr>\n",
       "      <th>1</th>\n",
       "      <td>남자</td>\n",
       "      <td>사원</td>\n",
       "      <td>5.0</td>\n",
       "      <td>3.0</td>\n",
       "      <td>1.0</td>\n",
       "      <td>5.0</td>\n",
       "    </tr>\n",
       "    <tr>\n",
       "      <th>2</th>\n",
       "      <td>남자</td>\n",
       "      <td>사원</td>\n",
       "      <td>5.0</td>\n",
       "      <td>3.0</td>\n",
       "      <td>3.0</td>\n",
       "      <td>5.0</td>\n",
       "    </tr>\n",
       "    <tr>\n",
       "      <th>3</th>\n",
       "      <td>남자</td>\n",
       "      <td>사원</td>\n",
       "      <td>5.0</td>\n",
       "      <td>4.0</td>\n",
       "      <td>3.0</td>\n",
       "      <td>3.0</td>\n",
       "    </tr>\n",
       "    <tr>\n",
       "      <th>4</th>\n",
       "      <td>남자</td>\n",
       "      <td>사원</td>\n",
       "      <td>5.0</td>\n",
       "      <td>3.0</td>\n",
       "      <td>4.0</td>\n",
       "      <td>5.0</td>\n",
       "    </tr>\n",
       "  </tbody>\n",
       "</table>\n",
       "</div>"
      ],
      "text/plain": [
       "   성별  직급   외관  편의성  유용성  만족감\n",
       "0  남자  사원  4.0  3.0  3.0  3.0\n",
       "1  남자  사원  5.0  3.0  1.0  5.0\n",
       "2  남자  사원  5.0  3.0  3.0  5.0\n",
       "3  남자  사원  5.0  4.0  3.0  3.0\n",
       "4  남자  사원  5.0  3.0  4.0  5.0"
      ]
     },
     "execution_count": 36,
     "metadata": {},
     "output_type": "execute_result"
    }
   ],
   "source": [
    "df = pd.read_csv('./data/로지스틱회귀분석.csv')\n",
    "df.head()"
   ]
  },
  {
   "cell_type": "code",
   "execution_count": 37,
   "id": "302ce433",
   "metadata": {},
   "outputs": [],
   "source": [
    "df.replace({'남자':0, '여자':1}, inplace=True)"
   ]
  },
  {
   "cell_type": "code",
   "execution_count": 38,
   "id": "1193bd01",
   "metadata": {},
   "outputs": [
    {
     "name": "stdout",
     "output_type": "stream",
     "text": [
      "Optimization terminated successfully.\n",
      "         Current function value: 0.633501\n",
      "         Iterations 5\n",
      "                           Logit Regression Results                           \n",
      "==============================================================================\n",
      "Dep. Variable:                     성별   No. Observations:                  325\n",
      "Model:                          Logit   Df Residuals:                      320\n",
      "Method:                           MLE   Df Model:                            4\n",
      "Date:                Thu, 28 Mar 2024   Pseudo R-squ.:                 0.03559\n",
      "Time:                        02:58:42   Log-Likelihood:                -205.89\n",
      "converged:                       True   LL-Null:                       -213.48\n",
      "Covariance Type:            nonrobust   LLR p-value:                  0.004315\n",
      "==============================================================================\n",
      "                 coef    std err          z      P>|z|      [0.025      0.975]\n",
      "------------------------------------------------------------------------------\n",
      "Intercept     -2.6440      0.709     -3.729      0.000      -4.034      -1.254\n",
      "외관            -0.0078      0.106     -0.074      0.941      -0.215       0.199\n",
      "편의성            0.2931      0.140      2.099      0.036       0.019       0.567\n",
      "유용성           -0.1015      0.154     -0.657      0.511      -0.404       0.201\n",
      "만족감            0.4046      0.151      2.675      0.007       0.108       0.701\n",
      "==============================================================================\n"
     ]
    }
   ],
   "source": [
    "import statsmodels.formula.api as smf\n",
    "model  = smf.logit('성별 ~ 외관 + 편의성 + 유용성 + 만족감', df)\n",
    "result = model.fit()\n",
    "print(result.summary())"
   ]
  },
  {
   "cell_type": "markdown",
   "id": "d1401f4a",
   "metadata": {},
   "source": [
    "#### 변수가 한 단위 증가 할때 Odds ratio"
   ]
  },
  {
   "cell_type": "code",
   "execution_count": 39,
   "id": "58794e58",
   "metadata": {},
   "outputs": [
    {
     "data": {
      "text/plain": [
       "Intercept    0.071074\n",
       "외관           0.992196\n",
       "편의성          1.340567\n",
       "유용성          0.903518\n",
       "만족감          1.498759\n",
       "dtype: float64"
      ]
     },
     "execution_count": 39,
     "metadata": {},
     "output_type": "execute_result"
    }
   ],
   "source": [
    "np.exp(result.params)"
   ]
  },
  {
   "cell_type": "code",
   "execution_count": null,
   "id": "d6cbb120",
   "metadata": {},
   "outputs": [],
   "source": []
  },
  {
   "cell_type": "markdown",
   "id": "5a529f20",
   "metadata": {},
   "source": [
    "## (체험) 제 3 유형 예제"
   ]
  },
  {
   "cell_type": "markdown",
   "id": "e2f58c88",
   "metadata": {},
   "source": [
    "## 데이터 읽기"
   ]
  },
  {
   "cell_type": "code",
   "execution_count": 40,
   "id": "238fb6a9",
   "metadata": {},
   "outputs": [],
   "source": [
    "import pandas as pd\n",
    "import numpy as np"
   ]
  },
  {
   "cell_type": "code",
   "execution_count": 41,
   "id": "768d9000",
   "metadata": {},
   "outputs": [
    {
     "data": {
      "text/html": [
       "<div>\n",
       "<style scoped>\n",
       "    .dataframe tbody tr th:only-of-type {\n",
       "        vertical-align: middle;\n",
       "    }\n",
       "\n",
       "    .dataframe tbody tr th {\n",
       "        vertical-align: top;\n",
       "    }\n",
       "\n",
       "    .dataframe thead th {\n",
       "        text-align: right;\n",
       "    }\n",
       "</style>\n",
       "<table border=\"1\" class=\"dataframe\">\n",
       "  <thead>\n",
       "    <tr style=\"text-align: right;\">\n",
       "      <th></th>\n",
       "      <th>PassengerId</th>\n",
       "      <th>Survived</th>\n",
       "      <th>Pclass</th>\n",
       "      <th>Name</th>\n",
       "      <th>Gender</th>\n",
       "      <th>Age</th>\n",
       "      <th>SibSp</th>\n",
       "      <th>Parch</th>\n",
       "      <th>Ticket</th>\n",
       "      <th>Fare</th>\n",
       "      <th>Cabin</th>\n",
       "      <th>Embarked</th>\n",
       "    </tr>\n",
       "  </thead>\n",
       "  <tbody>\n",
       "    <tr>\n",
       "      <th>0</th>\n",
       "      <td>1</td>\n",
       "      <td>0</td>\n",
       "      <td>3</td>\n",
       "      <td>Braund, Mr. Owen Harris</td>\n",
       "      <td>male</td>\n",
       "      <td>22.0</td>\n",
       "      <td>1</td>\n",
       "      <td>0</td>\n",
       "      <td>A/5 21171</td>\n",
       "      <td>7.2500</td>\n",
       "      <td>NaN</td>\n",
       "      <td>S</td>\n",
       "    </tr>\n",
       "    <tr>\n",
       "      <th>1</th>\n",
       "      <td>2</td>\n",
       "      <td>1</td>\n",
       "      <td>1</td>\n",
       "      <td>Cumings, Mrs. John Bradley (Florence Briggs Th...</td>\n",
       "      <td>female</td>\n",
       "      <td>38.0</td>\n",
       "      <td>1</td>\n",
       "      <td>0</td>\n",
       "      <td>PC 17599</td>\n",
       "      <td>71.2833</td>\n",
       "      <td>C85</td>\n",
       "      <td>C</td>\n",
       "    </tr>\n",
       "    <tr>\n",
       "      <th>2</th>\n",
       "      <td>3</td>\n",
       "      <td>1</td>\n",
       "      <td>3</td>\n",
       "      <td>Heikkinen, Miss. Laina</td>\n",
       "      <td>female</td>\n",
       "      <td>26.0</td>\n",
       "      <td>0</td>\n",
       "      <td>0</td>\n",
       "      <td>STON/O2. 3101282</td>\n",
       "      <td>7.9250</td>\n",
       "      <td>NaN</td>\n",
       "      <td>S</td>\n",
       "    </tr>\n",
       "    <tr>\n",
       "      <th>3</th>\n",
       "      <td>4</td>\n",
       "      <td>1</td>\n",
       "      <td>1</td>\n",
       "      <td>Futrelle, Mrs. Jacques Heath (Lily May Peel)</td>\n",
       "      <td>female</td>\n",
       "      <td>35.0</td>\n",
       "      <td>1</td>\n",
       "      <td>0</td>\n",
       "      <td>113803</td>\n",
       "      <td>53.1000</td>\n",
       "      <td>C123</td>\n",
       "      <td>S</td>\n",
       "    </tr>\n",
       "    <tr>\n",
       "      <th>4</th>\n",
       "      <td>5</td>\n",
       "      <td>0</td>\n",
       "      <td>3</td>\n",
       "      <td>Allen, Mr. William Henry</td>\n",
       "      <td>male</td>\n",
       "      <td>35.0</td>\n",
       "      <td>0</td>\n",
       "      <td>0</td>\n",
       "      <td>373450</td>\n",
       "      <td>8.0500</td>\n",
       "      <td>NaN</td>\n",
       "      <td>S</td>\n",
       "    </tr>\n",
       "  </tbody>\n",
       "</table>\n",
       "</div>"
      ],
      "text/plain": [
       "   PassengerId  Survived  Pclass  \\\n",
       "0            1         0       3   \n",
       "1            2         1       1   \n",
       "2            3         1       3   \n",
       "3            4         1       1   \n",
       "4            5         0       3   \n",
       "\n",
       "                                                Name  Gender   Age  SibSp  \\\n",
       "0                            Braund, Mr. Owen Harris    male  22.0      1   \n",
       "1  Cumings, Mrs. John Bradley (Florence Briggs Th...  female  38.0      1   \n",
       "2                             Heikkinen, Miss. Laina  female  26.0      0   \n",
       "3       Futrelle, Mrs. Jacques Heath (Lily May Peel)  female  35.0      1   \n",
       "4                           Allen, Mr. William Henry    male  35.0      0   \n",
       "\n",
       "   Parch            Ticket     Fare Cabin Embarked  \n",
       "0      0         A/5 21171   7.2500   NaN        S  \n",
       "1      0          PC 17599  71.2833   C85        C  \n",
       "2      0  STON/O2. 3101282   7.9250   NaN        S  \n",
       "3      0            113803  53.1000  C123        S  \n",
       "4      0            373450   8.0500   NaN        S  "
      ]
     },
     "execution_count": 41,
     "metadata": {},
     "output_type": "execute_result"
    }
   ],
   "source": [
    "df = pd.read_csv('./data/titanic.csv')\n",
    "df.head()"
   ]
  },
  {
   "cell_type": "code",
   "execution_count": 42,
   "id": "d0855144",
   "metadata": {},
   "outputs": [],
   "source": [
    "df['Gender'].replace({'male':0, 'female':1}, inplace=True)"
   ]
  },
  {
   "cell_type": "code",
   "execution_count": null,
   "id": "1be74c03",
   "metadata": {},
   "outputs": [],
   "source": []
  },
  {
   "cell_type": "markdown",
   "id": "72a9e6d5",
   "metadata": {},
   "source": [
    "1. Gender와 Survived 변수 간의 독립성 검정을 실시 하였을 때,\n",
    "   카이제곱 통계량은? (반올림하여 소수 셋째 자리까지 계산)"
   ]
  },
  {
   "cell_type": "code",
   "execution_count": 43,
   "id": "5a6bc36b",
   "metadata": {},
   "outputs": [
    {
     "name": "stdout",
     "output_type": "stream",
     "text": [
      "260.717\n"
     ]
    }
   ],
   "source": [
    "from scipy import stats\n",
    "obs  = pd.crosstab(df['Gender'], df['Survived'])\n",
    "# statistic(통계량), p_value, dof(자유도), expected_freq(기대빈도)\n",
    "statistic, p_value, dof, expected = stats.chi2_contingency(obs)\n",
    "\n",
    "print(round(statistic,3))"
   ]
  },
  {
   "cell_type": "code",
   "execution_count": null,
   "id": "dd545d7f",
   "metadata": {},
   "outputs": [],
   "source": []
  },
  {
   "cell_type": "markdown",
   "id": "dc9aa09f",
   "metadata": {},
   "source": [
    "2. Gender, SibSp, Parch, Fare를 독립변수로 사용하여 로지스틱\n",
    "   회귀모형을 실시하였을 때, Parch 변수의 계수값은? (반올림하여 소수 셋째 자리까지 계산)"
   ]
  },
  {
   "cell_type": "code",
   "execution_count": 44,
   "id": "3341ea1b",
   "metadata": {},
   "outputs": [
    {
     "name": "stdout",
     "output_type": "stream",
     "text": [
      "Optimization terminated successfully.\n",
      "         Current function value: 0.482065\n",
      "         Iterations 6\n",
      "                           Logit Regression Results                           \n",
      "==============================================================================\n",
      "Dep. Variable:               Survived   No. Observations:                  891\n",
      "Model:                          Logit   Df Residuals:                      886\n",
      "Method:                           MLE   Df Model:                            4\n",
      "Date:                Thu, 28 Mar 2024   Pseudo R-squ.:                  0.2761\n",
      "Time:                        02:58:43   Log-Likelihood:                -429.52\n",
      "converged:                       True   LL-Null:                       -593.33\n",
      "Covariance Type:            nonrobust   LLR p-value:                 1.192e-69\n",
      "==============================================================================\n",
      "                 coef    std err          z      P>|z|      [0.025      0.975]\n",
      "------------------------------------------------------------------------------\n",
      "Intercept     -1.6956      0.129    -13.098      0.000      -1.949      -1.442\n",
      "Gender         2.6422      0.186     14.197      0.000       2.277       3.007\n",
      "SibSp         -0.3539      0.098     -3.604      0.000      -0.546      -0.161\n",
      "Parch         -0.2007      0.112     -1.792      0.073      -0.420       0.019\n",
      "Fare           0.0147      0.003      5.553      0.000       0.010       0.020\n",
      "==============================================================================\n"
     ]
    }
   ],
   "source": [
    "from scipy import stats\n",
    "import statsmodels.formula.api as smf\n",
    "model  = smf.logit('Survived ~ Gender + SibSp + Parch + Fare', df)\n",
    "result = model.fit()\n",
    "print(result.summary())"
   ]
  },
  {
   "cell_type": "code",
   "execution_count": 45,
   "id": "9e131545",
   "metadata": {},
   "outputs": [
    {
     "name": "stdout",
     "output_type": "stream",
     "text": [
      "-0.201\n"
     ]
    }
   ],
   "source": [
    "print(round(result.params['Parch'],3))"
   ]
  },
  {
   "cell_type": "code",
   "execution_count": null,
   "id": "21aa35e2",
   "metadata": {},
   "outputs": [],
   "source": []
  },
  {
   "cell_type": "markdown",
   "id": "62cacfb9",
   "metadata": {},
   "source": [
    "3. 위 2번 문제에서 추정된 로지스틱 회귀모형에서 SibsP 변수가\n",
    "   한 단위 증가할 때 생존할 오즈비(Odds ratio) 값은? (반올림하여 소수 셋째 자리까지 계산)"
   ]
  },
  {
   "cell_type": "code",
   "execution_count": 46,
   "id": "fdb8f92c",
   "metadata": {},
   "outputs": [
    {
     "name": "stdout",
     "output_type": "stream",
     "text": [
      "0.702\n"
     ]
    }
   ],
   "source": [
    "print(round(np.exp(result.params['SibSp']),3))"
   ]
  },
  {
   "cell_type": "code",
   "execution_count": null,
   "id": "760436e4",
   "metadata": {},
   "outputs": [],
   "source": []
  },
  {
   "cell_type": "markdown",
   "id": "74248de5",
   "metadata": {},
   "source": [
    "---"
   ]
  },
  {
   "cell_type": "code",
   "execution_count": 47,
   "id": "a834910c",
   "metadata": {},
   "outputs": [],
   "source": [
    "# End of file"
   ]
  },
  {
   "cell_type": "code",
   "execution_count": null,
   "id": "964dd3cf",
   "metadata": {},
   "outputs": [],
   "source": []
  }
 ],
 "metadata": {
  "kernelspec": {
   "display_name": "Python 3 (ipykernel)",
   "language": "python",
   "name": "python3"
  },
  "language_info": {
   "codemirror_mode": {
    "name": "ipython",
    "version": 3
   },
   "file_extension": ".py",
   "mimetype": "text/x-python",
   "name": "python",
   "nbconvert_exporter": "python",
   "pygments_lexer": "ipython3",
   "version": "3.11.4"
  },
  "vp": {
   "vp_config_version": "1.0.0",
   "vp_menu_width": 273,
   "vp_note_display": false,
   "vp_note_width": 0,
   "vp_position": {
    "width": 278
   },
   "vp_section_display": false,
   "vp_signature": "VisualPython"
  }
 },
 "nbformat": 4,
 "nbformat_minor": 5
}
