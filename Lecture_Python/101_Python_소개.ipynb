{
 "cells": [
  {
   "cell_type": "markdown",
   "metadata": {},
   "source": [
    "# 파이썬 소개"
   ]
  },
  {
   "cell_type": "markdown",
   "metadata": {},
   "source": [
    "> ### 빅데이터 분석 및 머신러닝을 위한 파이썬"
   ]
  },
  {
   "cell_type": "markdown",
   "metadata": {},
   "source": [
    "---"
   ]
  },
  {
   "cell_type": "markdown",
   "metadata": {},
   "source": [
    "# 1. 파이썬 프로그래밍 소개"
   ]
  },
  {
   "cell_type": "markdown",
   "metadata": {},
   "source": [
    "### 1.1 파이썬 언어 소개 및 역사\n",
    "- 파이썬은 널리 쓰이는 범용, 고급 언어이다. 파이썬의 설계 철학은 코드 가독성에 중점을 두고 있으며 파이썬의 문법은 프로그래머가(C와 같은 언어에서 표현 가능한 것보다도) 더 적은 코드로도 자신의 생각을 표현하도록 한다. 파이썬은 프로그램의 크기에 상관없이 명확하게 프로그램 할 수 있는 구성 요소들을 제공한다. - 위키피디아\n",
    "- 1991년 네덜랜드 국립 연구소의 Guido Van Rossum에 의해 발표 (현 2018년, 27년의 역사)\n",
    "- “Python“이라는 이름은 코메디 프로그램 “Monty Python’s Flying Circus”에서 유래\n",
    "- Python의 원래 의미는 그리스 신화에 나오는 거대한 뱀\n",
    "- 2000년 Python 2 발표\n",
    "- 2008년 Python 3 발표\n",
    "    - Python 2의 경우 2020년까지만 Maintenance가 이루어질 예정"
   ]
  },
  {
   "cell_type": "markdown",
   "metadata": {},
   "source": [
    "### 1.2 파이썬 언어의 특징\n",
    "- 고급 프로그래밍 언어  \n",
    "- 인터프리터 방식의 언어( vs 컴파일러 )  \n",
    "- 인터랙티브 쉘(계산기, cmd, bash, ...)  \n",
    "- 객체지향 언어  \n",
    "- 독립적인 실행 환경 제공  "
   ]
  },
  {
   "cell_type": "markdown",
   "metadata": {},
   "source": [
    "#### <참고> 실행방식에 따른 분류"
   ]
  },
  {
   "cell_type": "markdown",
   "metadata": {},
   "source": [
    "|<center>구분|<center>인터프리터 방식|<center>컴파일러 방식|\n",
    "|---|---|---|\n",
    "|장점|프로그램의 이식성이 높다|실행속도가 빠르다\n",
    "|&nbsp;|배우기 쉽다|효율적인 실행 코드가 생성된다|\n",
    "|단점|실행속도가 느리다|배우기 어렵다\n",
    "|&nbsp;|실행시 인터프리터가 항상 필요하다|OS에 종속적이다(실행코드의 이식성이 없다)|\n",
    "|예|파이썬, 자바스크립트, 쉘스크립트 등|C, C++, Fortran 등|"
   ]
  },
  {
   "cell_type": "markdown",
   "metadata": {},
   "source": [
    "#### <참고> 프로그래밍 언어의 분류"
   ]
  },
  {
   "cell_type": "markdown",
   "metadata": {},
   "source": [
    "|<center>구분|<center>저급 프로그래밍 언어|<center>고급 프로그래밍 언어|\n",
    "|---|---|---|\n",
    "|장점|컴퓨터가 직접 이해하므로 실행이 빠르고 강력하다|사람이 이해하기 쉬우므로 프로그램의 작성이 쉽고 작성된 프로그램이 읽기 쉽다\n",
    "|&nbsp;|시스템을 세부적으로 조작 할 수 있다|오류의 수정이 쉽다|\n",
    "|단점|사람이 이해하기 어려우며 사용이 어렵다|저급 프로그래밍 언어에 비해 실행 속도가 느리다\n",
    "|&nbsp;|사용범위가 제한적이다|번역이라는 추가 작업이 필요하다|\n",
    "|예|기계어, 어셈블리어|C, C++, JAVA, Python, PHP, C# 등|"
   ]
  },
  {
   "cell_type": "markdown",
   "metadata": {},
   "source": [
    "### 1.3 Compiler / Interpreter"
   ]
  },
  {
   "cell_type": "markdown",
   "metadata": {},
   "source": [
    "Compiler로 생성한 프로그램\n",
    "- OS와 직접 Communication"
   ]
  },
  {
   "cell_type": "markdown",
   "metadata": {},
   "source": [
    "Interpreter( 계산기 )\n",
    "- Interpreter 프로그램을 통해서 OS와 Communication"
   ]
  },
  {
   "cell_type": "markdown",
   "metadata": {},
   "source": [
    "### 1.4 Interactive Shell / Script Language"
   ]
  },
  {
   "cell_type": "markdown",
   "metadata": {},
   "source": [
    "Interactive Shell\n",
    "- Data 분석, 파일럿 코드 작성, 등\n",
    "- 단계별 작업\n",
    "- 오류 및 정보(로그)등을 직접 확인하면서 작업\n",
    "- IPython, Jupyter notebook"
   ]
  },
  {
   "cell_type": "markdown",
   "metadata": {},
   "source": [
    "Script Language\n",
    "- 자동화, Deployment, 등\n",
    "- 오류 및 예외 처리 필요\n",
    "- 로그 생성 필요\n",
    "- Text editor, PyCharm, VSCode"
   ]
  },
  {
   "cell_type": "markdown",
   "metadata": {},
   "source": [
    "### 1.5 개발환경\n",
    "- Terminal, Editor\n",
    "- IPython, jupyter notebook, Anaconda, ...\n",
    "- jupyter notebook  "
   ]
  },
  {
   "cell_type": "markdown",
   "metadata": {},
   "source": [
    "### 1.6 패키지 인스톨\n",
    "- 소스 설치 (컴파일 설치) \n",
    "- 인스톨러 (바이너리 파일) 설치  \n",
    "- 원격자동설치 (pip install, apt-get, yum, ...)  "
   ]
  },
  {
   "cell_type": "markdown",
   "metadata": {},
   "source": [
    "#### <참고> 소프트웨어 다운로드 및 설치\n",
    "\n",
    "[파이썬 다운로드](https://www.python.org/downloads/)\n",
    "\n",
    "[아나콘다 다운로드](https://www.anaconda.com/download)\n"
   ]
  },
  {
   "cell_type": "markdown",
   "metadata": {},
   "source": [
    "---"
   ]
  },
  {
   "cell_type": "markdown",
   "metadata": {},
   "source": [
    "# 2. 파이썬 활용"
   ]
  },
  {
   "cell_type": "markdown",
   "metadata": {},
   "source": [
    "### 2.1 파이썬은 각 분야에서 활용\n",
    "- 스크립트, 시스템프로그램, 네트위크 프로그램, 웹, 데이터분석, 머신러닝 등\n",
    "- 처음부터 다 만들기보다는 패키지를 이용(단 학습필요)"
   ]
  },
  {
   "cell_type": "markdown",
   "metadata": {},
   "source": [
    "### 2.2 데이터분석에서 쓰는 파이썬\n",
    "- 전통적인 의미의 프로그램은 아님\n",
    "- 프로그램의 일부만 이용\n",
    "- 에러처리, 로그 등이 없어도 관계없음\n",
    "- 직접 눈으로 보면서 확인, 인터렉티브 쉘"
   ]
  },
  {
   "cell_type": "markdown",
   "metadata": {},
   "source": [
    "---"
   ]
  },
  {
   "cell_type": "markdown",
   "metadata": {},
   "source": [
    "# 3. Jupyter Notebook 활용"
   ]
  },
  {
   "cell_type": "markdown",
   "metadata": {},
   "source": [
    "### 3.1 Cell\n",
    "- Code: 파이썬 코드를 실행할 수 있는 블럭\n",
    "- Markdown: 마크다운 문법이 적용되는 블럭"
   ]
  },
  {
   "cell_type": "markdown",
   "metadata": {},
   "source": [
    "### 3.2 Mode\n",
    "- Edit Mode\n",
    "  - 셀 안의 내용을 편집할 수 있는 상태\n",
    "  - 셀 위에서 Enter 키를 눌러 셀 내용을 편집할 수 있다.  \n",
    "<br>\n",
    "- Command Mode\n",
    "  - 셀 밖에서 해당 노트북을 명령어로 컨트롤할 수 있는 상태\n",
    "  - 셀 위에서 ESC 키를 눌러 명령을 내릴 수 있다.\n",
    "  - `h`를 눌러 도움말을 볼 수 있다."
   ]
  },
  {
   "cell_type": "markdown",
   "metadata": {},
   "source": [
    "# 4. Visual Python 활용"
   ]
  },
  {
   "cell_type": "markdown",
   "metadata": {},
   "source": [
    "- [Visual Python](https://visualpython.ai)\n",
    "- GUI 환경으로 구성된 파이썬 코드 생성 패키지\n",
    "- Jupyter Extension으로 구성"
   ]
  },
  {
   "cell_type": "markdown",
   "metadata": {},
   "source": [
    "---"
   ]
  },
  {
   "cell_type": "code",
   "execution_count": null,
   "metadata": {},
   "outputs": [],
   "source": [
    "# End of file"
   ]
  },
  {
   "cell_type": "code",
   "execution_count": null,
   "metadata": {},
   "outputs": [],
   "source": []
  }
 ],
 "metadata": {
  "kernelspec": {
   "display_name": "Python 3 (ipykernel)",
   "language": "python",
   "name": "python3"
  },
  "language_info": {
   "codemirror_mode": {
    "name": "ipython",
    "version": 3
   },
   "file_extension": ".py",
   "mimetype": "text/x-python",
   "name": "python",
   "nbconvert_exporter": "python",
   "pygments_lexer": "ipython3",
   "version": "3.11.4"
  },
  "vip": {
   "base_numbering": 1,
   "nav_menu": {},
   "number_sections": true,
   "sideBar": true,
   "title_cell": "Visual Python",
   "title_sidebar": "Visual Python",
   "vip_cell": false,
   "vip_position": {},
   "vip_section_display": true,
   "vip_window_display": false
  },
  "vp": {
   "vp_config_version": "1.0.0",
   "vp_menu_width": 273,
   "vp_note_display": false,
   "vp_note_width": 0,
   "vp_position": {
    "width": 278
   },
   "vp_section_display": false,
   "vp_signature": "VisualPython"
  }
 },
 "nbformat": 4,
 "nbformat_minor": 2
}
